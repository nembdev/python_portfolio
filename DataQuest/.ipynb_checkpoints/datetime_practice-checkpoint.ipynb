{
 "cells": [
  {
   "cell_type": "markdown",
   "id": "08099df0",
   "metadata": {},
   "source": [
    "# [import datetime vs from datetime](https://stackoverflow.com/questions/15707532/import-datetime-v-s-from-datetime-import-datetime)"
   ]
  },
  {
   "cell_type": "code",
   "execution_count": 1,
   "id": "f57d3d7a",
   "metadata": {},
   "outputs": [],
   "source": [
    "import datetime as dt # module\n",
    "from datetime import datetime # class\n",
    "from datetime import timedelta # class"
   ]
  },
  {
   "cell_type": "code",
   "execution_count": 2,
   "id": "9d545eec",
   "metadata": {},
   "outputs": [
    {
     "data": {
      "text/plain": [
       "datetime.datetime(2022, 3, 15, 13, 30, 45)"
      ]
     },
     "execution_count": 2,
     "metadata": {},
     "output_type": "execute_result"
    }
   ],
   "source": [
    "# year month day hour minute second\n",
    "dt.datetime(2022, 3, 15, 13, 30, 45) # 3/15/2022 @ 1:30:45pm"
   ]
  },
  {
   "cell_type": "code",
   "execution_count": 3,
   "id": "7768a810",
   "metadata": {},
   "outputs": [
    {
     "data": {
      "text/plain": [
       "datetime.time(1, 16, 10)"
      ]
     },
     "execution_count": 3,
     "metadata": {},
     "output_type": "execute_result"
    }
   ],
   "source": [
    "dt.time(1, 16, 10) # 1:16:10 am"
   ]
  },
  {
   "cell_type": "markdown",
   "id": "98193924",
   "metadata": {},
   "source": [
    "## Timedelta"
   ]
  },
  {
   "cell_type": "code",
   "execution_count": 7,
   "id": "6937648b",
   "metadata": {},
   "outputs": [
    {
     "data": {
      "text/plain": [
       "datetime.datetime(2022, 5, 24, 1, 30, 55, 399949)"
      ]
     },
     "execution_count": 7,
     "metadata": {},
     "output_type": "execute_result"
    }
   ],
   "source": [
    "# grabs the current date\n",
    "datetime.now()"
   ]
  },
  {
   "cell_type": "code",
   "execution_count": 16,
   "id": "26a4b020",
   "metadata": {},
   "outputs": [
    {
     "data": {
      "text/plain": [
       "datetime.timedelta(days=365, seconds=19800)"
      ]
     },
     "execution_count": 16,
     "metadata": {},
     "output_type": "execute_result"
    }
   ],
   "source": [
    "# contruct a datetime object\n",
    "year_some_hours = timedelta(days=365, hours=5, minutes=30)\n",
    "year_some_hours"
   ]
  },
  {
   "cell_type": "code",
   "execution_count": 19,
   "id": "ebea8f96",
   "metadata": {},
   "outputs": [
    {
     "data": {
      "text/plain": [
       "datetime.datetime(2023, 5, 24, 7, 6, 51, 81660)"
      ]
     },
     "execution_count": 19,
     "metadata": {},
     "output_type": "execute_result"
    }
   ],
   "source": [
    "# returns a date that is 1 year, 5 hours and 30 minutes from now\n",
    "future_date = datetime.now() + year_some_hours\n",
    "future_date"
   ]
  },
  {
   "cell_type": "code",
   "execution_count": 20,
   "id": "73ac3530",
   "metadata": {},
   "outputs": [
    {
     "data": {
      "text/plain": [
       "datetime.datetime(2021, 5, 23, 20, 8, 13, 67178)"
      ]
     },
     "execution_count": 20,
     "metadata": {},
     "output_type": "execute_result"
    }
   ],
   "source": [
    "# returns a date that is 1 year, 5 hours and 30 minutes in the past\n",
    "future_date = datetime.now() - year_some_hours\n",
    "future_date"
   ]
  }
 ],
 "metadata": {
  "kernelspec": {
   "display_name": "Python 3 (ipykernel)",
   "language": "python",
   "name": "python3"
  },
  "language_info": {
   "codemirror_mode": {
    "name": "ipython",
    "version": 3
   },
   "file_extension": ".py",
   "mimetype": "text/x-python",
   "name": "python",
   "nbconvert_exporter": "python",
   "pygments_lexer": "ipython3",
   "version": "3.8.10"
  }
 },
 "nbformat": 4,
 "nbformat_minor": 5
}
