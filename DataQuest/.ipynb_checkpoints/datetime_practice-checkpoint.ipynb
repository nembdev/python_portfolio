{
 "cells": [
  {
   "cell_type": "markdown",
   "id": "b55c5cf2",
   "metadata": {},
   "source": [
    "# [import datetime vs from datetime](https://stackoverflow.com/questions/15707532/import-datetime-v-s-from-datetime-import-datetime)"
   ]
  },
  {
   "cell_type": "code",
   "execution_count": 1,
   "id": "cfee3019",
   "metadata": {},
   "outputs": [],
   "source": [
    "import datetime as dt # module\n",
    "from datetime import datetime # class\n",
    "from datetime import timedelta # class"
   ]
  },
  {
   "cell_type": "code",
   "execution_count": 2,
   "id": "bdd81fe7",
   "metadata": {},
   "outputs": [
    {
     "data": {
      "text/plain": [
       "datetime.datetime(2022, 3, 15, 13, 30, 45)"
      ]
     },
     "execution_count": 2,
     "metadata": {},
     "output_type": "execute_result"
    }
   ],
   "source": [
    "# year month day hour minute second\n",
    "dt.datetime(2022, 3, 15, 13, 30, 45) # 3/15/2022 @ 1:30:45pm"
   ]
  },
  {
   "cell_type": "code",
   "execution_count": 3,
   "id": "374be608",
   "metadata": {},
   "outputs": [
    {
     "data": {
      "text/plain": [
       "datetime.time(1, 16, 10)"
      ]
     },
     "execution_count": 3,
     "metadata": {},
     "output_type": "execute_result"
    }
   ],
   "source": [
    "dt.time(1, 16, 10) # 1:16:10 am"
   ]
  },
  {
   "cell_type": "markdown",
   "id": "08a0a873",
   "metadata": {},
   "source": [
    "## Timedelta"
   ]
  },
  {
   "cell_type": "code",
   "execution_count": 4,
   "id": "f156cc9c",
   "metadata": {},
   "outputs": [
    {
     "data": {
      "text/plain": [
       "datetime.datetime(2022, 5, 24, 19, 38, 55, 486485)"
      ]
     },
     "execution_count": 4,
     "metadata": {},
     "output_type": "execute_result"
    }
   ],
   "source": [
    "# grabs the current date\n",
    "datetime.now()"
   ]
  },
  {
   "cell_type": "code",
   "execution_count": 5,
   "id": "52d17dd6",
   "metadata": {},
   "outputs": [
    {
     "data": {
      "text/plain": [
       "datetime.timedelta(days=365, seconds=19800)"
      ]
     },
     "execution_count": 5,
     "metadata": {},
     "output_type": "execute_result"
    }
   ],
   "source": [
    "# contruct a datetime object\n",
    "year_some_hours = timedelta(days=365, hours=5, minutes=30)\n",
    "year_some_hours"
   ]
  },
  {
   "cell_type": "code",
   "execution_count": 6,
   "id": "6e379071",
   "metadata": {},
   "outputs": [
    {
     "data": {
      "text/plain": [
       "datetime.datetime(2023, 5, 25, 1, 8, 55, 513265)"
      ]
     },
     "execution_count": 6,
     "metadata": {},
     "output_type": "execute_result"
    }
   ],
   "source": [
    "# returns a date that is 1 year, 5 hours and 30 minutes from now\n",
    "future_date = datetime.now() + year_some_hours\n",
    "future_date"
   ]
  },
  {
   "cell_type": "code",
   "execution_count": 7,
   "id": "77e95595",
   "metadata": {},
   "outputs": [
    {
     "data": {
      "text/plain": [
       "datetime.datetime(2021, 5, 24, 14, 8, 55, 523990)"
      ]
     },
     "execution_count": 7,
     "metadata": {},
     "output_type": "execute_result"
    }
   ],
   "source": [
    "# returns a date that is 1 year, 5 hours and 30 minutes in the past\n",
    "future_date = datetime.now() - year_some_hours\n",
    "future_date"
   ]
  },
  {
   "cell_type": "code",
   "execution_count": 8,
   "id": "2e46d1a9",
   "metadata": {},
   "outputs": [
    {
     "name": "stdout",
     "output_type": "stream",
     "text": [
      "New Years was 143 days ago\n"
     ]
    }
   ],
   "source": [
    "# how long ago was a specific date?\n",
    "today = datetime.today()\n",
    "new_years = datetime(today.year, 1, 1)\n",
    "\n",
    "# comapare to time periods\n",
    "if new_years < today:\n",
    "        print(\"New Years was %d days ago\" % ((today - new_years).days))"
   ]
  },
  {
   "cell_type": "code",
   "execution_count": 9,
   "id": "c5578102",
   "metadata": {},
   "outputs": [
    {
     "data": {
      "text/plain": [
       "datetime.datetime(1991, 3, 22, 0, 0)"
      ]
     },
     "execution_count": 9,
     "metadata": {},
     "output_type": "execute_result"
    }
   ],
   "source": [
    "# extracting the time from a string\n",
    "dt.datetime.strptime(\"03-22-91\", \"%m-%d-%y\")"
   ]
  },
  {
   "cell_type": "code",
   "execution_count": 11,
   "id": "525929f2",
   "metadata": {},
   "outputs": [
    {
     "data": {
      "text/plain": [
       "datetime.datetime(1984, 12, 24, 0, 0)"
      ]
     },
     "execution_count": 11,
     "metadata": {},
     "output_type": "execute_result"
    }
   ],
   "source": [
    "dt.datetime.strptime(\"24/12/1984\", \"%d/%m/%Y\")"
   ]
  },
  {
   "cell_type": "code",
   "execution_count": 28,
   "id": "744c566a",
   "metadata": {},
   "outputs": [
    {
     "name": "stdout",
     "output_type": "stream",
     "text": [
      "2022 5 24\n"
     ]
    }
   ],
   "source": [
    "today = datetime.now()\n",
    "print(today.year, today.month, today.day)"
   ]
  }
 ],
 "metadata": {
  "kernelspec": {
   "display_name": "Python 3 (ipykernel)",
   "language": "python",
   "name": "python3"
  },
  "language_info": {
   "codemirror_mode": {
    "name": "ipython",
    "version": 3
   },
   "file_extension": ".py",
   "mimetype": "text/x-python",
   "name": "python",
   "nbconvert_exporter": "python",
   "pygments_lexer": "ipython3",
   "version": "3.8.10"
  }
 },
 "nbformat": 4,
 "nbformat_minor": 5
}
