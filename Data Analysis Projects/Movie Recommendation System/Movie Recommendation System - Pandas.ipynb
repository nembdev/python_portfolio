{
 "cells": [
  {
   "cell_type": "markdown",
   "id": "c6b7c232",
   "metadata": {},
   "source": [
    "# \"Find movies tailor'd to your tastes!\n",
    "\n",
    "An interactive tool that allows you to enter a movie, and 5 receive recommendations for similiar movies.\n",
    "\n",
    "# Dataset\n",
    "\n",
    "[Data: ml-25m](https://files.grouplens.org/datasets/movielens/ml-25m.zip)\n",
    "\n",
    "GroupLens Research has collected and made available rating data sets from the MovieLens web site (https://movielens.org). \n",
    "\n",
    "\"MovieLens 25M movie ratings. Stable benchmark dataset. 25 million ratings and one million tag applications applied to 62,000 movies by 162,000 users. Includes tag genome data with 15 million relevance scores across 1,129 tags. Released 12/2019\" - Provided By [GroupLens Research](https://grouplens.org/datasets/movielens/)\n"
   ]
  },
  {
   "cell_type": "markdown",
   "id": "169dc066",
   "metadata": {},
   "source": [
    "# Imports\n",
    "\n",
    "* Pandas for analysis and DataFrames\n",
    "* re for Regular Expression Support\n",
    "* sklearn for building our tfid x idf search engine\n",
    "* numpy for search engine\n",
    "* ipywidgets & display for interactivity"
   ]
  },
  {
   "cell_type": "code",
   "execution_count": 2,
   "id": "e40c517d",
   "metadata": {},
   "outputs": [
    {
     "data": {
      "application/javascript": [
       "\n",
       "            (function() {\n",
       "                jb_set_cell(\"movie_input = widgets.Text(\\n    value=\\\"Enter A Movie Title\\\", description=\\\"Movie Title:\\\", disabled=False\\n)\\nmovie_input\")\n",
       "            })();\n",
       "            "
      ],
      "text/plain": [
       "<IPython.core.display.Javascript object>"
      ]
     },
     "metadata": {},
     "output_type": "display_data"
    }
   ],
   "source": [
    "import pandas as pd\n",
    "import numpy as np\n",
    "import re  # reg express\n",
    "from sklearn.feature_extraction.text import TfidfVectorizer\n",
    "from sklearn.metrics.pairwise import cosine_similarity\n",
    "\n",
    "# interaction\n",
    "import ipywidgets as widgets\n",
    "from IPython.display import display\n",
    "\n",
    "# formating\n",
    "import jupyter_black\n",
    "\n",
    "jupyter_black.load(lab=False)"
   ]
  },
  {
   "cell_type": "markdown",
   "id": "d2d836df",
   "metadata": {},
   "source": [
    "# <p style=\"text-align: center;\">Movies Data Dictionary</p>\n",
    "\n",
    "\n",
    "|Column Name| Description|\n",
    "|-----------|-----------|\n",
    "|**movieid**|ID & Row Number|\n",
    "|**title**|Name of the Movie|\n",
    "|**genres**| category/type of movie|\n",
    "|                                           \n",
    "\n",
    "\n"
   ]
  },
  {
   "cell_type": "code",
   "execution_count": null,
   "id": "be004468",
   "metadata": {},
   "outputs": [],
   "source": [
    "movies = pd.read_csv(\"movies.csv\")\n",
    "movies"
   ]
  },
  {
   "cell_type": "code",
   "execution_count": null,
   "id": "8349de86",
   "metadata": {},
   "outputs": [],
   "source": [
    "def clean_title(title):\n",
    "    \"\"\"\n",
    "    cleans titles\n",
    "    removes special characters such as parentheses\n",
    "    \"\"\"\n",
    "\n",
    "    # search & remove special characters\n",
    "    return re.sub(\"[^a-zA-Z0-9 ]\", \"\", title)"
   ]
  },
  {
   "cell_type": "code",
   "execution_count": null,
   "id": "7a712cf9",
   "metadata": {},
   "outputs": [],
   "source": [
    "# apply clean_title to title column\n",
    "# to create a new column\n",
    "movies[\"clean_title\"] = movies[\"title\"].apply(clean_title)\n",
    "movies"
   ]
  },
  {
   "cell_type": "markdown",
   "id": "94df8312",
   "metadata": {},
   "source": [
    "## Movie Search System\n",
    "\n",
    "How does it work?\n",
    "\n",
    "Convert titles into sets of numbers using a Term Frequency Matrix or TF.\n",
    "\n",
    "Each column is unique \"term\".\n",
    "\n",
    "If a \"term\" is in a row and occurs in the title, its assigned a 1, else a 0.\n",
    "\n",
    "Then we use the Inverse Document Frequency or IDF method. This Helps find unique terms by assigning them a logarithmic value. \n",
    "\n",
    "> \"IDF looks at the number of times a term is used in other pieces of content in a database, assigning a higher value to words used less often. It is used to measure how much information a word adds to the piece of content. \" - [Source](https://www.seobility.net/en/wiki/Inverse_Document_Frequency)\n",
    "\n",
    "Combining our TF with IDF we create a vector that \"describes\" each movie title.\n",
    "\n",
    "We enter a title into our search engine. It gets converted into a numerical vector. This is then matched with other titles in our dataset."
   ]
  },
  {
   "cell_type": "code",
   "execution_count": null,
   "id": "d39c4268",
   "metadata": {},
   "outputs": [],
   "source": [
    "# ngrams vector, groups of two consecutive words\n",
    "# increases accuracy\n",
    "vectorizer = TfidfVectorizer(ngram_range=(1, 2))\n",
    "\n",
    "# create our matrix\n",
    "tfidf = vectorizer.fit_transform(movies[\"clean_title\"])"
   ]
  },
  {
   "cell_type": "code",
   "execution_count": null,
   "id": "6f7c335c",
   "metadata": {},
   "outputs": [],
   "source": [
    "# compute the similiarities\n",
    "def search(title):\n",
    "    \"\"\"\n",
    "    takes a search term\n",
    "    cleans it\n",
    "    vectorizes/transforms the term\n",
    "    \"\"\"\n",
    "    title = clean_title(title)\n",
    "\n",
    "    # creates our sparse matrix\n",
    "    query_vec = vectorizer.transform([title])\n",
    "\n",
    "    # takes our search matrix and compares it our clean_titles matrix\n",
    "    # returns a numpy vector\n",
    "    similarity = cosine_similarity(query_vec, tfidf).flatten()\n",
    "\n",
    "    # find the last 5 matches, most similiar\n",
    "    # returns the index of each result from our vector\n",
    "    # \"returns an array of indices of the same shape\"\n",
    "    indices = np.argpartition(similarity, -5)[-5:]\n",
    "\n",
    "    # search for those titles\n",
    "    # most similiar result is last, reverse\n",
    "    results = movies.iloc[indices][::-1]\n",
    "\n",
    "    return results"
   ]
  },
  {
   "cell_type": "code",
   "execution_count": null,
   "id": "f58327a2",
   "metadata": {
    "scrolled": true
   },
   "outputs": [],
   "source": [
    "# search(movies.iloc[0, 3])"
   ]
  },
  {
   "cell_type": "markdown",
   "id": "953b54e3",
   "metadata": {},
   "source": [
    "# Interaction\n",
    "\n",
    "We can add interactivity to our notebook using widgets and "
   ]
  },
  {
   "cell_type": "code",
   "execution_count": 5,
   "id": "c82f7450",
   "metadata": {},
   "outputs": [
    {
     "data": {
      "application/vnd.jupyter.widget-view+json": {
       "model_id": "6649ef55c156436ca4540bcedfb84140",
       "version_major": 2,
       "version_minor": 0
      },
      "text/plain": [
       "Text(value='Enter A Movie Title', description='Movie Title:')"
      ]
     },
     "metadata": {},
     "output_type": "display_data"
    }
   ],
   "source": [
    "# an input widget\n",
    "# \n",
    "movie_input = widgets.Text(\n",
    "    value=\"Enter A Movie Title\", description=\"Movie Title:\", disabled=False\n",
    ")\n",
    "movie_input"
   ]
  }
 ],
 "metadata": {
  "kernelspec": {
   "display_name": "Python 3 (ipykernel)",
   "language": "python",
   "name": "python3"
  },
  "language_info": {
   "codemirror_mode": {
    "name": "ipython",
    "version": 3
   },
   "file_extension": ".py",
   "mimetype": "text/x-python",
   "name": "python",
   "nbconvert_exporter": "python",
   "pygments_lexer": "ipython3",
   "version": "3.8.10"
  }
 },
 "nbformat": 4,
 "nbformat_minor": 5
}
