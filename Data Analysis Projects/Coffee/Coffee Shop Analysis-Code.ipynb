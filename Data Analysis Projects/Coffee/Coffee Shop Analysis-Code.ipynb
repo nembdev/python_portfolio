{
 "cells": [
  {
   "cell_type": "markdown",
   "id": "fbfb0923",
   "metadata": {},
   "source": [
    "<img src=\"pexels-afta-putta-gunawan-683039.jpg\" alt=\"coffee shop\">\n",
    "\n",
    "# Coffee Meet Data\n",
    "\n",
    "Our client, a fictional coffee chain in New York, has asked us to take a look at their records. They want insight into any important factors that may help improve their business. They've provided a selection of sales, product, customer, and other records.\n",
    "\n",
    "We'll use a combination of **Pandas** and **SQL** to pull out any relevant information. Then we'll chart this information using popular interactive visualization library **Plotly Express**.\n",
    "\n",
    "Click Here for fully Interactive Charts and output*: [nbviewer](https://nbviewer.org/github/nembdev/python_portfolio/blob/main/Data%20Analysis%20Projects/Coffee/nbviewer%20display%20code/Coffee%20Shop%20Analysis-Display.ipynb) \n",
    "\n",
    "## Dataset\n",
    "\n",
    "There are nine tables of sample retail data provided:\n",
    "\n",
    "* Sales Receipts\n",
    "* Pastry Inventory\n",
    "* Sales Targets\n",
    "* Customer\n",
    "* Dates\n",
    "* Product\n",
    "* Sales Outlet\n",
    "* Staff\n",
    "* Generation\n",
    "\n",
    "Source: [IBM/Kaggle](https://www.kaggle.com/datasets/ylchang/coffee-shop-sample-data-1113)\n",
    "\n",
    "\n",
    "## Potential Insights\n",
    "\n",
    "\n",
    "1. [Busiest time of day](#time)\n",
    "2. [Staff contribution ranking](#staff_rank)\n",
    "3. [Customer Analysis](#customer)\n",
    "4. Best selling products\n",
    "5. Customer generational makeup\n",
    "6. Online vs Instore\n",
    "7. KPI Example\n",
    "\n"
   ]
  },
  {
   "cell_type": "markdown",
   "id": "f35f370c",
   "metadata": {},
   "source": [
    "# Data Dictionary - Customers\n",
    "\n",
    "|Column Name| Description|\n",
    "|-----------|-----------|\n",
    "|**customer_id**|A unique id assigned upon registration to each customer|\n",
    "|**home_store**|The store a customer was registered at or has set as their main location|\n",
    "|**customer_first-name**|Customers first name and last name|\n",
    "|**customer_email**|Customers email used for registration|\n",
    "|**customer_since**|How long a customer has been registered or when they first started shopping.|\n",
    "|**loyalty_card_number**|A unique id used for a loyalty rewards program|\n",
    "|**birthdate**|Customers Date of Birth - YYYY-MM-DD|\n",
    "|**gender**|Customers registered gender|\n",
    "|**birth_year**|Customers Year of Birth |"
   ]
  },
  {
   "cell_type": "markdown",
   "id": "87c9b801",
   "metadata": {},
   "source": [
    "# Data Dictionary - Sales\n",
    "\n",
    "|Column Name| Description|\n",
    "|-----------|-----------|\n",
    "|**transaction_id**|A unique id assigned to each purchase.|\n",
    "|**transaction_date**|Calendar date when a transaction was made YYYY-MM-DD|\n",
    "|**transaction_time**|Time when a transaction was made HH-MM-SS|\n",
    "|**sales_outlet_id**|A unique used to identify which store handled the sale|\n",
    "|**staff_id**|Unique id assigned to each staff member. Based on which staff member processed the transaction|\n",
    "|**customer_id**|A unique id assigned upon registration to each customer|\n",
    "|**instore_yn**|Was this purchase made in store or online|\n",
    "|**order**|Unspecified|\n",
    "|**line_item_id**|Unspecified|\n",
    "|**product_id**|A unique id assigned to each product|\n",
    "|**quantity**|The amount of each product purchased|\n",
    "|**line_item_amount**|Unspecified|\n",
    "|**unit_price**|Unit price for the product specified|\n",
    "|**promo_item_yn**|Was the product a part of a promotional campaign|\n"
   ]
  },
  {
   "cell_type": "markdown",
   "id": "7b10f2fa",
   "metadata": {},
   "source": [
    "## Library Imports"
   ]
  },
  {
   "cell_type": "code",
   "execution_count": null,
   "id": "83090a08",
   "metadata": {},
   "outputs": [],
   "source": [
    "# data\n",
    "import pandas as pd\n",
    "\n",
    "# offline charting\n",
    "import plotly.io as pio\n",
    "\n",
    "pio.renderers.default = \"notebook\"\n",
    "pio.kaleido.scope.default_format = \"svg\"\n",
    "\n",
    "# visuals\n",
    "import plotly.express as px\n",
    "import plotly.graph_objects as go\n",
    "from plotly.subplots import make_subplots\n",
    "\n",
    "# date and time\n",
    "import datetime as dt\n",
    "from datetime import datetime\n",
    "\n",
    "# sql\n",
    "import sqlite3\n",
    "\n",
    "# system\n",
    "from pathlib import Path"
   ]
  },
  {
   "cell_type": "code",
   "execution_count": null,
   "id": "769425b0",
   "metadata": {},
   "outputs": [],
   "source": [
    "%%HTML\n",
    "<style>\n",
    "td {\n",
    "  font-size: 18px\n",
    "}\n",
    "</style>"
   ]
  },
  {
   "cell_type": "markdown",
   "id": "7674b098",
   "metadata": {},
   "source": [
    "## Database Connection\n",
    "\n",
    "In a real world scenario your dataset isn't alway contained in a handy cleaned csv file, but in a production database.\n",
    "\n",
    "Here we create and populate a sqlite3 database in order to simulate real world conditions.\n",
    "\n",
    "We use pandas to convert our sql queries into a dataframe for analysis."
   ]
  },
  {
   "cell_type": "code",
   "execution_count": null,
   "id": "f7ff2804",
   "metadata": {},
   "outputs": [],
   "source": [
    "# create our initial db file\n",
    "Path(\"coffee.db\").touch()\n",
    "\n",
    "# create a db connection\n",
    "connection = sqlite3.connect(\"coffee.db\")\n",
    "\n",
    "# cursor - database iterator\n",
    "c = connection.cursor()\n",
    "\n",
    "# create a sample table to verify\n",
    "# c.execute('''CREATE TABLE sample_table (u_id int, email text)''')\n",
    "\n",
    "# load the data into a dataframe\n",
    "customers = pd.read_csv(\"customer.csv\")\n",
    "\n",
    "# write df to a sqlite table\n",
    "customers.to_sql(\n",
    "    \"customers\", connection, if_exists=\"append\", index=False\n",
    ")  # 2246 results\n",
    "\n",
    "# data for our second table/df\n",
    "sales = pd.read_csv(\"2019_04_sales_reciepts.csv\")\n",
    "\n",
    "# second table\n",
    "sales.to_sql(\"sales\", connection, if_exists=\"append\", index=False)  # 49894 results\n",
    "\n",
    "# verify\n",
    "# fetchall returns an array of tuples\n",
    "# c.execute('''SELECT *  FROM customers''').fetchall()\n",
    "\n",
    "# verify second table\n",
    "# c.execute('''SELECT *  FROM sales''').fetchall()\n",
    "\n",
    "# join our two tables\n",
    "c.execute(\n",
    "    \"\"\"SELECT * FROM sales s LEFT JOIN customers c ON c.customer_id = s.customer_id\"\"\"\n",
    ")\n",
    "# c.fetchall()"
   ]
  },
  {
   "cell_type": "markdown",
   "id": "d1ebf6ef",
   "metadata": {},
   "source": [
    "## Query to Dataframe conversion\n",
    "\n",
    "Once we've pulled the data we need from our database, it needs to be converted into dataframe for ease of analysis.\n",
    "\n",
    "The customer_id column was duplicated after our conversion, so we can safely drop it using a ~ (bitwise negation operator) and a call to col.duplicated()."
   ]
  },
  {
   "cell_type": "code",
   "execution_count": null,
   "id": "9e786f60",
   "metadata": {
    "scrolled": false
   },
   "outputs": [],
   "source": [
    "# import our joined sql tables into a dataframe\n",
    "coffee = pd.read_sql(\n",
    "    \"\"\"SELECT * FROM sales s LEFT JOIN customers c ON c.customer_id = s.customer_id\"\"\",\n",
    "    connection,\n",
    ")\n",
    "\n",
    "# delete duplicate column\n",
    "coffee = coffee.loc[:, ~coffee.columns.duplicated()]"
   ]
  },
  {
   "cell_type": "code",
   "execution_count": null,
   "id": "0afae498",
   "metadata": {},
   "outputs": [],
   "source": [
    "coffee.head(5)"
   ]
  },
  {
   "cell_type": "code",
   "execution_count": null,
   "id": "a9fa95d5",
   "metadata": {},
   "outputs": [],
   "source": [
    "coffee.tail(5)"
   ]
  },
  {
   "cell_type": "code",
   "execution_count": null,
   "id": "8cbd89fa",
   "metadata": {
    "scrolled": false
   },
   "outputs": [],
   "source": [
    "coffee.info()"
   ]
  },
  {
   "cell_type": "code",
   "execution_count": null,
   "id": "335c9a17",
   "metadata": {},
   "outputs": [],
   "source": [
    "coffee.columns"
   ]
  },
  {
   "cell_type": "markdown",
   "id": "8afa5cb4",
   "metadata": {},
   "source": [
    "# Data Cleaning - Missing Values\n",
    "\n",
    "Our info method shows us that each of these columns contain missing values\"\n",
    "\n",
    "* home_store\n",
    "* customer_first-name \n",
    "* customer_email\n",
    "* customer_since\n",
    "* loyalty_card_number\n",
    "* birthdate \n",
    "* gender\n",
    "* birth_year           \n",
    "\n",
    "This was caused when we joined our sales and customer tables. \n",
    "\n",
    "For now we'll fill any missing values with a 0. \n",
    "\n",
    "This lets us convert as we need without running into numerical errors."
   ]
  },
  {
   "cell_type": "code",
   "execution_count": null,
   "id": "05094e22",
   "metadata": {},
   "outputs": [],
   "source": [
    "coffee = coffee.fillna(0)"
   ]
  },
  {
   "cell_type": "markdown",
   "id": "2ea5421e",
   "metadata": {},
   "source": [
    "## Data Cleaning - Column Rename\n",
    "\n",
    "### Customer -\n",
    "\n",
    "customer_id\thome_store\tcustomer_first-name\tcustomer_email\tcustomer_since\tloyalty_card_number\tbirthdate\tgender\tbirth_year\n",
    "\n",
    "### Sales\n",
    "\n",
    "transaction_id\ttransaction_date\ttransaction_time\tsales_outlet_id\tstaff_id\tcustomer_id\tinstore_yn\torder\tline_item_id\tproduct_id\tquantity\tline_item_amount\tunit_price\tpromo_item_yn\n",
    "\n",
    "### Changes \n",
    "Column names were shortened or adjusted for clarity.\n",
    "\n",
    "|Old Name|New Name|\n",
    "---------------|---------------\n",
    "|sales_outlet_id|shop_id|\n",
    "|instore_yn|instore_purchase|\n",
    "|promo_item_yn'|promo_item|\n",
    "|customer_first-name|name|\n",
    "|customer_email|email|\n",
    "|loyalty_card_number|loyalty_id"
   ]
  },
  {
   "cell_type": "code",
   "execution_count": null,
   "id": "ae54ce89",
   "metadata": {
    "scrolled": true
   },
   "outputs": [],
   "source": [
    "coffee.rename(\n",
    "    columns={\n",
    "        \"sales_outlet_id\": \"shop_id\",\n",
    "        \"instore_yn\": \"instore_purchase\",\n",
    "        \"promo_item_yn\": \"promo_item\",\n",
    "        \"customer_first-name\": \"customer_name\",\n",
    "        \"customer_email\": \"email\",\n",
    "        \"loyalty_card_number\": \"loyalty_id\",\n",
    "    },\n",
    "    inplace=True,\n",
    ")\n",
    "coffee.columns"
   ]
  },
  {
   "cell_type": "markdown",
   "id": "161ceae3",
   "metadata": {},
   "source": [
    "## Data Cleaning - Y/N to Bool\n",
    "\n",
    "The instore_purchase column signifies whether a purchase was made **in a store or online**. The value is stored as string of Y for yes or N for no. We will convert this into a **true/false** boolean for ease of analysis."
   ]
  },
  {
   "cell_type": "code",
   "execution_count": null,
   "id": "ba6f3c1b",
   "metadata": {},
   "outputs": [],
   "source": [
    "coffee.loc[coffee[\"instore_purchase\"] == \"Y\", \"instore_purchase\"] = True\n",
    "coffee.loc[coffee[\"instore_purchase\"] == \"N\", \"instore_purchase\"] = False\n",
    "coffee[\"instore_purchase\"] = coffee[\"instore_purchase\"].astype(bool)"
   ]
  },
  {
   "cell_type": "markdown",
   "id": "dcc46666",
   "metadata": {},
   "source": [
    "## Data Cleaning - Datetime Conversion\n",
    "\n",
    "We'll convert our time and date columns to datetime objects. This will help us manipulate and plot our time data correctly. Any missing birth_years are set to 1900, being the earliest year recognized by an excel file. This is simple substitution that can be filtered out later."
   ]
  },
  {
   "cell_type": "code",
   "execution_count": null,
   "id": "2a81a3ce",
   "metadata": {
    "scrolled": true
   },
   "outputs": [],
   "source": [
    "coffee[\"transaction_date\"] = pd.to_datetime(coffee[\"transaction_date\"])\n",
    "coffee[\"transaction_time\"] = pd.to_datetime(coffee[\"transaction_time\"])\n",
    "coffee[\"birthdate\"] = pd.to_datetime(coffee[\"birthdate\"])\n",
    "\n",
    "# special formating for year\n",
    "coffee[\"birth_year\"] = coffee[\"birth_year\"].astype(int)\n",
    "coffee.loc[\n",
    "    coffee[\"birth_year\"] == 0, \"birth_year\"\n",
    "] = 1900  # placeholder for Missing Values\n",
    "coffee[\"birth_year\"] = pd.to_datetime(coffee[\"birth_year\"], format=\"%Y\")\n",
    "\n",
    "# verify\n",
    "coffee[[\"transaction_date\", \"transaction_time\", \"birthdate\", \"birth_year\"]].head(5)"
   ]
  },
  {
   "cell_type": "code",
   "execution_count": null,
   "id": "31543af5",
   "metadata": {},
   "outputs": [],
   "source": [
    "# Misc Cleaning - converting home store datatype\n",
    "coffee[\"home_store\"] = coffee[\"home_store\"].astype(int)"
   ]
  },
  {
   "cell_type": "markdown",
   "id": "b5d88aba",
   "metadata": {},
   "source": [
    "## Information Gathering\n",
    "\n",
    "1. How many stores are we working with?\n",
    "2. When are the stores open/taking orders?"
   ]
  },
  {
   "cell_type": "markdown",
   "id": "76c2cfa5",
   "metadata": {},
   "source": [
    "## Number of Locations\n",
    "\n",
    "Our dataset contains **3 stores** with ids of 3, 5, and 8.\n",
    "\n",
    "Each store also takes online orders.\n",
    "\n",
    "We'll separate our coffee data based on store id and online vs inperson."
   ]
  },
  {
   "cell_type": "code",
   "execution_count": null,
   "id": "31541689",
   "metadata": {},
   "outputs": [],
   "source": [
    "# Stores\n",
    "coffee[\"shop_id\"].unique()"
   ]
  },
  {
   "cell_type": "code",
   "execution_count": null,
   "id": "6895cf1c",
   "metadata": {
    "scrolled": false
   },
   "outputs": [],
   "source": [
    "coffee_inperson = coffee[coffee[\"instore_purchase\"] == True]\n",
    "coffee_online = coffee[coffee[\"instore_purchase\"] == False]\n",
    "\n",
    "\n",
    "store3 = coffee[coffee[\"shop_id\"] == 3]\n",
    "store3_inperson = coffee.loc[\n",
    "    (coffee[\"shop_id\"] == 3) & (coffee[\"instore_purchase\"] == True)\n",
    "]\n",
    "store3_online = coffee.loc[\n",
    "    (coffee[\"shop_id\"] == 3) & (coffee[\"instore_purchase\"] == False)\n",
    "]\n",
    "\n",
    "store5 = coffee[coffee[\"shop_id\"] == 5]\n",
    "store5_inperson = coffee.loc[\n",
    "    (coffee[\"shop_id\"] == 5) & (coffee[\"instore_purchase\"] == True)\n",
    "]\n",
    "store5_online = coffee.loc[\n",
    "    (coffee[\"shop_id\"] == 5) & (coffee[\"instore_purchase\"] == False)\n",
    "]\n",
    "\n",
    "store8 = coffee[coffee[\"shop_id\"] == 8]\n",
    "store8_inperson = coffee.loc[\n",
    "    (coffee[\"shop_id\"] == 8) & (coffee[\"instore_purchase\"] == True)\n",
    "]\n",
    "store8_online = coffee.loc[\n",
    "    (coffee[\"shop_id\"] == 8) & (coffee[\"instore_purchase\"] == False)\n",
    "]"
   ]
  },
  {
   "cell_type": "markdown",
   "id": "b4f931dc",
   "metadata": {},
   "source": [
    "## Store Hours\n",
    "\n",
    "Based off our transactions times, we can deduce that the coffee shops **open around 6am and close around 8pm**. \n",
    "\n",
    "**Store 5** however opens as early as **1am**."
   ]
  },
  {
   "cell_type": "code",
   "execution_count": null,
   "id": "b68b27f8",
   "metadata": {},
   "outputs": [],
   "source": [
    "print(\"Store 3\")\n",
    "print(\"Earliest  Order:\", store3[\"transaction_time\"].dt.hour.min())\n",
    "print(\"Latest Order:\", store3[\"transaction_time\"].dt.hour.max(), \"\\n\")\n",
    "print(\"Store 5\")\n",
    "print(\"Earliest  Order:\", store5[\"transaction_time\"].dt.hour.min())\n",
    "print(\"Latest Order:\", store5[\"transaction_time\"].dt.hour.max(), \"\\n\")\n",
    "print(\"Store 8\")\n",
    "print(\"Earliest  Order:\", store8[\"transaction_time\"].dt.hour.min())\n",
    "print(\"Latest Order:\", store8[\"transaction_time\"].dt.hour.max())"
   ]
  },
  {
   "cell_type": "markdown",
   "id": "5757fd2b",
   "metadata": {},
   "source": [
    "## Busiest Time of Day\n",
    "<a id='time'></a>\n",
    "\n",
    "Knowing exactly when most of your customers/orders will arrive can help drastically increase profits, cut down on waste, and help you pinpoint when to increase staff availability.\n",
    "\n",
    "Using our transaction data we can identify spikes in customer shopping down to the exact hour and day."
   ]
  },
  {
   "cell_type": "code",
   "execution_count": null,
   "id": "adf07673",
   "metadata": {},
   "outputs": [],
   "source": [
    "# inperson transaction_date\n",
    "fig = make_subplots(\n",
    "    rows=2,\n",
    "    cols=2,\n",
    "    start_cell=\"top-left\",\n",
    "    subplot_titles=(\"Store 3\", \"Store 5\", \"Store 8\", \"All Stores\"),\n",
    ")\n",
    "\n",
    "fig.add_trace(\n",
    "    go.Histogram(x=store3_inperson[\"transaction_date\"].dt.day_name()), row=1, col=1\n",
    ")\n",
    "\n",
    "fig.add_trace(\n",
    "    go.Histogram(x=store5_inperson[\"transaction_date\"].dt.day_name()), row=1, col=2\n",
    ")\n",
    "\n",
    "fig.add_trace(\n",
    "    go.Histogram(x=store8_inperson[\"transaction_date\"].dt.day_name()), row=2, col=1\n",
    ")\n",
    "\n",
    "fig.add_trace(\n",
    "    go.Histogram(x=coffee_inperson[\"transaction_date\"].dt.day_name()), row=2, col=2\n",
    ")\n",
    "\n",
    "fig.update_layout(title_text=\"Store In-Person Daily Volume\", title_x=0.5)\n",
    "\n",
    "fig.update_layout(\n",
    "    yaxis=dict(range=[0, 1800]),\n",
    "    yaxis2=dict(range=[0, 1800]),\n",
    "    yaxis3=dict(range=[0, 1800]),\n",
    "    yaxis4=dict(range=[0, 4500]),\n",
    ")\n",
    "\n",
    "fig.show(\"notebook\")  # interactive nbviewer\n",
    "# fig.show(renderer=\"svg\", width=1000, height=800) # svg static for github"
   ]
  },
  {
   "cell_type": "code",
   "execution_count": null,
   "id": "90c925f5",
   "metadata": {},
   "outputs": [],
   "source": [
    "# inperson transaction_date\n",
    "fig = make_subplots(\n",
    "    rows=2,\n",
    "    cols=2,\n",
    "    start_cell=\"top-left\",\n",
    "    subplot_titles=(\"Store 3\", \"Store 5\", \"Store 8\", \"All Stores\"),\n",
    ")\n",
    "\n",
    "fig.add_trace(\n",
    "    go.Histogram(x=store3_online[\"transaction_date\"].dt.day_name()), row=1, col=1\n",
    ")\n",
    "\n",
    "fig.add_trace(\n",
    "    go.Histogram(x=store5_online[\"transaction_date\"].dt.day_name()), row=1, col=2\n",
    ")\n",
    "\n",
    "fig.add_trace(\n",
    "    go.Histogram(x=store8_online[\"transaction_date\"].dt.day_name()), row=2, col=1\n",
    ")\n",
    "\n",
    "fig.add_trace(\n",
    "    go.Histogram(x=coffee_online[\"transaction_date\"].dt.day_name()), row=2, col=2\n",
    ")\n",
    "\n",
    "fig.update_layout(title_text=\"Store Online Daily Volume\", title_x=0.5)\n",
    "\n",
    "fig.update_layout(\n",
    "    yaxis=dict(range=[0, 1800]),\n",
    "    yaxis2=dict(range=[0, 1800]),\n",
    "    yaxis3=dict(range=[0, 1800]),\n",
    "    yaxis4=dict(range=[0, 4500]),\n",
    ")\n",
    "\n",
    "fig.show(\"notebook\")  # interactive nbviewer\n",
    "# fig.show(renderer=\"svg\", width=1000, height=800) # svg static for github"
   ]
  },
  {
   "cell_type": "code",
   "execution_count": null,
   "id": "86da727d",
   "metadata": {},
   "outputs": [],
   "source": [
    "# inperson transaction_time\n",
    "fig = make_subplots(\n",
    "    rows=2,\n",
    "    cols=2,\n",
    "    start_cell=\"top-left\",\n",
    "    subplot_titles=(\"Store 3\", \"Store 5\", \"Store 8\", \"All Stores\"),\n",
    ")\n",
    "\n",
    "\n",
    "fig.add_trace(go.Histogram(x=store3_inperson[\"transaction_time\"].dt.hour), row=1, col=1)\n",
    "\n",
    "fig.add_trace(go.Histogram(x=store5_inperson[\"transaction_time\"].dt.hour), row=1, col=2)\n",
    "\n",
    "fig.add_trace(go.Histogram(x=store8_inperson[\"transaction_time\"].dt.hour), row=2, col=1)\n",
    "\n",
    "fig.add_trace(go.Histogram(x=coffee_inperson[\"transaction_time\"].dt.hour), row=2, col=2)\n",
    "\n",
    "fig.update_layout(\n",
    "    title_text=\"Store In-Person Hourly Volume\",\n",
    "    title_x=0.5,\n",
    "    xaxis={\"dtick\": 1},\n",
    "    xaxis2={\"dtick\": 1},\n",
    "    xaxis3={\"dtick\": 1},\n",
    ")\n",
    "\n",
    "fig.update_layout(\n",
    "    yaxis=dict(range=[0, 1200]),\n",
    "    yaxis2=dict(range=[0, 1200]),\n",
    "    yaxis3=dict(range=[0, 1200]),\n",
    "    yaxis4=dict(range=[0, 3500]),\n",
    ")\n",
    "\n",
    "\n",
    "fig.show(\"notebook\")  # interactive nbviewer\n",
    "# fig.show(renderer=\"svg\", width=1000, height=800) # svg static for github"
   ]
  },
  {
   "cell_type": "code",
   "execution_count": null,
   "id": "524fdb63",
   "metadata": {
    "scrolled": false
   },
   "outputs": [],
   "source": [
    "# online transaction_time\n",
    "fig = make_subplots(\n",
    "    rows=2,\n",
    "    cols=2,\n",
    "    start_cell=\"top-left\",\n",
    "    subplot_titles=(\"Store 3\", \"Store 5\", \"Store 8\", \"All Stores\"),\n",
    ")\n",
    "\n",
    "fig.add_trace(go.Histogram(x=store3_online[\"transaction_time\"].dt.hour), row=1, col=1)\n",
    "\n",
    "fig.add_trace(go.Histogram(x=store5_online[\"transaction_time\"].dt.hour), row=1, col=2)\n",
    "\n",
    "fig.add_trace(go.Histogram(x=store8_online[\"transaction_time\"].dt.hour), row=2, col=1)\n",
    "\n",
    "fig.add_trace(go.Histogram(x=coffee_online[\"transaction_time\"].dt.hour), row=2, col=2)\n",
    "\n",
    "fig.update_layout(\n",
    "    title_text=\"Store Online Hourly Volume\",\n",
    "    title_x=0.5,\n",
    "    xaxis={\"dtick\": 1},\n",
    "    xaxis2={\"dtick\": 1},\n",
    "    xaxis3={\"dtick\": 1},\n",
    ")\n",
    "\n",
    "fig.update_layout(\n",
    "    yaxis=dict(range=[0, 1200]),\n",
    "    yaxis2=dict(range=[0, 1200]),\n",
    "    yaxis3=dict(range=[0, 1200]),\n",
    "    yaxis4=dict(range=[0, 3500]),\n",
    ")\n",
    "\n",
    "\n",
    "fig.show(\"notebook\")  # interactive nbviewer\n",
    "# fig.show(renderer=\"svg\", width=1000, height=800) # svg static for github"
   ]
  },
  {
   "cell_type": "markdown",
   "id": "17ed8576",
   "metadata": {},
   "source": [
    "## Single Store Comparison - Store 3"
   ]
  },
  {
   "cell_type": "code",
   "execution_count": null,
   "id": "872b3d0d",
   "metadata": {
    "scrolled": false
   },
   "outputs": [],
   "source": [
    "# store 3 all comparison\n",
    "fig = make_subplots(\n",
    "    rows=2,\n",
    "    cols=2,\n",
    "    start_cell=\"top-left\",\n",
    "    subplot_titles=(\n",
    "        \"In-Person Hourly\",\n",
    "        \"In-Person Daily Volume\",\n",
    "        \"Online Hourly Volume\",\n",
    "        \"Online Daily Volume\",\n",
    "    ),\n",
    ")\n",
    "\n",
    "\n",
    "fig.add_trace(go.Histogram(x=store3_inperson[\"transaction_time\"].dt.hour), row=1, col=1)\n",
    "\n",
    "fig.add_trace(\n",
    "    go.Histogram(x=store3_inperson[\"transaction_date\"].dt.day_name()), row=1, col=2\n",
    ")\n",
    "\n",
    "fig.add_trace(go.Histogram(x=store3_online[\"transaction_time\"].dt.hour), row=2, col=1)\n",
    "\n",
    "fig.add_trace(\n",
    "    go.Histogram(x=store3_online[\"transaction_date\"].dt.day_name()), row=2, col=2\n",
    ")\n",
    "\n",
    "fig.update_layout(\n",
    "    title_text=\"Store 3\", title_x=0.5, xaxis={\"dtick\": 1}, xaxis3={\"dtick\": 1}\n",
    ")\n",
    "\n",
    "fig.update_layout(yaxis=dict(range=[0, 1200]), yaxis3=dict(range=[0, 1200]))\n",
    "\n",
    "\n",
    "fig.show(\"notebook\")  # interactive nbviewer\n",
    "# fig.show(renderer=\"svg\", width=1000, height=800) # svg static for github"
   ]
  },
  {
   "cell_type": "markdown",
   "id": "4ce8333d",
   "metadata": {},
   "source": [
    "## Staff contribution ranking\n",
    "<a id='staff_rank'></a>"
   ]
  },
  {
   "cell_type": "code",
   "execution_count": null,
   "id": "35e947d3",
   "metadata": {},
   "outputs": [],
   "source": [
    "# load in our staff data\n",
    "staff = pd.read_csv(\"staff.csv\")\n",
    "# drop two misformed empty columns\n",
    "staff.drop(staff.columns[[6, 7]], axis=1, inplace=True)\n",
    "\n",
    "# combine our staff name columns into one\n",
    "staff[\"staff_name\"] = staff[\"first_name\"] + \" \" + staff[\"last_name\"]\n",
    "# drop redundant naming columns\n",
    "staff.drop(staff.columns[[1, 2]], axis=1, inplace=True)\n",
    "\n",
    "# merge\n",
    "coffee = pd.merge(left=coffee, right=staff)\n",
    "coffee.columns"
   ]
  },
  {
   "cell_type": "code",
   "execution_count": null,
   "id": "f12f646b",
   "metadata": {
    "scrolled": false
   },
   "outputs": [],
   "source": [
    "# get all staff ids\n",
    "coffee[\"staff_id\"].unique()"
   ]
  },
  {
   "cell_type": "markdown",
   "id": "7ba72d1d",
   "metadata": {},
   "source": [
    "## Finding Total Sales "
   ]
  },
  {
   "cell_type": "code",
   "execution_count": null,
   "id": "a7da55b2",
   "metadata": {
    "scrolled": true
   },
   "outputs": [],
   "source": [
    "total_sales = []\n",
    "names = []\n",
    "pie = {}\n",
    "\n",
    "for staff_id in coffee[\"staff_id\"].unique():\n",
    "    \"\"\"\n",
    "    Takes an array/series of staff id's and calculates the total amount of sales by that staff memeber\n",
    "    uses quantity x unit_price\n",
    "    \"\"\"\n",
    "    # get staff id\n",
    "    current_staff = coffee[\"staff_id\"] == staff_id\n",
    "\n",
    "    # get staff name & store in list\n",
    "    name = coffee[current_staff][\"staff_name\"]\n",
    "    names.append(name.iloc[0])\n",
    "    name = name.iloc[0]\n",
    "\n",
    "    # find total sales by staff\n",
    "    cs_sales = coffee[current_staff][\"unit_price\"] * coffee[current_staff][\"quantity\"]\n",
    "    cs_sales_total = cs_sales.sum()\n",
    "\n",
    "    # calculate sum & store in list\n",
    "    total_sales.append(cs_sales_total)\n",
    "    pie[name] = cs_sales_total\n",
    "\n",
    "\n",
    "# convert into a dataframe\n",
    "total_sales_by_staff = pd.DataFrame({\"staff_name\": names, \"total_sales\": total_sales})\n",
    "# verify\n",
    "# total_sales_by_staff"
   ]
  },
  {
   "cell_type": "code",
   "execution_count": null,
   "id": "cf42816b",
   "metadata": {
    "scrolled": false
   },
   "outputs": [],
   "source": [
    "# setup up our chart\n",
    "fig = make_subplots(rows=1, cols=1)\n",
    "\n",
    "fig.add_trace(\n",
    "    go.Bar(\n",
    "        x=total_sales_by_staff[\"staff_name\"],\n",
    "        y=total_sales_by_staff[\"total_sales\"],\n",
    "        marker={\"color\": total_sales_by_staff[\"total_sales\"], \"colorscale\": \"agsunset\"},\n",
    "    )\n",
    ")\n",
    "\n",
    "fig.update_layout(\n",
    "    title_text=\"Total Sales Per Staff Member\",\n",
    "    title_x=0.5,\n",
    "    barmode=\"stack\",\n",
    "    xaxis={\"categoryorder\": \"total descending\"},\n",
    ")\n",
    "\n",
    "fig.show(\"notebook\")  # interactive nbviewer\n",
    "# fig.show(renderer=\"svg\", width=1000, height=800) # svg static for github"
   ]
  },
  {
   "cell_type": "code",
   "execution_count": null,
   "id": "49b6ed0e",
   "metadata": {},
   "outputs": [],
   "source": [
    "fig = make_subplots(rows=1, cols=1)\n",
    "\n",
    "fig.add_trace(\n",
    "    go.Bar(\n",
    "        x=total_sales_by_staff[\"staff_name\"][0:5],\n",
    "        y=total_sales_by_staff[\"total_sales\"][0:5],\n",
    "        marker={\n",
    "            \"color\": total_sales_by_staff[\"total_sales\"][0:5],\n",
    "            \"colorscale\": \"agsunset\",\n",
    "        },\n",
    "    )\n",
    ")\n",
    "\n",
    "fig.update_layout(\n",
    "    title_text=\"Top 5 Staff By Total Sales\",\n",
    "    title_x=0.5,\n",
    "    barmode=\"stack\",\n",
    "    xaxis={\"categoryorder\": \"total descending\"},\n",
    ")\n",
    "\n",
    "fig.show(\"notebook\")  # interactive nbviewer\n",
    "# fig.show(renderer=\"svg\", width=1000, height=800) # svg static for github"
   ]
  },
  {
   "cell_type": "code",
   "execution_count": null,
   "id": "5af218a6",
   "metadata": {},
   "outputs": [],
   "source": [
    "last_sales = total_sales_by_staff.sort_values(by=\"total_sales\")\n",
    "\n",
    "fig = make_subplots(rows=1, cols=1)\n",
    "\n",
    "fig.add_trace(\n",
    "    go.Bar(\n",
    "        x=last_sales[\"staff_name\"][0:5],\n",
    "        y=last_sales[\"total_sales\"][0:5],\n",
    "        marker={\"color\": last_sales[\"total_sales\"][0:5], \"colorscale\": \"agsunset\"},\n",
    "    )\n",
    ")\n",
    "\n",
    "fig.update_layout(\n",
    "    title_text=\"Bottom 5 Staff By Total Sales\",\n",
    "    title_x=0.5,\n",
    "    barmode=\"stack\",\n",
    "    xaxis={\"categoryorder\": \"total descending\"},\n",
    ")\n",
    "\n",
    "fig.show(\"notebook\")  # interactive nbviewer\n",
    "# fig.show(renderer=\"svg\", width=1000, height=800) # svg static for github"
   ]
  },
  {
   "cell_type": "code",
   "execution_count": null,
   "id": "b29d5e71",
   "metadata": {},
   "outputs": [],
   "source": [
    "# fig = px.pie(df, values='pop', names='country', title='Population of European continent')\n",
    "\n",
    "fig = make_subplots(rows=1, cols=1)\n",
    "\n",
    "fig.add_trace(go.Pie(values=total_sales, labels=names))\n",
    "\n",
    "fig.update_traces(hoverinfo=\"label+value\", textinfo=\"percent\")\n",
    "\n",
    "fig.update_layout(\n",
    "    title_text=\"Percentage of Sales By Staff Member\",\n",
    "    title_x=0.5,\n",
    "    barmode=\"stack\",\n",
    "    xaxis={\"categoryorder\": \"total descending\"},\n",
    ")\n",
    "\n",
    "fig.show(\"notebook\")  # interactive nbviewer"
   ]
  },
  {
   "cell_type": "markdown",
   "id": "12e6b932",
   "metadata": {},
   "source": [
    "# Customer Analysis\n",
    "\n",
    "1. Longest Registered Customer\n",
    "2. Customers by Total Purchases\n",
    "3. Customers by Age\n"
   ]
  }
 ],
 "metadata": {
  "kernelspec": {
   "display_name": "Python 3 (ipykernel)",
   "language": "python",
   "name": "python3"
  },
  "language_info": {
   "codemirror_mode": {
    "name": "ipython",
    "version": 3
   },
   "file_extension": ".py",
   "mimetype": "text/x-python",
   "name": "python",
   "nbconvert_exporter": "python",
   "pygments_lexer": "ipython3",
   "version": "3.9.12"
  }
 },
 "nbformat": 4,
 "nbformat_minor": 5
}
