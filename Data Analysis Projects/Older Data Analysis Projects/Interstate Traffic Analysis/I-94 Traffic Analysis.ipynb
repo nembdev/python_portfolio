{
 "cells": [
  {
   "cell_type": "markdown",
   "id": "1416e1c7",
   "metadata": {},
   "source": [
    "# Exploring westbound traffic on the I-94 Interstate highway\n",
    "\n",
    "\n",
    "[Data Source](https://archive.ics.uci.edu/ml/datasets/Metro+Interstate+Traffic+Volume)\n",
    "\n",
    "**Data Set Information**: Hourly Interstate 94 Westbound traffic volume for MN DoT ATR station 301, roughly midway between Minneapolis and St Paul, MN. Hourly weather features and holidays included for impacts on traffic volume.\n",
    "\n",
    "## Overview\n",
    "\n",
    "By analyzing weather and date/time data we can identify **westbound** traffic patterns, and **indicators of heavy traffic volume** on I-94 West.\n",
    "\n",
    "Our general assumption is that adverse weather would increase traffic flows, and that certain \"rush hours\" will consistently see heavy traffic. An exploratory analysis will allow us to test our hypothesis."
   ]
  },
  {
   "cell_type": "code",
   "execution_count": 1,
   "id": "5a417017",
   "metadata": {},
   "outputs": [],
   "source": [
    "import pandas as pd\n",
    "import seaborn as sns\n",
    "import matplotlib.pyplot as plt\n",
    "import matplotlib.style as style\n",
    "\n",
    "style.use(\"fivethirtyeight\")\n",
    "# allows visuals\n",
    "%matplotlib inline\n",
    "\n",
    "data = pd.read_csv(\"Metro_Interstate_Traffic_Volume.csv\")"
   ]
  },
  {
   "cell_type": "code",
   "execution_count": 2,
   "id": "52a1977e",
   "metadata": {},
   "outputs": [
    {
     "data": {
      "text/html": [
       "<div>\n",
       "<style scoped>\n",
       "    .dataframe tbody tr th:only-of-type {\n",
       "        vertical-align: middle;\n",
       "    }\n",
       "\n",
       "    .dataframe tbody tr th {\n",
       "        vertical-align: top;\n",
       "    }\n",
       "\n",
       "    .dataframe thead th {\n",
       "        text-align: right;\n",
       "    }\n",
       "</style>\n",
       "<table border=\"1\" class=\"dataframe\">\n",
       "  <thead>\n",
       "    <tr style=\"text-align: right;\">\n",
       "      <th></th>\n",
       "      <th>holiday</th>\n",
       "      <th>temp</th>\n",
       "      <th>rain_1h</th>\n",
       "      <th>snow_1h</th>\n",
       "      <th>clouds_all</th>\n",
       "      <th>weather_main</th>\n",
       "      <th>weather_description</th>\n",
       "      <th>date_time</th>\n",
       "      <th>traffic_volume</th>\n",
       "    </tr>\n",
       "  </thead>\n",
       "  <tbody>\n",
       "    <tr>\n",
       "      <th>0</th>\n",
       "      <td>None</td>\n",
       "      <td>288.28</td>\n",
       "      <td>0.0</td>\n",
       "      <td>0.0</td>\n",
       "      <td>40</td>\n",
       "      <td>Clouds</td>\n",
       "      <td>scattered clouds</td>\n",
       "      <td>2012-10-02 09:00:00</td>\n",
       "      <td>5545</td>\n",
       "    </tr>\n",
       "    <tr>\n",
       "      <th>1</th>\n",
       "      <td>None</td>\n",
       "      <td>289.36</td>\n",
       "      <td>0.0</td>\n",
       "      <td>0.0</td>\n",
       "      <td>75</td>\n",
       "      <td>Clouds</td>\n",
       "      <td>broken clouds</td>\n",
       "      <td>2012-10-02 10:00:00</td>\n",
       "      <td>4516</td>\n",
       "    </tr>\n",
       "    <tr>\n",
       "      <th>2</th>\n",
       "      <td>None</td>\n",
       "      <td>289.58</td>\n",
       "      <td>0.0</td>\n",
       "      <td>0.0</td>\n",
       "      <td>90</td>\n",
       "      <td>Clouds</td>\n",
       "      <td>overcast clouds</td>\n",
       "      <td>2012-10-02 11:00:00</td>\n",
       "      <td>4767</td>\n",
       "    </tr>\n",
       "    <tr>\n",
       "      <th>3</th>\n",
       "      <td>None</td>\n",
       "      <td>290.13</td>\n",
       "      <td>0.0</td>\n",
       "      <td>0.0</td>\n",
       "      <td>90</td>\n",
       "      <td>Clouds</td>\n",
       "      <td>overcast clouds</td>\n",
       "      <td>2012-10-02 12:00:00</td>\n",
       "      <td>5026</td>\n",
       "    </tr>\n",
       "    <tr>\n",
       "      <th>4</th>\n",
       "      <td>None</td>\n",
       "      <td>291.14</td>\n",
       "      <td>0.0</td>\n",
       "      <td>0.0</td>\n",
       "      <td>75</td>\n",
       "      <td>Clouds</td>\n",
       "      <td>broken clouds</td>\n",
       "      <td>2012-10-02 13:00:00</td>\n",
       "      <td>4918</td>\n",
       "    </tr>\n",
       "  </tbody>\n",
       "</table>\n",
       "</div>"
      ],
      "text/plain": [
       "  holiday    temp  rain_1h  snow_1h  clouds_all weather_main  \\\n",
       "0    None  288.28      0.0      0.0          40       Clouds   \n",
       "1    None  289.36      0.0      0.0          75       Clouds   \n",
       "2    None  289.58      0.0      0.0          90       Clouds   \n",
       "3    None  290.13      0.0      0.0          90       Clouds   \n",
       "4    None  291.14      0.0      0.0          75       Clouds   \n",
       "\n",
       "  weather_description            date_time  traffic_volume  \n",
       "0    scattered clouds  2012-10-02 09:00:00            5545  \n",
       "1       broken clouds  2012-10-02 10:00:00            4516  \n",
       "2     overcast clouds  2012-10-02 11:00:00            4767  \n",
       "3     overcast clouds  2012-10-02 12:00:00            5026  \n",
       "4       broken clouds  2012-10-02 13:00:00            4918  "
      ]
     },
     "execution_count": 2,
     "metadata": {},
     "output_type": "execute_result"
    }
   ],
   "source": [
    "data.head()"
   ]
  },
  {
   "cell_type": "code",
   "execution_count": 3,
   "id": "3b612672",
   "metadata": {},
   "outputs": [
    {
     "data": {
      "text/html": [
       "<div>\n",
       "<style scoped>\n",
       "    .dataframe tbody tr th:only-of-type {\n",
       "        vertical-align: middle;\n",
       "    }\n",
       "\n",
       "    .dataframe tbody tr th {\n",
       "        vertical-align: top;\n",
       "    }\n",
       "\n",
       "    .dataframe thead th {\n",
       "        text-align: right;\n",
       "    }\n",
       "</style>\n",
       "<table border=\"1\" class=\"dataframe\">\n",
       "  <thead>\n",
       "    <tr style=\"text-align: right;\">\n",
       "      <th></th>\n",
       "      <th>holiday</th>\n",
       "      <th>temp</th>\n",
       "      <th>rain_1h</th>\n",
       "      <th>snow_1h</th>\n",
       "      <th>clouds_all</th>\n",
       "      <th>weather_main</th>\n",
       "      <th>weather_description</th>\n",
       "      <th>date_time</th>\n",
       "      <th>traffic_volume</th>\n",
       "    </tr>\n",
       "  </thead>\n",
       "  <tbody>\n",
       "    <tr>\n",
       "      <th>48199</th>\n",
       "      <td>None</td>\n",
       "      <td>283.45</td>\n",
       "      <td>0.0</td>\n",
       "      <td>0.0</td>\n",
       "      <td>75</td>\n",
       "      <td>Clouds</td>\n",
       "      <td>broken clouds</td>\n",
       "      <td>2018-09-30 19:00:00</td>\n",
       "      <td>3543</td>\n",
       "    </tr>\n",
       "    <tr>\n",
       "      <th>48200</th>\n",
       "      <td>None</td>\n",
       "      <td>282.76</td>\n",
       "      <td>0.0</td>\n",
       "      <td>0.0</td>\n",
       "      <td>90</td>\n",
       "      <td>Clouds</td>\n",
       "      <td>overcast clouds</td>\n",
       "      <td>2018-09-30 20:00:00</td>\n",
       "      <td>2781</td>\n",
       "    </tr>\n",
       "    <tr>\n",
       "      <th>48201</th>\n",
       "      <td>None</td>\n",
       "      <td>282.73</td>\n",
       "      <td>0.0</td>\n",
       "      <td>0.0</td>\n",
       "      <td>90</td>\n",
       "      <td>Thunderstorm</td>\n",
       "      <td>proximity thunderstorm</td>\n",
       "      <td>2018-09-30 21:00:00</td>\n",
       "      <td>2159</td>\n",
       "    </tr>\n",
       "    <tr>\n",
       "      <th>48202</th>\n",
       "      <td>None</td>\n",
       "      <td>282.09</td>\n",
       "      <td>0.0</td>\n",
       "      <td>0.0</td>\n",
       "      <td>90</td>\n",
       "      <td>Clouds</td>\n",
       "      <td>overcast clouds</td>\n",
       "      <td>2018-09-30 22:00:00</td>\n",
       "      <td>1450</td>\n",
       "    </tr>\n",
       "    <tr>\n",
       "      <th>48203</th>\n",
       "      <td>None</td>\n",
       "      <td>282.12</td>\n",
       "      <td>0.0</td>\n",
       "      <td>0.0</td>\n",
       "      <td>90</td>\n",
       "      <td>Clouds</td>\n",
       "      <td>overcast clouds</td>\n",
       "      <td>2018-09-30 23:00:00</td>\n",
       "      <td>954</td>\n",
       "    </tr>\n",
       "  </tbody>\n",
       "</table>\n",
       "</div>"
      ],
      "text/plain": [
       "      holiday    temp  rain_1h  snow_1h  clouds_all  weather_main  \\\n",
       "48199    None  283.45      0.0      0.0          75        Clouds   \n",
       "48200    None  282.76      0.0      0.0          90        Clouds   \n",
       "48201    None  282.73      0.0      0.0          90  Thunderstorm   \n",
       "48202    None  282.09      0.0      0.0          90        Clouds   \n",
       "48203    None  282.12      0.0      0.0          90        Clouds   \n",
       "\n",
       "          weather_description            date_time  traffic_volume  \n",
       "48199           broken clouds  2018-09-30 19:00:00            3543  \n",
       "48200         overcast clouds  2018-09-30 20:00:00            2781  \n",
       "48201  proximity thunderstorm  2018-09-30 21:00:00            2159  \n",
       "48202         overcast clouds  2018-09-30 22:00:00            1450  \n",
       "48203         overcast clouds  2018-09-30 23:00:00             954  "
      ]
     },
     "execution_count": 3,
     "metadata": {},
     "output_type": "execute_result"
    }
   ],
   "source": [
    "data.tail()"
   ]
  },
  {
   "cell_type": "code",
   "execution_count": 4,
   "id": "a51189f7",
   "metadata": {},
   "outputs": [
    {
     "name": "stdout",
     "output_type": "stream",
     "text": [
      "<class 'pandas.core.frame.DataFrame'>\n",
      "RangeIndex: 48204 entries, 0 to 48203\n",
      "Data columns (total 9 columns):\n",
      " #   Column               Non-Null Count  Dtype  \n",
      "---  ------               --------------  -----  \n",
      " 0   holiday              48204 non-null  object \n",
      " 1   temp                 48204 non-null  float64\n",
      " 2   rain_1h              48204 non-null  float64\n",
      " 3   snow_1h              48204 non-null  float64\n",
      " 4   clouds_all           48204 non-null  int64  \n",
      " 5   weather_main         48204 non-null  object \n",
      " 6   weather_description  48204 non-null  object \n",
      " 7   date_time            48204 non-null  object \n",
      " 8   traffic_volume       48204 non-null  int64  \n",
      "dtypes: float64(3), int64(2), object(4)\n",
      "memory usage: 3.3+ MB\n"
     ]
    }
   ],
   "source": [
    "data.info()"
   ]
  },
  {
   "cell_type": "markdown",
   "id": "1ab2b60f",
   "metadata": {},
   "source": [
    "## Initial Look\n",
    "\n",
    "9 Columns\n",
    "\n",
    "48204 Entries, 0 Missing\n",
    "\n",
    "Mixed ints ,floats, and objects\n",
    "\n",
    "Weather data is split across 4 columns\n",
    "1. 1 hour increments of rain/snow\n",
    "2. 1 hour increments of snow\n",
    "3. a general weather type\n",
    "4. further details about that weather type\n",
    "\n",
    "## Next steps\n",
    "\n",
    "A deeper dive into the **traffic_volume** column.\n",
    "\n",
    "A histogram will help us visualize the distribution of traffic over time."
   ]
  },
  {
   "cell_type": "code",
   "execution_count": 5,
   "id": "11cd57b9",
   "metadata": {},
   "outputs": [
    {
     "data": {
      "text/plain": [
       "count    48204.000000\n",
       "mean      3259.818355\n",
       "std       1986.860670\n",
       "min          0.000000\n",
       "25%       1193.000000\n",
       "50%       3380.000000\n",
       "75%       4933.000000\n",
       "max       7280.000000\n",
       "Name: traffic_volume, dtype: float64"
      ]
     },
     "execution_count": 5,
     "metadata": {},
     "output_type": "execute_result"
    },
    {
     "data": {
      "image/png": "[encoded data removed]",
      "text/plain": [
       "<Figure size 432x288 with 1 Axes>"
      ]
     },
     "metadata": {
      "needs_background": "light"
     },
     "output_type": "display_data"
    }
   ],
   "source": [
    "data[\"traffic_volume\"].hist()\n",
    "data[\"traffic_volume\"].describe()"
   ]
  },
  {
   "cell_type": "markdown",
   "id": "052a9be3",
   "metadata": {},
   "source": [
    "## Observations so far\n",
    "\n",
    "Traffic volume is most frequently between 0-1000 and 4000-5000 units, with over 8000 hits for each respectively\n",
    "\n",
    "Traffic volume over 7000 units is the least frequent.\n",
    "\n",
    "Overall we can start to see that our traffic volume tends to spike up at certain points.\n",
    "\n",
    "## Next steps\n",
    "\n",
    "How much does **time of day** influence these spikes? \n",
    "\n",
    "We need to **seperate** our 24hr time period into night and day, **then plot** them for further analysis.\n",
    "\n",
    "Our approximate time periods:\n",
    "\n",
    "Daytime: 7am - 7pm\n",
    "\n",
    "Nighttime: 7pm- 7am"
   ]
  },
  {
   "cell_type": "code",
   "execution_count": 6,
   "id": "aeef0810",
   "metadata": {},
   "outputs": [],
   "source": [
    "# convert to datetime objects and store\n",
    "data[\"date_time\"] = pd.to_datetime(data[\"date_time\"])"
   ]
  },
  {
   "cell_type": "code",
   "execution_count": 7,
   "id": "7e339a77",
   "metadata": {},
   "outputs": [],
   "source": [
    "# 7 = 7am, 19 = 7pm\n",
    "# grab the hours and filter by time period\n",
    "day_time = (data.date_time.dt.hour >= 7) & (data.date_time.dt.hour <= 19)\n",
    "night_time = (data.date_time.dt.hour >= 19) | (data.date_time.dt.hour <= 7)\n",
    "\n",
    "# day_traffic = data[day_time]\n",
    "# night_traffic = data[night_time]"
   ]
  },
  {
   "cell_type": "markdown",
   "id": "df04e294",
   "metadata": {},
   "source": [
    "## Day/Night Traffic Volume Histograms"
   ]
  },
  {
   "cell_type": "code",
   "execution_count": 8,
   "id": "f62f2fff",
   "metadata": {},
   "outputs": [
    {
     "data": {
      "image/png": "[encoded data removed]",
      "text/plain": [
       "<Figure size 432x288 with 1 Axes>"
      ]
     },
     "metadata": {
      "needs_background": "light"
     },
     "output_type": "display_data"
    },
    {
     "data": {
      "text/plain": [
       "count    25838.000000\n",
       "mean      4649.292360\n",
       "std       1202.321987\n",
       "min          0.000000\n",
       "25%       4021.000000\n",
       "50%       4736.000000\n",
       "75%       5458.000000\n",
       "max       7280.000000\n",
       "Name: traffic_volume, dtype: float64"
      ]
     },
     "execution_count": 8,
     "metadata": {},
     "output_type": "execute_result"
    }
   ],
   "source": [
    "data[\"traffic_volume\"][day_time].hist()\n",
    "plt.title(\"Day Traffic Volume\")\n",
    "plt.xlabel(\"Range\")\n",
    "plt.ylabel(\"Frequency\")\n",
    "plt.xlim(0, 8200)\n",
    "plt.ylim(0, 7500)\n",
    "plt.show()\n",
    "\n",
    "data[\"traffic_volume\"][day_time].describe()"
   ]
  },
  {
   "cell_type": "markdown",
   "id": "e8ed13cb",
   "metadata": {},
   "source": [
    "## Day Analysis\n",
    "\n",
    "Distribution: Gaussian\n",
    "\n",
    "Most of our values lie directly in the middle, with a sharp drop off on both ends."
   ]
  },
  {
   "cell_type": "code",
   "execution_count": 9,
   "id": "281eff86",
   "metadata": {},
   "outputs": [
    {
     "data": {
      "image/png": "[encoded data removed]",
      "text/plain": [
       "<Figure size 432x288 with 1 Axes>"
      ]
     },
     "metadata": {
      "needs_background": "light"
     },
     "output_type": "display_data"
    },
    {
     "data": {
      "text/plain": [
       "count    26406.000000\n",
       "mean      2018.015375\n",
       "std       1713.201969\n",
       "min          0.000000\n",
       "25%        581.000000\n",
       "50%       1485.000000\n",
       "75%       2934.000000\n",
       "max       7260.000000\n",
       "Name: traffic_volume, dtype: float64"
      ]
     },
     "execution_count": 9,
     "metadata": {},
     "output_type": "execute_result"
    }
   ],
   "source": [
    "data[\"traffic_volume\"][night_time].hist()\n",
    "plt.title(\"Night Traffic Volume\")\n",
    "plt.xlabel(\"Range\")\n",
    "plt.ylabel(\"Frequency\")\n",
    "plt.xlim(0, 8200)\n",
    "plt.ylim(0, 7500)\n",
    "plt.show()\n",
    "\n",
    "data[\"traffic_volume\"][night_time].describe()"
   ]
  },
  {
   "cell_type": "markdown",
   "id": "4c96df14",
   "metadata": {},
   "source": [
    "## Night Analysis\n",
    "\n",
    "Distribution: Negative Right Skewed\n",
    "\n",
    "Here our values are concentrated on left, mostly in the 0-1000 range"
   ]
  },
  {
   "cell_type": "markdown",
   "id": "f863a696",
   "metadata": {},
   "source": [
    "## Observations\n",
    "\n",
    "1. Night traffic(After 7pm) is extremely low volume.\n",
    "2. Day Traffic has exponential growth\n",
    "\n",
    "We should **focus on our daytime** traffic data as its the busiest time, and will have the most samples to investigate\n",
    "\n",
    "# Next Steps\n",
    "\n",
    "We will use line plots to visualize our day time traffic data, focusing on daily and monthly volumes."
   ]
  },
  {
   "cell_type": "markdown",
   "id": "992e2502",
   "metadata": {},
   "source": [
    "# Average Monthly Traffic Volume"
   ]
  },
  {
   "cell_type": "code",
   "execution_count": 10,
   "id": "08755f35",
   "metadata": {},
   "outputs": [
    {
     "data": {
      "text/plain": [
       "month\n",
       "1.0     4385.217310\n",
       "2.0     4593.187798\n",
       "3.0     4761.529676\n",
       "4.0     4771.232816\n",
       "5.0     4788.966639\n",
       "6.0     4791.087488\n",
       "7.0     4502.628360\n",
       "8.0     4818.434690\n",
       "9.0     4755.709916\n",
       "10.0    4809.481678\n",
       "11.0    4588.910486\n",
       "12.0    4276.567081\n",
       "Name: traffic_volume, dtype: float64"
      ]
     },
     "execution_count": 10,
     "metadata": {},
     "output_type": "execute_result"
    }
   ],
   "source": [
    "# create a new month column\n",
    "# use datetime to extract the month\n",
    "data[\"month\"] = data[\"date_time\"][day_time].dt.month\n",
    "\n",
    "# aggregate by month and mean\n",
    "data_monthly = data.groupby(\"month\").mean()\n",
    "\n",
    "# filter day time traffic volume by month\n",
    "day_traffic_monthly = data_monthly[\"traffic_volume\"]\n",
    "\n",
    "# view\n",
    "day_traffic_monthly"
   ]
  },
  {
   "cell_type": "code",
   "execution_count": 11,
   "id": "70332a1b",
   "metadata": {},
   "outputs": [
    {
     "data": {
      "text/plain": [
       "Text(0, 0.5, 'Traffic Volume')"
      ]
     },
     "execution_count": 11,
     "metadata": {},
     "output_type": "execute_result"
    },
    {
     "data": {
      "image/png": "[encoded data removed]",
      "text/plain": [
       "<Figure size 432x288 with 1 Axes>"
      ]
     },
     "metadata": {
      "needs_background": "light"
     },
     "output_type": "display_data"
    }
   ],
   "source": [
    "plt.plot(day_traffic_monthly)\n",
    "plt.title(\"Average Day Time Traffic Volume by Month\")\n",
    "plt.xlabel(\"Month\")\n",
    "plt.ylabel(\"Traffic Volume\")"
   ]
  },
  {
   "cell_type": "markdown",
   "id": "92f7628b",
   "metadata": {},
   "source": [
    "## Observations\n",
    "\n",
    "As we can see Traffic Volume  sharply drops off in two places but is otherwise mostly around 4600/car average volume.\n",
    "\n",
    "\n",
    "At the beginning of the year, traffic slowly grows from an all time low of around 4276/cars in December, until it levels off around 4750/cars in March. \n",
    "\n",
    "Our first **downward** spike is during the month of **July**, with the second during **December**.\n",
    "\n",
    "The drop off in July needs further analysis before we draw any conclusions. The December drop off may be due to increasing amounts of winter weather such as **snow**.\n"
   ]
  },
  {
   "cell_type": "code",
   "execution_count": 12,
   "id": "53c9ad2b",
   "metadata": {},
   "outputs": [
    {
     "ename": "NameError",
     "evalue": "name 'data_daily' is not defined",
     "output_type": "error",
     "traceback": [
      "\u001b[0;31m---------------------------------------------------------------------------\u001b[0m",
      "\u001b[0;31mNameError\u001b[0m                                 Traceback (most recent call last)",
      "\u001b[0;32m/tmp/ipykernel_7633/1917979825.py\u001b[0m in \u001b[0;36m<module>\u001b[0;34m\u001b[0m\n\u001b[1;32m      7\u001b[0m \u001b[0;34m\u001b[0m\u001b[0m\n\u001b[1;32m      8\u001b[0m \u001b[0;31m# filter day time traffic volume by month\u001b[0m\u001b[0;34m\u001b[0m\u001b[0;34m\u001b[0m\u001b[0;34m\u001b[0m\u001b[0m\n\u001b[0;32m----> 9\u001b[0;31m \u001b[0mday_traffic_daily\u001b[0m \u001b[0;34m=\u001b[0m \u001b[0mdata_daily\u001b[0m\u001b[0;34m[\u001b[0m\u001b[0;34m\"traffic_volume\"\u001b[0m\u001b[0;34m]\u001b[0m\u001b[0;34m\u001b[0m\u001b[0;34m\u001b[0m\u001b[0m\n\u001b[0m\u001b[1;32m     10\u001b[0m \u001b[0;34m\u001b[0m\u001b[0m\n\u001b[1;32m     11\u001b[0m \u001b[0;31m# view\u001b[0m\u001b[0;34m\u001b[0m\u001b[0;34m\u001b[0m\u001b[0;34m\u001b[0m\u001b[0m\n",
      "\u001b[0;31mNameError\u001b[0m: name 'data_daily' is not defined"
     ]
    }
   ],
   "source": [
    "# create a new month column\n",
    "# use datetime to extract the month\n",
    "data[\"daily\"] = data[\"date_time\"][day_time].dt.dayofweek\n",
    "\n",
    "# aggregate by month and mean\n",
    "b = data.groupby(\"daily\").mean()\n",
    "\n",
    "# filter day time traffic volume by month\n",
    "day_traffic_daily = data_daily[\"traffic_volume\"]\n",
    "\n",
    "# view\n",
    "day_traffic_daily"
   ]
  },
  {
   "cell_type": "markdown",
   "id": "81d6b8d2",
   "metadata": {},
   "source": [
    "# Average Daily Traffic Volume"
   ]
  },
  {
   "cell_type": "code",
   "execution_count": null,
   "id": "985c4f25",
   "metadata": {},
   "outputs": [],
   "source": [
    "days = [\"Monday\", \"Tuesday\", \"Wednesday\", \"Thursday\", \"Friday\", \"Saturday\", \"Sunday\"]\n",
    "\n",
    "plt.plot(day_traffic_daily)\n",
    "plt.xticks([0, 1, 2, 3, 4, 5, 6], days)\n",
    "plt.title(\"Average Day Time Traffic Volume by Day\")\n",
    "plt.xlabel(\"Day\")\n",
    "plt.ylabel(\"Traffic Volume\")\n",
    "plt.show()"
   ]
  },
  {
   "cell_type": "markdown",
   "id": "e50a9c9a",
   "metadata": {},
   "source": [
    "# Observations\n",
    "\n",
    "Here we can very obviously see consistent traffic during the traditional **workweek** of Monday through Friday\n",
    "\n",
    "## Next Steps\n",
    "\n",
    "We will seperate our data into a weekend and weekday set. Then we can analyze the traffic by hour."
   ]
  },
  {
   "cell_type": "code",
   "execution_count": null,
   "id": "3b47b93f",
   "metadata": {
    "scrolled": false
   },
   "outputs": [],
   "source": [
    "data"
   ]
  },
  {
   "cell_type": "code",
   "execution_count": null,
   "id": "ccbeb2a7",
   "metadata": {},
   "outputs": [],
   "source": [
    "# extract each hour\n",
    "data[\"hour\"] = data[\"date_time\"].dt.hour\n",
    "\n",
    "# seperate m-f(0-4) from s-su(5-6)\n",
    "work_days = data.copy()[data['daily'] <= 4]\n",
    "\n",
    "# seperate m-f from s-su\n",
    "non_work_days = data.copy()[data['daily'] >= 5]\n",
    "\n",
    "# seperated mean \n",
    "work_days_hourly = work_days.groupby('hour').mean()\n",
    "non_work_days_hourly = non_work_days.groupby('hour').mean()"
   ]
  },
  {
   "cell_type": "code",
   "execution_count": null,
   "id": "d119e49b",
   "metadata": {},
   "outputs": [],
   "source": [
    "work_days_hourly"
   ]
  },
  {
   "cell_type": "code",
   "execution_count": null,
   "id": "41bac974",
   "metadata": {},
   "outputs": [],
   "source": [
    "non_work_days_hourly"
   ]
  },
  {
   "cell_type": "code",
   "execution_count": null,
   "id": "bc0c8a4e",
   "metadata": {},
   "outputs": [],
   "source": [
    "plt.plot(work_days_hourly)\n",
    "plt.title(\"Hourly Work Week Traffic\")\n",
    "plt.xlabel(\"Hours\")\n",
    "plt.ylabel(\"Traffic Flow\")\n",
    "plt.xlim(5,20)\n",
    "plt.ylim(1000, 7000)"
   ]
  },
  {
   "cell_type": "code",
   "execution_count": null,
   "id": "f7dc5a7f",
   "metadata": {},
   "outputs": [],
   "source": [
    "plt.plot(non_work_days_hourly)\n",
    "plt.title(\"Hourly Weekend Traffic\")\n",
    "plt.xlabel(\"Hours\")\n",
    "plt.ylabel(\"Traffic Flow\")\n",
    "plt.xlim(5,20)\n",
    "plt.ylim(1000, 7000)"
   ]
  },
  {
   "cell_type": "markdown",
   "id": "f2d55195",
   "metadata": {},
   "source": [
    "# Observations\n",
    "\n",
    "## Next Steps\n",
    "Finding the correlation between weather and traffic volume"
   ]
  },
  {
   "cell_type": "code",
   "execution_count": null,
   "id": "22a78f50",
   "metadata": {},
   "outputs": [],
   "source": [
    "data.corr()[\"traffic_volume\"][[\"temp\", \"rain_1h\", \"snow_1h\", \"clouds_all\"]]"
   ]
  },
  {
   "cell_type": "markdown",
   "id": "7aafb197",
   "metadata": {},
   "source": [
    "# Observations\n",
    "\n",
    "## Next Steps\n",
    "weather_main and weather_description"
   ]
  },
  {
   "cell_type": "code",
   "execution_count": null,
   "id": "4b20312f",
   "metadata": {},
   "outputs": [],
   "source": [
    "weather_main_grouping = data.groupby(\"weather_main\").mean()\n",
    "#print(weather_main_grouping)\n",
    "weather_main_grouping[\"traffic_volume\"].plot.barh()\n",
    "plt.show()"
   ]
  },
  {
   "cell_type": "code",
   "execution_count": null,
   "id": "b4dd2769",
   "metadata": {},
   "outputs": [],
   "source": [
    "weather_desc_grouping = data.groupby(\"weather_description\").mean()\n",
    "weather_desc_grouping[\"traffic_volume\"].plot.barh(figsize=(5,10))\n",
    "plt.show()"
   ]
  },
  {
   "cell_type": "markdown",
   "id": "4553e0ce",
   "metadata": {},
   "source": [
    "# Conclusions "
   ]
  }
 ],
 "metadata": {
  "kernelspec": {
   "display_name": "Python 3 (ipykernel)",
   "language": "python",
   "name": "python3"
  },
  "language_info": {
   "codemirror_mode": {
    "name": "ipython",
    "version": 3
   },
   "file_extension": ".py",
   "mimetype": "text/x-python",
   "name": "python",
   "nbconvert_exporter": "python",
   "pygments_lexer": "ipython3",
   "version": "3.9.5"
  }
 },
 "nbformat": 4,
 "nbformat_minor": 5
}
