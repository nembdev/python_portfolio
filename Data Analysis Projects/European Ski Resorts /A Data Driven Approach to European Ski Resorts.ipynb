{
 "cells": [
  {
   "cell_type": "markdown",
   "id": "2794621f",
   "metadata": {},
   "source": [
    "# A Data Driven Approach to European Ski Resorts\n",
    "\n",
    "Ski resorts come in all different shapes, sizes, and prices. There are thousands of european ski resorts known for their luscious mountains, and elegant experiences. Today we'll take a closer look at one the world's most prestigious sports.\n",
    "\n",
    "We'll use a **manual, library free** analysis to see what kind of basic insights we can extract. \n",
    "\n",
    "Afterwards a **second analysis, and visualization** will be done using pandas, numpy, and seaborn.\n",
    "\n",
    "## Our Dataset\n",
    "\n",
    "Our dataset features a sample of 376 european ski resorts provided by  ski-resort-stats.com, made availble through kaggle.\n",
    "\n",
    "[Kaggle Dataset](https://www.kaggle.com/thomasnibb/european-ski-resorts)\n",
    "\n",
    "[Data Source: Ski-resort-stats.com](Ski-resort-stats.com)\n",
    "\n",
    "## Potential Questions\n",
    "\n",
    "1. Whats the min, max, and mean price of a Daypass?\n",
    "2. Is there any correlation between price and available slope diffculty?\n",
    "3. How many resorts are available in a given price range?\n",
    "4. What country has the most affordable prices at each difficulty level?\n",
    "5. What slope difficulty range is most represented in europe? "
   ]
  },
  {
   "cell_type": "markdown",
   "id": "416d5a4f",
   "metadata": {},
   "source": [
    "# Data Dictionary \n",
    "\n",
    "|Column Name| Description|\n",
    "|-----------|-----------|\n",
    "|**#**|Rownumber|\n",
    "|**Resort**|The name at the ski & snowboard resort.\n",
    "|**Country**| The name of the country in which the resort is located.|\n",
    "|**HighestPoint**|The highest mountain point at the ski resort.|\n",
    "|**LowestPoint**|The lowest possible point to ski at the ski resort.|\n",
    "|**DayPassPriceAdult**| The price shows what it costs for 1 adult for 1 day in the main season in Euros €.|\n",
    "|**BeginnerSlope**|The total amount of “beginner” slopes in kilometer at the resort. “Beginner slopes” contains “children”, “blue” and “green” slopes.|\n",
    "|**IntermediateSlope**| The total amount of “intermediate” slopes in kilometer at the resort.“Intermediate slopes” contains “red” slopes. |\n",
    "|**DifficultSlope**| The total amount of “difficult” slopes in kilometer at the resort.“Difficult slopes” contains “black”, “advanced” and”expert” slopes.| \n",
    "|**TotalSlope**| The sum of “beginner slopes” + “intermediate slopes” + “difficult slopes”|\n",
    "|**Snowparks**| Does the resort have one or more snowparks, or not?|\n",
    "|**NightSki**|Does the resort offer skiing on illuminated slopes?|\n",
    "|**SurfaceLifts**| The amount of lifts in this category: T-bar, Sunkidslift, Rope lifts and people mower.|\n",
    "|**ChairLifts**| The total amount of chairlifts.|\n",
    "|**GondolaLifts**|The amount of lifts in this category: Gondola, Train lifts, Funicular, Combined gondola and chairlifts, Helicopter lifts, Snowcats and Aerial tramways.|\n",
    "|**TotalLifts**| The sum of “surface lifts etc” + “gondola etc” + “chairlifts etc”|\n",
    "|**LiftCapacity**| How many passengers can the lift system at the ski resort mowe in one hour?|\n",
    "|**SnowCannons**| The total amount of snow cannons at the ski resort.|"
   ]
  },
  {
   "cell_type": "markdown",
   "id": "c6853bd4",
   "metadata": {},
   "source": [
    "### Imports & Initial Setup\n",
    "\n",
    "We're keeping it simple today. We'll try our hand at a library-less analysis."
   ]
  },
  {
   "cell_type": "code",
   "execution_count": 1,
   "id": "71e3721e",
   "metadata": {},
   "outputs": [],
   "source": [
    "# to import our file\n",
    "from csv import reader"
   ]
  },
  {
   "cell_type": "code",
   "execution_count": 2,
   "id": "50235cf2",
   "metadata": {},
   "outputs": [
    {
     "data": {
      "text/plain": [
       "['',\n",
       " 'Resort',\n",
       " 'Country',\n",
       " 'HighestPoint',\n",
       " 'LowestPoint',\n",
       " 'DayPassPriceAdult',\n",
       " 'BeginnerSlope',\n",
       " 'IntermediateSlope',\n",
       " 'DifficultSlope',\n",
       " 'TotalSlope',\n",
       " 'Snowparks',\n",
       " 'NightSki',\n",
       " 'SurfaceLifts',\n",
       " 'ChairLifts',\n",
       " 'GondolaLifts',\n",
       " 'TotalLifts',\n",
       " 'LiftCapacity',\n",
       " 'SnowCannons']"
      ]
     },
     "execution_count": 2,
     "metadata": {},
     "output_type": "execute_result"
    }
   ],
   "source": [
    "# open file\n",
    "o_file = open(\"European_Ski_Resorts.csv\")\n",
    "\n",
    "# read file\n",
    "r_file = reader(o_file)\n",
    "\n",
    "# convert to list\n",
    "ski_data = list(r_file)\n",
    "\n",
    "# verify header/column names\n",
    "ski_data[0]"
   ]
  },
  {
   "cell_type": "markdown",
   "id": "dbef94c9",
   "metadata": {},
   "source": [
    "## Brief Overview of our dataset\n",
    "\n",
    "Before we began our quest for answers, its a good idea to find out what the data we're working with generally looks like."
   ]
  },
  {
   "cell_type": "code",
   "execution_count": 3,
   "id": "297116a7",
   "metadata": {
    "scrolled": true
   },
   "outputs": [
    {
     "name": "stdout",
     "output_type": "stream",
     "text": [
      "Head\n",
      " : 1\n",
      "Resort : Alpendorf (Ski amedé)\n",
      "Country : Austria\n",
      "HighestPoint : 1980\n",
      "LowestPoint : 740\n",
      "DayPassPriceAdult : 52\n",
      "BeginnerSlope : 30\n",
      "IntermediateSlope : 81\n",
      "DifficultSlope : 4\n",
      "TotalSlope : 115\n",
      "Snowparks : Yes\n",
      "NightSki : No\n",
      "SurfaceLifts : 22\n",
      "ChairLifts : 16\n",
      "GondolaLifts : 11\n",
      "TotalLifts : 49\n",
      "LiftCapacity : 75398\n",
      "SnowCannons : 600\n",
      "\n",
      "\n",
      "Tail\n",
      " :  376\n",
      "Resort :  Zauchensee\n",
      "Country :  Austria\n",
      "HighestPoint :  2188\n",
      "LowestPoint :  1000\n",
      "DayPassPriceAdult :  52\n",
      "BeginnerSlope :  23\n",
      "IntermediateSlope :  16\n",
      "DifficultSlope :  4\n",
      "TotalSlope :  44\n",
      "Snowparks :  Yes\n",
      "NightSki :  No\n",
      "SurfaceLifts :  9\n",
      "ChairLifts :  6\n",
      "GondolaLifts :  4\n",
      "TotalLifts :  19\n",
      "LiftCapacity :  25988\n",
      "SnowCannons :  113\n"
     ]
    }
   ],
   "source": [
    "# view first resort row/head\n",
    "print(\"Head\")\n",
    "for num in range(len(ski_data[0])):\n",
    "    print(ski_data[0][num], \":\", ski_data[1][num])\n",
    "    # print(type(ski_data[1][num])) all strings\n",
    "\n",
    "print(\"\\n\")\n",
    "print(\"Tail\")\n",
    "\n",
    "# view last resort row/tail\n",
    "for num in range(len(ski_data[0])):\n",
    "    print(ski_data[0][num], \": \", ski_data[376][num])"
   ]
  },
  {
   "cell_type": "markdown",
   "id": "b0b3c7be",
   "metadata": {},
   "source": [
    "## What do we know so far?\n",
    "\n",
    "1. All of our data is stored as strings regardless of the actual value type.\n",
    "2. 14/17 of our columns should be converted to integers.\n",
    "4. Snowparks & NightSki could be converted into booleans.\n",
    "5. HighestPoint and LowestPoint are a measurement but the unit type is missing\n",
    "6. Resort and Country can stay as strings.\n",
    "7. There is a lack of snake_case for our column names.\n",
    "\n",
    "## Minor Cleaning Needs\n",
    "\n",
    "We'll save our major data cleaning for the second run. For now, we'll do basic column name clean up, and type conversions.\n",
    "\n",
    "1. Clean our first column label.\n",
    "2. Update column labels to snake_case.\n",
    "3. Correct the Data type for each column.\n",
    "4. Add value to highest_point and lowestpoint labels.\n",
    "4. Add value to daypass_price_adult.\n",
    "\n",
    "From the previous cell, we can see that the column **label for RowNumbers is missing**. We can fix this with a simple assignment.\n",
    "\n",
    "Next, we'll adjust each **cells data type** to match its value. Finally, we'll add the **measurement unit** to highest/lowest labels and **euros** to the dayprice label.\n",
    "\n"
   ]
  },
  {
   "cell_type": "markdown",
   "id": "6b34ed83",
   "metadata": {},
   "source": [
    "### Snake_Case and Missing Label"
   ]
  },
  {
   "cell_type": "code",
   "execution_count": 4,
   "id": "51b48a2a",
   "metadata": {},
   "outputs": [
    {
     "data": {
      "text/plain": [
       "['#',\n",
       " 'resort',\n",
       " 'country',\n",
       " 'highest_point',\n",
       " 'lowest_point',\n",
       " 'daypass_price_adult',\n",
       " 'beginner_slope',\n",
       " 'intermediate_slope',\n",
       " 'difficult_slope',\n",
       " 'total_slope',\n",
       " 'snowparks',\n",
       " 'night_ski',\n",
       " 'surface_lifts',\n",
       " 'chair_lifts',\n",
       " 'gondola_lifts',\n",
       " 'total_lifts',\n",
       " 'lift_capacity',\n",
       " 'snow_cannons']"
      ]
     },
     "execution_count": 4,
     "metadata": {},
     "output_type": "execute_result"
    }
   ],
   "source": [
    "# clean up missing column label\n",
    "ski_data[0][0] = \"#\"\n",
    "\n",
    "# update column labels\n",
    "ski_data[0] = [\n",
    "    \"#\",\n",
    "    \"resort\",\n",
    "    \"country\",\n",
    "    \"highest_point\",\n",
    "    \"lowest_point\",\n",
    "    \"daypass_price_adult\",\n",
    "    \"beginner_slope\",\n",
    "    \"intermediate_slope\",\n",
    "    \"difficult_slope\",\n",
    "    \"total_slope\",\n",
    "    \"snowparks\",\n",
    "    \"night_ski\",\n",
    "    \"surface_lifts\",\n",
    "    \"chair_lifts\",\n",
    "    \"gondola_lifts\",\n",
    "    \"total_lifts\",\n",
    "    \"lift_capacity\",\n",
    "    \"snow_cannons\",\n",
    "]\n",
    "ski_data[0]"
   ]
  },
  {
   "cell_type": "markdown",
   "id": "794d33f6",
   "metadata": {},
   "source": [
    "### Conversions"
   ]
  },
  {
   "cell_type": "code",
   "execution_count": 5,
   "id": "260f466f",
   "metadata": {
    "code_folding": []
   },
   "outputs": [
    {
     "name": "stdout",
     "output_type": "stream",
     "text": [
      "Head\n",
      "# : <class 'int'>\n",
      "resort : <class 'str'>\n",
      "country : <class 'str'>\n",
      "highest_point : <class 'float'>\n",
      "lowest_point : <class 'float'>\n",
      "daypass_price_adult : <class 'int'>\n",
      "beginner_slope : <class 'int'>\n",
      "intermediate_slope : <class 'int'>\n",
      "difficult_slope : <class 'int'>\n",
      "total_slope : <class 'int'>\n",
      "snowparks : <class 'bool'>\n",
      "night_ski : <class 'bool'>\n",
      "surface_lifts : <class 'int'>\n",
      "chair_lifts : <class 'int'>\n",
      "gondola_lifts : <class 'int'>\n",
      "total_lifts : <class 'int'>\n",
      "lift_capacity : <class 'int'>\n",
      "snow_cannons : <class 'int'>\n",
      "\n",
      "\n",
      "Tail\n",
      "# :  <class 'int'>\n",
      "resort :  <class 'str'>\n",
      "country :  <class 'str'>\n",
      "highest_point :  <class 'float'>\n",
      "lowest_point :  <class 'float'>\n",
      "daypass_price_adult :  <class 'int'>\n",
      "beginner_slope :  <class 'int'>\n",
      "intermediate_slope :  <class 'int'>\n",
      "difficult_slope :  <class 'int'>\n",
      "total_slope :  <class 'int'>\n",
      "snowparks :  <class 'bool'>\n",
      "night_ski :  <class 'bool'>\n",
      "surface_lifts :  <class 'int'>\n",
      "chair_lifts :  <class 'int'>\n",
      "gondola_lifts :  <class 'int'>\n",
      "total_lifts :  <class 'int'>\n",
      "lift_capacity :  <class 'int'>\n",
      "snow_cannons :  <class 'int'>\n"
     ]
    }
   ],
   "source": [
    "# could be replaced with more efficient method\n",
    "for num in range(1, len(ski_data[1:]) + 1):\n",
    "    # print(num)\n",
    "    ski_data[num][0] = int(ski_data[num][0]) # resort_number\n",
    "    \n",
    "    ski_data[num][3] = float(ski_data[num][3]) # highest_point\n",
    "    ski_data[num][4] = float(ski_data[num][4]) # lowest_point\n",
    "    \n",
    "\n",
    "    ski_data[num][5] = int(ski_data[num][5]) # daypass_price_adult\n",
    "    ski_data[num][6] = int(ski_data[num][6]) # beginner_slope\n",
    "    ski_data[num][7] = int(ski_data[num][7]) # intermediate_slope\n",
    "    ski_data[num][8] = int(ski_data[num][8]) # difficult_slope\n",
    "    ski_data[num][9] = int(ski_data[num][9]) # total_slope\n",
    "    \n",
    "    # convert yes/no into true/false\n",
    "    # snowparks = 10, night_ski = 11\n",
    "    if ski_data[num][10].lower() == \"yes\":\n",
    "        ski_data[num][10] = True\n",
    "    else:\n",
    "        ski_data[num][10] = False\n",
    "    if ski_data[num][11].lower() == \"yes\":\n",
    "        ski_data[num][11] = True\n",
    "    else:\n",
    "        ski_data[num][11] = False\n",
    "    \n",
    "    ski_data[num][12] = int(ski_data[num][12]) # surface_lifts\n",
    "    ski_data[num][13] = int(ski_data[num][13]) # chair_lifts\n",
    "    ski_data[num][14] = int(ski_data[num][14]) # gondola_lifts\n",
    "    ski_data[num][15] = int(ski_data[num][15]) # total_lifts\n",
    "    ski_data[num][16] = int(ski_data[num][16]) # lift_capacity\n",
    "    ski_data[num][17] = int(ski_data[num][17]) # snow_cannons\n",
    "\n",
    "    \n",
    "# verify head & tail\n",
    "print(\"Head\")\n",
    "for num in range(len(ski_data[0])):\n",
    "    print(ski_data[0][num], \":\", type(ski_data[1][num]))\n",
    "    # print(type(ski_data[1][num])) all strings\n",
    "\n",
    "print(\"\\n\")\n",
    "print(\"Tail\")\n",
    "\n",
    "# view last resort row/tail\n",
    "for num in range(len(ski_data[0])):\n",
    "    print(ski_data[0][num], \": \", type(ski_data[376][num]))"
   ]
  },
  {
   "cell_type": "markdown",
   "id": "cb6237de",
   "metadata": {},
   "source": [
    "### Value Adds"
   ]
  },
  {
   "cell_type": "code",
   "execution_count": 6,
   "id": "2c97147e",
   "metadata": {},
   "outputs": [
    {
     "data": {
      "text/plain": [
       "['#',\n",
       " 'resort',\n",
       " 'country',\n",
       " 'highest_point_meters',\n",
       " 'lowest_point_meters',\n",
       " 'adult_daypass_euros',\n",
       " 'beginner_slope',\n",
       " 'intermediate_slope',\n",
       " 'difficult_slope',\n",
       " 'total_slope',\n",
       " 'snowparks',\n",
       " 'night_ski',\n",
       " 'surface_lifts',\n",
       " 'chair_lifts',\n",
       " 'gondola_lifts',\n",
       " 'total_lifts',\n",
       " 'lift_capacity',\n",
       " 'snow_cannons']"
      ]
     },
     "execution_count": 6,
     "metadata": {},
     "output_type": "execute_result"
    }
   ],
   "source": [
    "# add measurement units and euros to labels\n",
    "ski_data[0][3] = \"highest_point_meters\"\n",
    "ski_data[0][4] = \"lowest_point_meters\"\n",
    "ski_data[0][5] = \"adult_daypass_euros\"\n",
    "ski_data[0]"
   ]
  },
  {
   "cell_type": "markdown",
   "id": "1111e79e",
   "metadata": {},
   "source": [
    "## What resorts are we working with?\n",
    "\n",
    "We will extract and store all the names of the various resorts in a seperate array. \n",
    "\n",
    "This could be useful for later analysis. We'll then view, and sort them alphabetically"
   ]
  },
  {
   "cell_type": "code",
   "execution_count": 37,
   "id": "d38d1991",
   "metadata": {},
   "outputs": [
    {
     "name": "stdout",
     "output_type": "stream",
     "text": [
      "Abetone-​Val di Luce\n",
      "Adelboden-​Lenk-Chuenisbärgli-​Silleren-​Hahnenmoos-​Metsch\n",
      "Aiguille du Midi-Chamonix-\n",
      "Aillons-Margériaz\n",
      "Albiez-Montrond\n",
      "Aletsch Arena-Riederalp-​Bettmeralp-​Fiesch Eggishorn\n",
      "Alpe Lusia-Moena-​Bellamonte\n",
      "Alpe d'Huez\n",
      "Alpe di Siusi-Seiser Alm-\n",
      "Alpe du Grand-Serre-La Morte\n",
      "Alpendorf (Ski amedé)\n",
      "Alpika Service\n",
      "Alta Badia\n",
      "Alto Sangro-Roccaraso-​Rivisondoli\n",
      "Anzère\n",
      "Aprica\n",
      "Arabba\n",
      "Arcalís-Ordino (Vallnord)\n",
      "Arêches-Beaufort-\n",
      "Arosa Lenzerheide\n",
      "Auron-Saint-Etienne-de-Tinée-\n",
      "Aussois\n",
      "Avoriaz (Les Portes du Soleil)\n",
      "Ax les Thermes\n",
      "Axamer Lizum\n",
      "Bad Gastein\n",
      "Bad Kleinkirchheim-​St. Oswald\n",
      "Balme-​Les Autannes-Vallorcine-​Le Tour\n",
      "Bansko\n",
      "Baqueira / ​Beret\n",
      "Bardonecchia\n",
      "Belalp-Blatten\n",
      "Bellwald\n",
      "Belvedere-​Col Rodella-​Ciampac-​Buffaure-Canazei-​Campitello-​Alba-​Pozza di Fassa\n",
      "Berwang-​Bichlbach-​Rinnen\n",
      "Białka Tatrzańska-Kotelnica-​Kaniówka-​Bania\n",
      "Bonneval sur Arc\n",
      "Bormio-Cima Bianca\n",
      "Borovets\n",
      "Brandnertal-Brand-​Bürserberg\n",
      "Brauneck Lenggries ​Wegscheid\n",
      "Brévent-​Flégère-Chamonix-\n",
      "Brigels-​Waltensburg-​Andiast\n",
      "Brunni - Engelberg\n",
      "Buchenberg-Buching-Halblech-\n",
      "Bukovel\n",
      "Bürchen-​Törbel-Moosalp\n",
      "Candanchú\n",
      "Carezza Ski\n",
      "Cerler\n"
     ]
    }
   ],
   "source": [
    "# holds all resort names\n",
    "resort_names = []\n",
    "\n",
    "# loop through our data\n",
    "for row in ski_data[1:]:\n",
    "    resort = row[1]  # resort name column\n",
    "    # print(resort)\n",
    "\n",
    "    # store names\n",
    "    resort_names.append(resort)\n",
    "\n",
    "# view a semi-sorted list of resort names\n",
    "# cut at 50\n",
    "num = 0\n",
    "for name in sorted(resort_names):\n",
    "    if num < 50:\n",
    "        print(name)\n",
    "        num += 1"
   ]
  },
  {
   "cell_type": "markdown",
   "id": "e62e9fba",
   "metadata": {},
   "source": [
    "## How many resorts are we working with?\n",
    "\n",
    "A basic count using a len() method can assist us with finding averages, and other statistical calculations. Also, its always a good idea to verify the actual count for accuracy. \n",
    "\n",
    "Accurate data = Accurate analysis."
   ]
  },
  {
   "cell_type": "code",
   "execution_count": 8,
   "id": "055b1495",
   "metadata": {},
   "outputs": [
    {
     "name": "stdout",
     "output_type": "stream",
     "text": [
      "Total Resorts in our Dataset: 376\n"
     ]
    }
   ],
   "source": [
    "# count of total resorts\n",
    "print(f\"Total Resorts in our Dataset:\", len(resort_names))"
   ]
  },
  {
   "cell_type": "markdown",
   "id": "8af3f896",
   "metadata": {},
   "source": [
    "## Next Steps\n",
    "\n",
    "Now is the time to start our analysis to answer our questions.\n",
    "\n",
    "1. Whats the min, max, and mean price of a Daypass?\n",
    "2. Is there any correlation between price and available slope diffculty?\n",
    "3. How many resorts are available in a given price range?\n",
    "4. What country has the most affordable prices at each difficulty level?\n",
    "5. What slope difficulty range is most represented in europe?\n"
   ]
  },
  {
   "cell_type": "markdown",
   "id": "43449229",
   "metadata": {},
   "source": [
    "## Total Price to visit all Resorts\n",
    "\n",
    "Lets say you're someone who loves to ski. You might just want to visit ALL of europes ski resorts. How much would his realistically cost?\n",
    "\n",
    "Using a simple for loop, we can loop through, and sum all the prices in the DayPassPriceAdult column."
   ]
  },
  {
   "cell_type": "code",
   "execution_count": 9,
   "id": "b84665de",
   "metadata": {},
   "outputs": [
    {
     "name": "stdout",
     "output_type": "stream",
     "text": [
      "If we visted every ski resort it would cost us €15333.\n"
     ]
    }
   ],
   "source": [
    "# sum for all day passes\n",
    "total_price = 0\n",
    "for row in ski_data[1:]:\n",
    "    total_price += int(row[5])  # price column\n",
    "\n",
    "print(f\"If we visted every ski resort it would cost us €{total_price}.\")"
   ]
  },
  {
   "cell_type": "markdown",
   "id": "cfa60856",
   "metadata": {},
   "source": [
    "## Daypass Analysis\n",
    "\n",
    "Our first question: What is the min, max, and mean price of a Daypass?"
   ]
  },
  {
   "cell_type": "code",
   "execution_count": 10,
   "id": "23a5e634",
   "metadata": {},
   "outputs": [
    {
     "name": "stdout",
     "output_type": "stream",
     "text": [
      "40.77925531914894\n"
     ]
    }
   ],
   "source": [
    "# finding the highest price of a day pass\n",
    "\n",
    "highest_price, highest_resort, highest_country = 0, \"\", \"\"\n",
    "for row in ski_data[1:]:\n",
    "    price = int(row[5])\n",
    "    if price >= highest_price:\n",
    "        highest_resort = row[1]\n",
    "        highest_country = row[2]\n",
    "        highest_price = price\n",
    "\n",
    "# print(highest_price, highest_resort, highest_country)\n",
    "\n",
    "# finding the lowest price of a day pass\n",
    "lowest_price, lowest_resort, lowest_country = highest_price,\"\", \"\"\n",
    "for row in ski_data[1:]:\n",
    "    price = int(row[5])\n",
    "    # not storing zero outliers\n",
    "    if price <= lowest_price and price != 0:\n",
    "        lowest_resort = row[1]\n",
    "        lowest_country = row[2]\n",
    "        lowest_price = price\n",
    "\n",
    "# print(lowest_price, lowest_resort, lowest_country)\n",
    "\n",
    "\n",
    "# finding the average price of a day pass\n",
    "avg_price = 0\n",
    "for row in ski_data[1:]:\n",
    "    price = int(row[5])\n",
    "    avg_price += price\n",
    "\n",
    "avg_price /= 376\n",
    "print(avg_price)\n",
    "\n",
    "average_priced = []\n",
    "for row in ski_data[1:]:\n",
    "    price = int(row[5])\n",
    "    if price >= avg_price and price <= 45:\n",
    "        average_priced.append([row[1],row[2], price])"
   ]
  },
  {
   "cell_type": "markdown",
   "id": "d6923e35",
   "metadata": {},
   "source": [
    "## High, Low, Average\n",
    "\n",
    "Day Passes range from 15 at the lowest, to 81 at the highest, with an average price of €40.78. \n",
    "\n",
    "The first three resorts that fall around the midpoint of our price range, are included in the table below.\n",
    "\n",
    "\n",
    "|<div style=\"font-size: 20px\">Type</div>| <div style=\"font-size: 20px\">Resort</div>|<div style=\"font-size: 20px\">Country</div>|<div style=\"font-size: 20px\">Price</div>|\n",
    "|-----------|-----------|-----------|-----------|\n",
    "|<div style=\"text-align: center;font-size: 15px\">**Highest**</div>|Zermatt - Matterhorn|Switzerland| €81 \n",
    "|<div style=\"text-align: center;font-size: 15px\">**Lowest**</div>|Hoch Hylkedal – Kolding |Denmark|€15 \n",
    "|<div style=\"text-align: center;font-size: 15px\">**Average 1**</div>|Dachstein West|Austria|  €42|\n",
    "|<div style=\"text-align: center;font-size: 15px\">**Average 2**</div>|Les Sybelles-Le Corbier...|France|  €44|\n",
    "|<div style=\"text-align: center;font-size: 15px\">**Average 3**</div>|Le Grand Domaine-Valmorel...|France|  €44|\n",
    "\n",
    "\n",
    "### Next\n",
    "\n",
    "We will seperate our prices into **price brackets**, in order to find out how many resorts fall within each.\n"
   ]
  },
  {
   "cell_type": "code",
   "execution_count": 12,
   "id": "80b510e4",
   "metadata": {},
   "outputs": [
    {
     "name": "stdout",
     "output_type": "stream",
     "text": [
      "{'€41-€60': 191, '€25-€40': 130, '€0-€25': 36, '€60+': 19} \n",
      "\n",
      "There are 36 resorts in the '€0-€25' range.\n",
      "130 resorts in the €21-€40' range,\n",
      "191 resorts in the €41-€60 range, and\n",
      "19 resorts in the '€60+' range.\n"
     ]
    }
   ],
   "source": [
    "# finding price brackets\n",
    "price_brackets = {}\n",
    "for row in ski_data[1:]:\n",
    "    price = int(row[5])\n",
    "    if price >= 0 and price <= 25:\n",
    "        if \"€0-€25\" in price_brackets.keys():\n",
    "            price_brackets[\"€0-€25\"] += 1\n",
    "        else:\n",
    "            price_brackets[\"€0-€25\"] = 1\n",
    "    elif price >= 25 and price <= 40:\n",
    "        if \"€25-€40\" in price_brackets.keys():\n",
    "            price_brackets[\"€25-€40\"] += 1\n",
    "        else:\n",
    "            price_brackets[\"€25-€40\"] = 1\n",
    "    elif price >= 41 and price <= 60:\n",
    "        if \"€41-€60\" in price_brackets.keys():\n",
    "            price_brackets[\"€41-€60\"] += 1\n",
    "        else:\n",
    "            price_brackets[\"€41-€60\"] = 1\n",
    "    else:\n",
    "        if \"€60+\" in price_brackets.keys():\n",
    "            price_brackets[\"€60+\"] += 1\n",
    "        else:\n",
    "            price_brackets[\"€60+\"] = 1\n",
    "\n",
    "print(price_brackets, \"\\n\")\n",
    "\n",
    "print(\n",
    "    f\"\"\"There are {price_brackets['€0-€25']} resorts in the '€0-€25' range.\\n{price_brackets['€25-€40']} resorts in the €25-€40' range,\\n{price_brackets['€41-€60']} resorts in the €41-€60 range, and\\n{price_brackets['€60+']} resorts in the '€60+' range.\"\"\"\n",
    ")"
   ]
  },
  {
   "cell_type": "markdown",
   "id": "41ff14f0",
   "metadata": {},
   "source": [
    "|<div style=\"font-size: 20px\">Name </div>| <div style=\"font-size: 20px\">&nbsp; &nbsp;  &nbsp; &nbsp; &nbsp; &nbsp;€ Price Bracket </div>|<div style=\"font-size: 20px\"> &nbsp; &nbsp;  &nbsp; &nbsp; &nbsp; &nbsp;# of Resorts</div>|\n",
    "|-----------|-----------|-----------|\n",
    "|<div style=\"text-align: center;font-size: 15px\">Low</div>|<div style=\"text-align: center;font-size: 15px\">0-20</div>|<div style=\"font-size: 15px\">36</div>|\n",
    "|<div style=\"text-align: center;font-size: 15px\">Mid</div>|<div style=\"text-align: center;font-size: 15px\">21-40</div>|<div style=\"font-size: 15px\">130</div>|\n",
    "|<div style=\"text-align: center;font-size: 15px\">High</div>|<div style=\"text-align: center;font-size: 15px\">41-60</div>|<div style=\"font-size: 15px\">191</div>\n",
    "|<div style=\"text-align: center;font-size: 15px\">Extreme</div>|<div style=\"text-align: center;font-size: 15px\">60-81</div>|<div style=\"font-size: 15px\">19</div>|\n",
    "    \n",
    "Our price brackets seem to fall in line with common assumptions. One would assume very little low cost ski options, as well as a relatively small amount extremely costly options.\n",
    "\n",
    "85%+ of our ski resorts fall within the bounds of €25-€60 as assumed. We will get a more exact estimate on our second run.\n",
    "    \n",
    "## Next Up.\n",
    "\n",
    "Is there any correlation between price and available slope diffculty?"
   ]
  },
  {
   "cell_type": "markdown",
   "id": "792946c1",
   "metadata": {},
   "source": [
    "#### BeginnerSlope \t\n",
    "\n",
    "The total amount of “beginner” slopes in kilometer at the resort. “Beginner slopes” contains “children”, “blue” and \n",
    "“green” slopes.\n",
    "#### IntermediateSlope \t\n",
    "\n",
    "The total amount of “intermediate” slopes in kilometer at the resort.“Intermediate slopes” contains “red” slopes.\n",
    "\n",
    "#### DifficultSlope \t\n",
    "\n",
    "The total amount of “difficult” slopes in kilometer at the resort.“Difficult slopes” contains “black”, “advanced” and”expert” slopes.m\n",
    "\n",
    "#### Price Ranges\n",
    "\n",
    "Low: 0 - 25\n",
    "\n",
    "Mid: 25 - 40\n",
    "\n",
    "High: 40 - 60\n",
    "\n",
    "Extreme: 60 -81"
   ]
  },
  {
   "cell_type": "code",
   "execution_count": 38,
   "id": "13719bd0",
   "metadata": {},
   "outputs": [
    {
     "name": "stdout",
     "output_type": "stream",
     "text": [
      "{'low': {'beginner': 260, 'intermediate': 220, 'difficult': 72}, 'mid': {'beginner': 2642, 'intermediate': 2548, 'difficult': 727}, 'high': {'beginner': 7835, 'intermediate': 8642, 'difficult': 2584}, 'extreme': {'beginner': 2750, 'intermediate': 3009, 'difficult': 1045}}\n"
     ]
    }
   ],
   "source": [
    "# finding price brackets\n",
    "price_brackets = {}\n",
    "\n",
    "slopes = {}\n",
    "price_difficulty_ratios = {}\n",
    "price_difficulty_ratios[\"low\"] = {\"beginner\": 0, \"intermediate\": 0,\"difficult\": 0 }\n",
    "price_difficulty_ratios[\"mid\"] = {\"beginner\": 0, \"intermediate\": 0,\"difficult\": 0 }\n",
    "price_difficulty_ratios[\"high\"] = {\"beginner\": 0, \"intermediate\": 0,\"difficult\": 0 }\n",
    "price_difficulty_ratios[\"extreme\"] = {\"beginner\": 0, \"intermediate\": 0,\"difficult\": 0 }\n",
    "\n",
    "low = range(0, 26)\n",
    "mid = range(25, 41)\n",
    "high = range(40, 61)\n",
    "extreme = range(60, 82)\n",
    "\n",
    "\n",
    " \n",
    "for row in ski_data[1:]:\n",
    "    price = row[5]\n",
    "    beginner = row[6]\n",
    "    intermediate = row[7]\n",
    "    difficult = row[8]\n",
    "    \n",
    "    if price in low:\n",
    "        price_difficulty_ratios[\"low\"][\"beginner\"] += beginner\n",
    "        price_difficulty_ratios[\"low\"][\"intermediate\"] += intermediate\n",
    "        price_difficulty_ratios[\"low\"][\"difficult\"] += difficult\n",
    "    elif price in mid:\n",
    "        price_difficulty_ratios[\"mid\"][\"beginner\"] += beginner\n",
    "        price_difficulty_ratios[\"mid\"][\"intermediate\"] += intermediate\n",
    "        price_difficulty_ratios[\"mid\"][\"difficult\"] += difficult       \n",
    "    elif price in high:\n",
    "        price_difficulty_ratios[\"high\"][\"beginner\"] += beginner\n",
    "        price_difficulty_ratios[\"high\"][\"intermediate\"] += intermediate\n",
    "        price_difficulty_ratios[\"high\"][\"difficult\"] += difficult\n",
    "    else:\n",
    "        price_difficulty_ratios[\"extreme\"][\"beginner\"] += beginner\n",
    "        price_difficulty_ratios[\"extreme\"][\"intermediate\"] += intermediate\n",
    "        price_difficulty_ratios[\"extreme\"][\"difficult\"] += difficult\n",
    "        \n",
    "print(price_difficulty_ratios)"
   ]
  }
 ],
 "metadata": {
  "kernelspec": {
   "display_name": "Python 3 (ipykernel)",
   "language": "python",
   "name": "python3"
  },
  "language_info": {
   "codemirror_mode": {
    "name": "ipython",
    "version": 3
   },
   "file_extension": ".py",
   "mimetype": "text/x-python",
   "name": "python",
   "nbconvert_exporter": "python",
   "pygments_lexer": "ipython3",
   "version": "3.9.7"
  }
 },
 "nbformat": 4,
 "nbformat_minor": 5
}
