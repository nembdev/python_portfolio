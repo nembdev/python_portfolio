{
 "cells": [
  {
   "cell_type": "markdown",
   "id": "c18c02cb",
   "metadata": {},
   "source": [
    "# A Data Driven Approach to European Ski Resorts - Pandas\n",
    "\n",
    "[Previously](https://github.com/nembdev/python_portfolio/blob/main/Data%20Analysis%20Projects/European%20Ski%20Resorts(Manual)/A%20Data%20Driven%20Approach%20to%20European%20Ski%20Resorts.ipynb) we tried a tool/libraryless approach to Data Analysis. While manual analysis is tedious and limits our scope, its always a good idea to practice the fundamentals.\n",
    "\n",
    "Now we will use the full might of Pandas, and Seaborn to go further in depth.\n",
    "\n",
    "Pandas will handle our analysis, while Seaborn will help us create our Visuals. \n",
    "\n",
    "\n",
    "## Our Dataset\n",
    "\n",
    "Our dataset features a sample of 376 european ski resorts provided by  ski-resort-stats.com, made availble through kaggle.\n",
    "\n",
    "[Kaggle Dataset](https://www.kaggle.com/thomasnibb/european-ski-resorts)\n",
    "\n",
    "[Data Source: Ski-resort-stats.com](Ski-resort-stats.com)\n",
    "\n",
    "## Potential Avenues of Exploration\n",
    "\n",
    "1. Top 5 most represented countries\n",
    "2. Comparison of Price to Difficulty Options\n",
    "3. Ratio of Lift Types \n",
    "4. Price to Elevation\n",
    "\n",
    "These are just a few of the areas we could explore."
   ]
  },
  {
   "cell_type": "markdown",
   "id": "183e7ef8",
   "metadata": {},
   "source": [
    "# Data Dictionary \n",
    "\n",
    "|Column Name| Description|\n",
    "|-----------|-----------|\n",
    "|**#**|Rownumber|\n",
    "|**Resort**|The name at the ski & snowboard resort.\n",
    "|**Country**| The name of the country in which the resort is located.|\n",
    "|**HighestPoint**|The highest mountain point at the ski resort.|\n",
    "|**LowestPoint**|The lowest possible point to ski at the ski resort.|\n",
    "|**DayPassPriceAdult**| The price shows what it costs for 1 adult for 1 day in the main season in Euros €.|\n",
    "|**BeginnerSlope**|The total amount of “beginner” slopes in kilometer at the resort. “Beginner slopes” contains “children”, “blue” and “green” slopes.|\n",
    "|**IntermediateSlope**| The total amount of “intermediate” slopes in kilometer at the resort.“Intermediate slopes” contains “red” slopes. |\n",
    "|**DifficultSlope**| The total amount of “difficult” slopes in kilometer at the resort.“Difficult slopes” contains “black”, “advanced” and”expert” slopes.| \n",
    "|**TotalSlope**| The sum of “beginner slopes” + “intermediate slopes” + “difficult slopes”|\n",
    "|**Snowparks**| Does the resort have one or more snowparks, or not?|\n",
    "|**NightSki**|Does the resort offer skiing on illuminated slopes?|\n",
    "|**SurfaceLifts**| The amount of lifts in this category: T-bar, Sunkidslift, Rope lifts and people mower.|\n",
    "|**ChairLifts**| The total amount of chairlifts.|\n",
    "|**GondolaLifts**|The amount of lifts in this category: Gondola, Train lifts, Funicular, Combined gondola and chairlifts, Helicopter lifts, Snowcats and Aerial tramways.|\n",
    "|**TotalLifts**| The sum of “surface lifts etc” + “gondola etc” + “chairlifts etc”|\n",
    "|**LiftCapacity**| How many passengers can the lift system at the ski resort mowe in one hour?|\n",
    "|**SnowCannons**| The total amount of snow cannons at the ski resort.|"
   ]
  },
  {
   "cell_type": "code",
   "execution_count": null,
   "id": "f94eb906",
   "metadata": {},
   "outputs": [],
   "source": []
  }
 ],
 "metadata": {
  "kernelspec": {
   "display_name": "Python 3 (ipykernel)",
   "language": "python",
   "name": "python3"
  },
  "language_info": {
   "codemirror_mode": {
    "name": "ipython",
    "version": 3
   },
   "file_extension": ".py",
   "mimetype": "text/x-python",
   "name": "python",
   "nbconvert_exporter": "python",
   "pygments_lexer": "ipython3",
   "version": "3.8.10"
  }
 },
 "nbformat": 4,
 "nbformat_minor": 5
}
