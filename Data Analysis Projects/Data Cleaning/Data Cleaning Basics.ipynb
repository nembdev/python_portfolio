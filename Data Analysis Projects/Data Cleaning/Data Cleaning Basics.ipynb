{
 "cells": [
  {
   "cell_type": "markdown",
   "id": "df126549",
   "metadata": {},
   "source": [
    "# An Overview on Data Cleaning\n",
    "\n",
    "## Good practices & First steps\n",
    "\n",
    "Dataset: laptops.csv\n",
    "\n",
    "Source: [Dataquest](https://dsserver-prod-resources-1.s3.amazonaws.com/293/laptops.csv?versionId=6BQzmMWIQEutXrN29r_0fnVN7_Z0oSVB)\n",
    "\n",
    "Info: Various details about laptops, such as Manufacturer, Model Name, Category, etc"
   ]
  },
  {
   "cell_type": "code",
   "execution_count": 1,
   "id": "ff9bd39d",
   "metadata": {},
   "outputs": [],
   "source": [
    "# import libraries\n",
    "import pandas as pd"
   ]
  },
  {
   "cell_type": "code",
   "execution_count": 2,
   "id": "57354c95",
   "metadata": {},
   "outputs": [],
   "source": [
    "# import csv\n",
    "# Here we can see files can have different encoding types\n",
    "# data = pd.read_csv(\"laptops.csv\") # utf-8' codec can't decode\n",
    "\n",
    "# uses Latin-1 encoding\n",
    "data = pd.read_csv(\"laptops.csv\", encoding=\"Latin-1\")"
   ]
  },
  {
   "cell_type": "code",
   "execution_count": 3,
   "id": "ff5398a1",
   "metadata": {},
   "outputs": [
    {
     "data": {
      "text/html": [
       "<div>\n",
       "<style scoped>\n",
       "    .dataframe tbody tr th:only-of-type {\n",
       "        vertical-align: middle;\n",
       "    }\n",
       "\n",
       "    .dataframe tbody tr th {\n",
       "        vertical-align: top;\n",
       "    }\n",
       "\n",
       "    .dataframe thead th {\n",
       "        text-align: right;\n",
       "    }\n",
       "</style>\n",
       "<table border=\"1\" class=\"dataframe\">\n",
       "  <thead>\n",
       "    <tr style=\"text-align: right;\">\n",
       "      <th></th>\n",
       "      <th>Manufacturer</th>\n",
       "      <th>Model Name</th>\n",
       "      <th>Category</th>\n",
       "      <th>Screen Size</th>\n",
       "      <th>Screen</th>\n",
       "      <th>CPU</th>\n",
       "      <th>RAM</th>\n",
       "      <th>Storage</th>\n",
       "      <th>GPU</th>\n",
       "      <th>Operating System</th>\n",
       "      <th>Operating System Version</th>\n",
       "      <th>Weight</th>\n",
       "      <th>Price (Euros)</th>\n",
       "    </tr>\n",
       "  </thead>\n",
       "  <tbody>\n",
       "    <tr>\n",
       "      <th>0</th>\n",
       "      <td>Apple</td>\n",
       "      <td>MacBook Pro</td>\n",
       "      <td>Ultrabook</td>\n",
       "      <td>13.3\"</td>\n",
       "      <td>IPS Panel Retina Display 2560x1600</td>\n",
       "      <td>Intel Core i5 2.3GHz</td>\n",
       "      <td>8GB</td>\n",
       "      <td>128GB SSD</td>\n",
       "      <td>Intel Iris Plus Graphics 640</td>\n",
       "      <td>macOS</td>\n",
       "      <td>NaN</td>\n",
       "      <td>1.37kg</td>\n",
       "      <td>1339,69</td>\n",
       "    </tr>\n",
       "    <tr>\n",
       "      <th>1</th>\n",
       "      <td>Apple</td>\n",
       "      <td>Macbook Air</td>\n",
       "      <td>Ultrabook</td>\n",
       "      <td>13.3\"</td>\n",
       "      <td>1440x900</td>\n",
       "      <td>Intel Core i5 1.8GHz</td>\n",
       "      <td>8GB</td>\n",
       "      <td>128GB Flash Storage</td>\n",
       "      <td>Intel HD Graphics 6000</td>\n",
       "      <td>macOS</td>\n",
       "      <td>NaN</td>\n",
       "      <td>1.34kg</td>\n",
       "      <td>898,94</td>\n",
       "    </tr>\n",
       "    <tr>\n",
       "      <th>2</th>\n",
       "      <td>HP</td>\n",
       "      <td>250 G6</td>\n",
       "      <td>Notebook</td>\n",
       "      <td>15.6\"</td>\n",
       "      <td>Full HD 1920x1080</td>\n",
       "      <td>Intel Core i5 7200U 2.5GHz</td>\n",
       "      <td>8GB</td>\n",
       "      <td>256GB SSD</td>\n",
       "      <td>Intel HD Graphics 620</td>\n",
       "      <td>No OS</td>\n",
       "      <td>NaN</td>\n",
       "      <td>1.86kg</td>\n",
       "      <td>575,00</td>\n",
       "    </tr>\n",
       "    <tr>\n",
       "      <th>3</th>\n",
       "      <td>Apple</td>\n",
       "      <td>MacBook Pro</td>\n",
       "      <td>Ultrabook</td>\n",
       "      <td>15.4\"</td>\n",
       "      <td>IPS Panel Retina Display 2880x1800</td>\n",
       "      <td>Intel Core i7 2.7GHz</td>\n",
       "      <td>16GB</td>\n",
       "      <td>512GB SSD</td>\n",
       "      <td>AMD Radeon Pro 455</td>\n",
       "      <td>macOS</td>\n",
       "      <td>NaN</td>\n",
       "      <td>1.83kg</td>\n",
       "      <td>2537,45</td>\n",
       "    </tr>\n",
       "    <tr>\n",
       "      <th>4</th>\n",
       "      <td>Apple</td>\n",
       "      <td>MacBook Pro</td>\n",
       "      <td>Ultrabook</td>\n",
       "      <td>13.3\"</td>\n",
       "      <td>IPS Panel Retina Display 2560x1600</td>\n",
       "      <td>Intel Core i5 3.1GHz</td>\n",
       "      <td>8GB</td>\n",
       "      <td>256GB SSD</td>\n",
       "      <td>Intel Iris Plus Graphics 650</td>\n",
       "      <td>macOS</td>\n",
       "      <td>NaN</td>\n",
       "      <td>1.37kg</td>\n",
       "      <td>1803,60</td>\n",
       "    </tr>\n",
       "  </tbody>\n",
       "</table>\n",
       "</div>"
      ],
      "text/plain": [
       "  Manufacturer   Model Name   Category Screen Size  \\\n",
       "0        Apple  MacBook Pro  Ultrabook       13.3\"   \n",
       "1        Apple  Macbook Air  Ultrabook       13.3\"   \n",
       "2           HP       250 G6   Notebook       15.6\"   \n",
       "3        Apple  MacBook Pro  Ultrabook       15.4\"   \n",
       "4        Apple  MacBook Pro  Ultrabook       13.3\"   \n",
       "\n",
       "                               Screen                         CPU   RAM  \\\n",
       "0  IPS Panel Retina Display 2560x1600        Intel Core i5 2.3GHz   8GB   \n",
       "1                            1440x900        Intel Core i5 1.8GHz   8GB   \n",
       "2                   Full HD 1920x1080  Intel Core i5 7200U 2.5GHz   8GB   \n",
       "3  IPS Panel Retina Display 2880x1800        Intel Core i7 2.7GHz  16GB   \n",
       "4  IPS Panel Retina Display 2560x1600        Intel Core i5 3.1GHz   8GB   \n",
       "\n",
       "               Storage                           GPU Operating System  \\\n",
       "0            128GB SSD  Intel Iris Plus Graphics 640            macOS   \n",
       "1  128GB Flash Storage        Intel HD Graphics 6000            macOS   \n",
       "2            256GB SSD         Intel HD Graphics 620            No OS   \n",
       "3            512GB SSD            AMD Radeon Pro 455            macOS   \n",
       "4            256GB SSD  Intel Iris Plus Graphics 650            macOS   \n",
       "\n",
       "  Operating System Version  Weight Price (Euros)  \n",
       "0                      NaN  1.37kg       1339,69  \n",
       "1                      NaN  1.34kg        898,94  \n",
       "2                      NaN  1.86kg        575,00  \n",
       "3                      NaN  1.83kg       2537,45  \n",
       "4                      NaN  1.37kg       1803,60  "
      ]
     },
     "execution_count": 3,
     "metadata": {},
     "output_type": "execute_result"
    }
   ],
   "source": [
    "data.head()"
   ]
  },
  {
   "cell_type": "code",
   "execution_count": 4,
   "id": "ffe9ed29",
   "metadata": {},
   "outputs": [
    {
     "name": "stdout",
     "output_type": "stream",
     "text": [
      "<class 'pandas.core.frame.DataFrame'>\n",
      "RangeIndex: 1303 entries, 0 to 1302\n",
      "Data columns (total 13 columns):\n",
      " #   Column                    Non-Null Count  Dtype \n",
      "---  ------                    --------------  ----- \n",
      " 0   Manufacturer              1303 non-null   object\n",
      " 1   Model Name                1303 non-null   object\n",
      " 2   Category                  1303 non-null   object\n",
      " 3   Screen Size               1303 non-null   object\n",
      " 4   Screen                    1303 non-null   object\n",
      " 5   CPU                       1303 non-null   object\n",
      " 6   RAM                       1303 non-null   object\n",
      " 7    Storage                  1303 non-null   object\n",
      " 8   GPU                       1303 non-null   object\n",
      " 9   Operating System          1303 non-null   object\n",
      " 10  Operating System Version  1133 non-null   object\n",
      " 11  Weight                    1303 non-null   object\n",
      " 12  Price (Euros)             1303 non-null   object\n",
      "dtypes: object(13)\n",
      "memory usage: 132.5+ KB\n"
     ]
    }
   ],
   "source": [
    "# can be used to gather prelim info about our dataset\n",
    "data.info()"
   ]
  },
  {
   "cell_type": "markdown",
   "id": "c0b05a36",
   "metadata": {},
   "source": [
    "## What do we know so far?\n",
    "\n",
    "1. Each column contains non numeric, non-null values, most likely strings\n",
    "\n",
    "2. Operating System Version has null values\n",
    "3. Column labels are complex/varied\n",
    "\n",
    "## Next Steps\n",
    "1. Explore  the data\n",
    "2. Identify patterns and special cases\n"
   ]
  },
  {
   "cell_type": "markdown",
   "id": "8cd35f38",
   "metadata": {},
   "source": [
    "# Cleaning Columns\n",
    "\n",
    "Standardize column labels by removing whitespace, and changing letter casing"
   ]
  },
  {
   "cell_type": "code",
   "execution_count": 5,
   "id": "212902a5",
   "metadata": {},
   "outputs": [
    {
     "data": {
      "text/plain": [
       "Index(['Manufacturer', 'Model Name', 'Category', 'Screen Size', 'Screen',\n",
       "       'CPU', 'RAM', ' Storage', 'GPU', 'Operating System',\n",
       "       'Operating System Version', 'Weight', 'Price (Euros)'],\n",
       "      dtype='object')"
      ]
     },
     "execution_count": 5,
     "metadata": {},
     "output_type": "execute_result"
    }
   ],
   "source": [
    "# returns an index object\n",
    "data.columns"
   ]
  },
  {
   "cell_type": "code",
   "execution_count": 6,
   "id": "4286027b",
   "metadata": {},
   "outputs": [
    {
     "name": "stdout",
     "output_type": "stream",
     "text": [
      "Manufacturer\n",
      "Model Name\n",
      "Category\n",
      "Screen Size\n",
      "Screen\n",
      "CPU\n",
      "RAM\n",
      " Storage\n",
      "GPU\n",
      "Operating System\n",
      "Operating System Version\n",
      "Weight\n",
      "Price (Euros)\n"
     ]
    }
   ],
   "source": [
    "# holds our new labels\n",
    "fixed_labels = []\n",
    "\n",
    "# strips the whitespace\n",
    "for col in data.columns:\n",
    "    fixed_label = col.strip()\n",
    "    fixed_labels.append(fixed_label)\n",
    "\n",
    "# make a copy so the org is untouched\n",
    "\n",
    "clean_data = data.copy()\n",
    "clean_data.columns = fixed_labels\n",
    "\n",
    "# display fixes\n",
    "for col in data.columns:\n",
    "    print(col)"
   ]
  },
  {
   "cell_type": "code",
   "execution_count": 7,
   "id": "fe9b5954",
   "metadata": {},
   "outputs": [
    {
     "data": {
      "text/html": [
       "<div>\n",
       "<style scoped>\n",
       "    .dataframe tbody tr th:only-of-type {\n",
       "        vertical-align: middle;\n",
       "    }\n",
       "\n",
       "    .dataframe tbody tr th {\n",
       "        vertical-align: top;\n",
       "    }\n",
       "\n",
       "    .dataframe thead th {\n",
       "        text-align: right;\n",
       "    }\n",
       "</style>\n",
       "<table border=\"1\" class=\"dataframe\">\n",
       "  <thead>\n",
       "    <tr style=\"text-align: right;\">\n",
       "      <th></th>\n",
       "      <th>manufacturer</th>\n",
       "      <th>model_name</th>\n",
       "      <th>category</th>\n",
       "      <th>screen_size</th>\n",
       "      <th>screen</th>\n",
       "      <th>cpu</th>\n",
       "      <th>ram</th>\n",
       "      <th>storage</th>\n",
       "      <th>gpu</th>\n",
       "      <th>operating_system</th>\n",
       "      <th>operating_system_version</th>\n",
       "      <th>weight</th>\n",
       "      <th>price_euros</th>\n",
       "    </tr>\n",
       "  </thead>\n",
       "  <tbody>\n",
       "    <tr>\n",
       "      <th>0</th>\n",
       "      <td>Apple</td>\n",
       "      <td>MacBook Pro</td>\n",
       "      <td>Ultrabook</td>\n",
       "      <td>13.3\"</td>\n",
       "      <td>IPS Panel Retina Display 2560x1600</td>\n",
       "      <td>Intel Core i5 2.3GHz</td>\n",
       "      <td>8GB</td>\n",
       "      <td>128GB SSD</td>\n",
       "      <td>Intel Iris Plus Graphics 640</td>\n",
       "      <td>macOS</td>\n",
       "      <td>NaN</td>\n",
       "      <td>1.37kg</td>\n",
       "      <td>1339,69</td>\n",
       "    </tr>\n",
       "    <tr>\n",
       "      <th>1</th>\n",
       "      <td>Apple</td>\n",
       "      <td>Macbook Air</td>\n",
       "      <td>Ultrabook</td>\n",
       "      <td>13.3\"</td>\n",
       "      <td>1440x900</td>\n",
       "      <td>Intel Core i5 1.8GHz</td>\n",
       "      <td>8GB</td>\n",
       "      <td>128GB Flash Storage</td>\n",
       "      <td>Intel HD Graphics 6000</td>\n",
       "      <td>macOS</td>\n",
       "      <td>NaN</td>\n",
       "      <td>1.34kg</td>\n",
       "      <td>898,94</td>\n",
       "    </tr>\n",
       "    <tr>\n",
       "      <th>2</th>\n",
       "      <td>HP</td>\n",
       "      <td>250 G6</td>\n",
       "      <td>Notebook</td>\n",
       "      <td>15.6\"</td>\n",
       "      <td>Full HD 1920x1080</td>\n",
       "      <td>Intel Core i5 7200U 2.5GHz</td>\n",
       "      <td>8GB</td>\n",
       "      <td>256GB SSD</td>\n",
       "      <td>Intel HD Graphics 620</td>\n",
       "      <td>No OS</td>\n",
       "      <td>NaN</td>\n",
       "      <td>1.86kg</td>\n",
       "      <td>575,00</td>\n",
       "    </tr>\n",
       "    <tr>\n",
       "      <th>3</th>\n",
       "      <td>Apple</td>\n",
       "      <td>MacBook Pro</td>\n",
       "      <td>Ultrabook</td>\n",
       "      <td>15.4\"</td>\n",
       "      <td>IPS Panel Retina Display 2880x1800</td>\n",
       "      <td>Intel Core i7 2.7GHz</td>\n",
       "      <td>16GB</td>\n",
       "      <td>512GB SSD</td>\n",
       "      <td>AMD Radeon Pro 455</td>\n",
       "      <td>macOS</td>\n",
       "      <td>NaN</td>\n",
       "      <td>1.83kg</td>\n",
       "      <td>2537,45</td>\n",
       "    </tr>\n",
       "    <tr>\n",
       "      <th>4</th>\n",
       "      <td>Apple</td>\n",
       "      <td>MacBook Pro</td>\n",
       "      <td>Ultrabook</td>\n",
       "      <td>13.3\"</td>\n",
       "      <td>IPS Panel Retina Display 2560x1600</td>\n",
       "      <td>Intel Core i5 3.1GHz</td>\n",
       "      <td>8GB</td>\n",
       "      <td>256GB SSD</td>\n",
       "      <td>Intel Iris Plus Graphics 650</td>\n",
       "      <td>macOS</td>\n",
       "      <td>NaN</td>\n",
       "      <td>1.37kg</td>\n",
       "      <td>1803,60</td>\n",
       "    </tr>\n",
       "  </tbody>\n",
       "</table>\n",
       "</div>"
      ],
      "text/plain": [
       "  manufacturer   model_name   category screen_size  \\\n",
       "0        Apple  MacBook Pro  Ultrabook       13.3\"   \n",
       "1        Apple  Macbook Air  Ultrabook       13.3\"   \n",
       "2           HP       250 G6   Notebook       15.6\"   \n",
       "3        Apple  MacBook Pro  Ultrabook       15.4\"   \n",
       "4        Apple  MacBook Pro  Ultrabook       13.3\"   \n",
       "\n",
       "                               screen                         cpu   ram  \\\n",
       "0  IPS Panel Retina Display 2560x1600        Intel Core i5 2.3GHz   8GB   \n",
       "1                            1440x900        Intel Core i5 1.8GHz   8GB   \n",
       "2                   Full HD 1920x1080  Intel Core i5 7200U 2.5GHz   8GB   \n",
       "3  IPS Panel Retina Display 2880x1800        Intel Core i7 2.7GHz  16GB   \n",
       "4  IPS Panel Retina Display 2560x1600        Intel Core i5 3.1GHz   8GB   \n",
       "\n",
       "               storage                           gpu operating_system  \\\n",
       "0            128GB SSD  Intel Iris Plus Graphics 640            macOS   \n",
       "1  128GB Flash Storage        Intel HD Graphics 6000            macOS   \n",
       "2            256GB SSD         Intel HD Graphics 620            No OS   \n",
       "3            512GB SSD            AMD Radeon Pro 455            macOS   \n",
       "4            256GB SSD  Intel Iris Plus Graphics 650            macOS   \n",
       "\n",
       "  operating_system_version  weight price_euros  \n",
       "0                      NaN  1.37kg     1339,69  \n",
       "1                      NaN  1.34kg      898,94  \n",
       "2                      NaN  1.86kg      575,00  \n",
       "3                      NaN  1.83kg     2537,45  \n",
       "4                      NaN  1.37kg     1803,60  "
      ]
     },
     "execution_count": 7,
     "metadata": {},
     "output_type": "execute_result"
    }
   ],
   "source": [
    "# data cleaning through a function\n",
    "# mixed case -> single case\n",
    "# removing parentheses\n",
    "# spaces - > _\n",
    "\n",
    "new_labels = []\n",
    "\n",
    "\n",
    "def clean_column(col):\n",
    "    col = col.replace(\"(\", \"\")\n",
    "    col = col.replace(\")\", \"\")\n",
    "    col = col.replace(\" \", \"_\")\n",
    "    col = col.lower()\n",
    "\n",
    "    return col\n",
    "\n",
    "\n",
    "# loop through each column and clean\n",
    "for c in clean_data.columns:\n",
    "    cleaned_c = clean_column(c)\n",
    "    new_labels.append(cleaned_c)\n",
    "\n",
    "# assign back to our data\n",
    "clean_data.columns = new_labels\n",
    "\n",
    "# verify changes\n",
    "clean_data.head()"
   ]
  },
  {
   "cell_type": "markdown",
   "id": "63b2e563",
   "metadata": {},
   "source": [
    "# Cleaning Rows/Entries"
   ]
  },
  {
   "cell_type": "code",
   "execution_count": 8,
   "id": "7df120b1",
   "metadata": {},
   "outputs": [
    {
     "name": "stdout",
     "output_type": "stream",
     "text": [
      "0     8GB\n",
      "1     8GB\n",
      "2     8GB\n",
      "3    16GB\n",
      "4     8GB\n",
      "Name: ram, dtype: object \n",
      "\n",
      "0     8\n",
      "1     8\n",
      "2     8\n",
      "3    16\n",
      "4     8\n",
      "Name: ram, dtype: object \n",
      "\n",
      "0     8\n",
      "1     8\n",
      "2     8\n",
      "3    16\n",
      "4     8\n",
      "Name: ram, dtype: int64\n"
     ]
    }
   ],
   "source": [
    "# Identify patterns\n",
    "# all ram is stored as #GB\n",
    "print(clean_data.loc[0:4, \"ram\"], \"\\n\")\n",
    "\n",
    "# vectorized string methods\n",
    "clean_data[\"ram\"] = clean_data[\"ram\"].str.replace(\"GB\", \"\")\n",
    "print(clean_data.loc[0:4, \"ram\"], \"\\n\")\n",
    "\n",
    "# changing type to numeric\n",
    "clean_data[\"ram\"] = clean_data[\"ram\"].astype(int)\n",
    "print(clean_data.loc[0:4, \"ram\"])"
   ]
  },
  {
   "cell_type": "code",
   "execution_count": 9,
   "id": "dfca51f8",
   "metadata": {},
   "outputs": [
    {
     "data": {
      "text/html": [
       "<div>\n",
       "<style scoped>\n",
       "    .dataframe tbody tr th:only-of-type {\n",
       "        vertical-align: middle;\n",
       "    }\n",
       "\n",
       "    .dataframe tbody tr th {\n",
       "        vertical-align: top;\n",
       "    }\n",
       "\n",
       "    .dataframe thead th {\n",
       "        text-align: right;\n",
       "    }\n",
       "</style>\n",
       "<table border=\"1\" class=\"dataframe\">\n",
       "  <thead>\n",
       "    <tr style=\"text-align: right;\">\n",
       "      <th></th>\n",
       "      <th>manufacturer</th>\n",
       "      <th>model_name</th>\n",
       "      <th>category</th>\n",
       "      <th>screen_size</th>\n",
       "      <th>screen</th>\n",
       "      <th>cpu</th>\n",
       "      <th>ram_gb</th>\n",
       "      <th>storage</th>\n",
       "      <th>gpu</th>\n",
       "      <th>operating_system</th>\n",
       "      <th>operating_system_version</th>\n",
       "      <th>weight</th>\n",
       "      <th>price_euros</th>\n",
       "    </tr>\n",
       "  </thead>\n",
       "  <tbody>\n",
       "    <tr>\n",
       "      <th>0</th>\n",
       "      <td>Apple</td>\n",
       "      <td>MacBook Pro</td>\n",
       "      <td>Ultrabook</td>\n",
       "      <td>13.3\"</td>\n",
       "      <td>IPS Panel Retina Display 2560x1600</td>\n",
       "      <td>Intel Core i5 2.3GHz</td>\n",
       "      <td>8</td>\n",
       "      <td>128GB SSD</td>\n",
       "      <td>Intel Iris Plus Graphics 640</td>\n",
       "      <td>macOS</td>\n",
       "      <td>NaN</td>\n",
       "      <td>1.37kg</td>\n",
       "      <td>1339,69</td>\n",
       "    </tr>\n",
       "  </tbody>\n",
       "</table>\n",
       "</div>"
      ],
      "text/plain": [
       "  manufacturer   model_name   category screen_size  \\\n",
       "0        Apple  MacBook Pro  Ultrabook       13.3\"   \n",
       "\n",
       "                               screen                   cpu  ram_gb  \\\n",
       "0  IPS Panel Retina Display 2560x1600  Intel Core i5 2.3GHz       8   \n",
       "\n",
       "     storage                           gpu operating_system  \\\n",
       "0  128GB SSD  Intel Iris Plus Graphics 640            macOS   \n",
       "\n",
       "  operating_system_version  weight price_euros  \n",
       "0                      NaN  1.37kg     1339,69  "
      ]
     },
     "execution_count": 9,
     "metadata": {},
     "output_type": "execute_result"
    }
   ],
   "source": [
    "# renaming cleaned columns to retain information\n",
    "clean_data.rename({\"ram\": \"ram_gb\"}, axis=1, inplace=True)\n",
    "clean_data.head(1)"
   ]
  },
  {
   "cell_type": "markdown",
   "id": "e07be682",
   "metadata": {},
   "source": [
    "## Remapping Values"
   ]
  },
  {
   "cell_type": "code",
   "execution_count": 10,
   "id": "afe88983",
   "metadata": {},
   "outputs": [
    {
     "name": "stdout",
     "output_type": "stream",
     "text": [
      "0      macOS\n",
      "1      macOS\n",
      "2      No OS\n",
      "3      macOS\n",
      "4      macOS\n",
      "5    Windows\n",
      "6     Mac OS\n",
      "7      macOS\n",
      "8    Windows\n",
      "9    Windows\n",
      "Name: operating_system, dtype: object\n"
     ]
    }
   ],
   "source": [
    "# remapping values\n",
    "print(clean_data[\"operating_system\"].head(10))\n",
    "\n",
    "# new values\n",
    "os_names = {\n",
    "    \"Android\": \"Android\",\n",
    "    \"Chrome OS\": \"Chrome OS\",\n",
    "    \"Linux\": \"Linux\",\n",
    "    \"Mac OS\": \"macOS\",\n",
    "    \"No OS\": \"No OS\",\n",
    "    \"Windows\": \"Windows\",\n",
    "    \"macOS\": \"macOS\",\n",
    "}\n",
    "\n",
    "clean_data[\"operating_system\"] = clean_data[\"operating_system\"].map(os_names)"
   ]
  },
  {
   "cell_type": "code",
   "execution_count": 11,
   "id": "b8bad337",
   "metadata": {},
   "outputs": [
    {
     "data": {
      "text/plain": [
       "Windows      1125\n",
       "No OS          66\n",
       "Linux          62\n",
       "Chrome OS      27\n",
       "macOS          21\n",
       "Android         2\n",
       "Name: operating_system, dtype: int64"
      ]
     },
     "execution_count": 11,
     "metadata": {},
     "output_type": "execute_result"
    }
   ],
   "source": [
    "# verify\n",
    "clean_data[\"operating_system\"].value_counts()"
   ]
  },
  {
   "cell_type": "markdown",
   "id": "fb11ddc9",
   "metadata": {},
   "source": [
    "# Extracting and Restructuring Data "
   ]
  },
  {
   "cell_type": "code",
   "execution_count": 12,
   "id": "0e9b058b",
   "metadata": {},
   "outputs": [
    {
     "name": "stdout",
     "output_type": "stream",
     "text": [
      "0          Intel Core i5 2.3GHz\n",
      "1          Intel Core i5 1.8GHz\n",
      "2    Intel Core i5 7200U 2.5GHz\n",
      "3          Intel Core i7 2.7GHz\n",
      "Name: cpu, dtype: object \n",
      "\n"
     ]
    },
    {
     "data": {
      "text/html": [
       "<div>\n",
       "<style scoped>\n",
       "    .dataframe tbody tr th:only-of-type {\n",
       "        vertical-align: middle;\n",
       "    }\n",
       "\n",
       "    .dataframe tbody tr th {\n",
       "        vertical-align: top;\n",
       "    }\n",
       "\n",
       "    .dataframe thead th {\n",
       "        text-align: right;\n",
       "    }\n",
       "</style>\n",
       "<table border=\"1\" class=\"dataframe\">\n",
       "  <thead>\n",
       "    <tr style=\"text-align: right;\">\n",
       "      <th></th>\n",
       "      <th>cpu_manufacturer</th>\n",
       "      <th>gpu_manufacturer</th>\n",
       "    </tr>\n",
       "  </thead>\n",
       "  <tbody>\n",
       "    <tr>\n",
       "      <th>0</th>\n",
       "      <td>Intel</td>\n",
       "      <td>Intel</td>\n",
       "    </tr>\n",
       "    <tr>\n",
       "      <th>1</th>\n",
       "      <td>Intel</td>\n",
       "      <td>Intel</td>\n",
       "    </tr>\n",
       "    <tr>\n",
       "      <th>2</th>\n",
       "      <td>Intel</td>\n",
       "      <td>Intel</td>\n",
       "    </tr>\n",
       "    <tr>\n",
       "      <th>3</th>\n",
       "      <td>Intel</td>\n",
       "      <td>AMD</td>\n",
       "    </tr>\n",
       "    <tr>\n",
       "      <th>4</th>\n",
       "      <td>Intel</td>\n",
       "      <td>Intel</td>\n",
       "    </tr>\n",
       "    <tr>\n",
       "      <th>...</th>\n",
       "      <td>...</td>\n",
       "      <td>...</td>\n",
       "    </tr>\n",
       "    <tr>\n",
       "      <th>1298</th>\n",
       "      <td>Intel</td>\n",
       "      <td>Intel</td>\n",
       "    </tr>\n",
       "    <tr>\n",
       "      <th>1299</th>\n",
       "      <td>Intel</td>\n",
       "      <td>Intel</td>\n",
       "    </tr>\n",
       "    <tr>\n",
       "      <th>1300</th>\n",
       "      <td>Intel</td>\n",
       "      <td>Intel</td>\n",
       "    </tr>\n",
       "    <tr>\n",
       "      <th>1301</th>\n",
       "      <td>Intel</td>\n",
       "      <td>AMD</td>\n",
       "    </tr>\n",
       "    <tr>\n",
       "      <th>1302</th>\n",
       "      <td>Intel</td>\n",
       "      <td>Intel</td>\n",
       "    </tr>\n",
       "  </tbody>\n",
       "</table>\n",
       "<p>1303 rows × 2 columns</p>\n",
       "</div>"
      ],
      "text/plain": [
       "     cpu_manufacturer gpu_manufacturer\n",
       "0               Intel            Intel\n",
       "1               Intel            Intel\n",
       "2               Intel            Intel\n",
       "3               Intel              AMD\n",
       "4               Intel            Intel\n",
       "...               ...              ...\n",
       "1298            Intel            Intel\n",
       "1299            Intel            Intel\n",
       "1300            Intel            Intel\n",
       "1301            Intel              AMD\n",
       "1302            Intel            Intel\n",
       "\n",
       "[1303 rows x 2 columns]"
      ]
     },
     "execution_count": 12,
     "metadata": {},
     "output_type": "execute_result"
    }
   ],
   "source": [
    "# identify pattern\n",
    "print(clean_data.loc[0:3, \"cpu\"], \"\\n\")\n",
    "\n",
    "# str accessor\n",
    "# split then grab the first value\n",
    "# create a new column\n",
    "clean_data[\"cpu_manufacturer\"] = clean_data[\"cpu\"].str.split().str[0]\n",
    "clean_data[\"gpu_manufacturer\"] = clean_data[\"gpu\"].str.split().str[0]\n",
    "\n",
    "# verify\n",
    "clean_data[{\"cpu_manufacturer\", \"gpu_manufacturer\"}]"
   ]
  },
  {
   "cell_type": "markdown",
   "id": "3857a9e0",
   "metadata": {},
   "source": [
    "# Finding Missing Data using isnull()"
   ]
  },
  {
   "cell_type": "code",
   "execution_count": 13,
   "id": "6473bb66",
   "metadata": {},
   "outputs": [
    {
     "name": "stdout",
     "output_type": "stream",
     "text": [
      "manufacturer                  0\n",
      "model_name                    0\n",
      "category                      0\n",
      "screen_size                   0\n",
      "screen                        0\n",
      "cpu                           0\n",
      "ram_gb                        0\n",
      "storage                       0\n",
      "gpu                           0\n",
      "operating_system              0\n",
      "operating_system_version    170\n",
      "weight                        0\n",
      "price_euros                   0\n",
      "cpu_manufacturer              0\n",
      "gpu_manufacturer              0\n",
      "dtype: int64\n"
     ]
    }
   ],
   "source": [
    "# sums up how many null values are found in each column\n",
    "print(clean_data.isnull().sum())"
   ]
  },
  {
   "cell_type": "markdown",
   "id": "9774d969",
   "metadata": {},
   "source": [
    "# Removing null values\n",
    "\n",
    "We've identified that the \"operating_system_version\" is the only column that contains null values.\n",
    "\n",
    "Rather than dropping an entire column, which would skew our data, we can dig deeper and see if we can replace, rather than remove."
   ]
  },
  {
   "cell_type": "code",
   "execution_count": 14,
   "id": "c9a9555a",
   "metadata": {},
   "outputs": [
    {
     "name": "stdout",
     "output_type": "stream",
     "text": [
      "operating_system_version\n",
      "10      1072\n",
      "NaN      170\n",
      "7         45\n",
      "X          8\n",
      "10 S       8\n",
      "Name: operating_system_version, dtype: int64\n",
      "\n",
      "\n",
      "operating_system\n",
      "No OS        66\n",
      "Linux        62\n",
      "Chrome OS    27\n",
      "macOS        13\n",
      "Android       2\n",
      "Name: operating_system, dtype: int64\n"
     ]
    }
   ],
   "source": [
    "# explore the data 1\n",
    "# where are the null values?\n",
    "print(\"operating_system_version\")\n",
    "print(clean_data[\"operating_system_version\"].value_counts(dropna=False))\n",
    "print(\"\\n\")\n",
    "\n",
    "print(\"operating_system\")\n",
    "# explore the data 2\n",
    "# why might there be null values?\n",
    "null_os = clean_data.loc[\n",
    "    clean_data[\"operating_system_version\"].isnull(), \"operating_system\"\n",
    "]\n",
    "print(null_os.value_counts())"
   ]
  },
  {
   "cell_type": "markdown",
   "id": "fc2290b1",
   "metadata": {},
   "source": [
    "# What did we find?\n",
    "\n",
    "1. There are 66 laptops with no os, and thus no version\n",
    "2. A few macs have no version,but we know macs generally have the most recently released os.\n",
    "3. Other columns could be filled in with Version Unknown\n",
    "\n",
    "## Next Steps\n",
    "1. Taking a look at the weight column"
   ]
  },
  {
   "cell_type": "code",
   "execution_count": 15,
   "id": "be425557",
   "metadata": {},
   "outputs": [],
   "source": [
    "# Replacing null macOS with our best guess\n",
    "clean_data.loc[clean_data[\"operating_system\"] == \"macOS\", \"os_version\"] = \"X\"\n",
    "\n",
    "# replacing No OS with version unkown\n",
    "clean_data.loc[\n",
    "    clean_data[\"operating_system\"] == \"No OS\", \"os_version\"\n",
    "] = \"Version Unknown\""
   ]
  },
  {
   "cell_type": "code",
   "execution_count": 16,
   "id": "cc32a9b9",
   "metadata": {},
   "outputs": [
    {
     "name": "stdout",
     "output_type": "stream",
     "text": [
      "0    1.37kg\n",
      "1    1.34kg\n",
      "2    1.86kg\n",
      "3    1.83kg\n",
      "4    1.37kg\n",
      "Name: weight, dtype: object\n"
     ]
    }
   ],
   "source": [
    "print(clean_data[\"weight\"].head())"
   ]
  },
  {
   "cell_type": "code",
   "execution_count": 17,
   "id": "360e1eee",
   "metadata": {},
   "outputs": [
    {
     "data": {
      "text/plain": [
       "0       1.37\n",
       "1       1.34\n",
       "2       1.86\n",
       "3       1.83\n",
       "4       1.37\n",
       "        ... \n",
       "1298    1.80\n",
       "1299    1.30\n",
       "1300    1.50\n",
       "1301    2.19\n",
       "1302    2.20\n",
       "Name: weight_kg, Length: 1303, dtype: float64"
      ]
     },
     "execution_count": 17,
     "metadata": {},
     "output_type": "execute_result"
    }
   ],
   "source": [
    "# the format seems to be #.##kg\n",
    "# we know ahead of time that one is listed as kgs\n",
    "\n",
    "# remove the kg/kgs\n",
    "clean_data[\"weight\"] = clean_data[\"weight\"].str.replace(\"kgs\", \"\")\n",
    "clean_data[\"weight\"] = clean_data[\"weight\"].str.replace(\"kg\", \"\")\n",
    "\n",
    "# change the type to float\n",
    "clean_data[\"weight\"] = clean_data[\"weight\"].astype(float)\n",
    "\n",
    "# add kg to the name, in order to retain information\n",
    "clean_data.rename({\"weight\": \"weight_kg\"}, axis=1, inplace=True)\n",
    "\n",
    "# verify\n",
    "clean_data[\"weight_kg\"]"
   ]
  },
  {
   "cell_type": "code",
   "execution_count": 21,
   "id": "ce74ae9c",
   "metadata": {},
   "outputs": [],
   "source": [
    "clean_data.to_csv(\"laptops_cv1\")"
   ]
  }
 ],
 "metadata": {
  "kernelspec": {
   "display_name": "Python 3 (ipykernel)",
   "language": "python",
   "name": "python3"
  },
  "language_info": {
   "codemirror_mode": {
    "name": "ipython",
    "version": 3
   },
   "file_extension": ".py",
   "mimetype": "text/x-python",
   "name": "python",
   "nbconvert_exporter": "python",
   "pygments_lexer": "ipython3",
   "version": "3.9.5"
  }
 },
 "nbformat": 4,
 "nbformat_minor": 5
}
