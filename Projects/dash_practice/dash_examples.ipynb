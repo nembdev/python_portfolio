{
 "cells": [
  {
   "cell_type": "code",
   "execution_count": 1,
   "id": "03a82c3b",
   "metadata": {},
   "outputs": [],
   "source": [
    "# dash for the web app\n",
    "# html for layout\n",
    "# dcc = core components\n",
    "from dash import Dash, html, dcc\n",
    "import plotly.express as px\n",
    "import pandas as pd"
   ]
  },
  {
   "cell_type": "code",
   "execution_count": 2,
   "id": "bf6fd630",
   "metadata": {},
   "outputs": [],
   "source": [
    "app = Dash(__name__)"
   ]
  },
  {
   "cell_type": "code",
   "execution_count": 3,
   "id": "d31da51c",
   "metadata": {},
   "outputs": [],
   "source": [
    "df = pd.DataFrame({\n",
    "    \"Fruit\": [\"Apples\", \"Oranges\", \"Bananas\", \"Apples\", \"Oranges\", \"Bananas\"],\n",
    "    \"Amount\": [4, 1, 2, 2, 4, 5],\n",
    "    \"City\": [\"SF\", \"SF\", \"SF\", \"Montreal\", \"Montreal\", \"Montreal\"]\n",
    "})"
   ]
  },
  {
   "cell_type": "code",
   "execution_count": 4,
   "id": "afea5133",
   "metadata": {},
   "outputs": [],
   "source": [
    "fig = px.bar(df, x=\"Fruit\", y=\"Amount\", color=\"City\", barmode=\"group\")"
   ]
  },
  {
   "cell_type": "markdown",
   "id": "d61c0f2b",
   "metadata": {},
   "source": [
    "## Layout\n",
    "\n",
    "Describes what the app should look like."
   ]
  },
  {
   "cell_type": "code",
   "execution_count": 5,
   "id": "ba70c7c6",
   "metadata": {},
   "outputs": [],
   "source": [
    "app.layout = html.Div(children=[html.H1(children=\"Hello Dash\"),\n",
    "                                html.Div(\n",
    "                                    children='''An example Dash Web App'''),\n",
    "                                dcc.Graph(id='test_graph', figure=fig)])"
   ]
  },
  {
   "cell_type": "code",
   "execution_count": null,
   "id": "5570eae8",
   "metadata": {},
   "outputs": [
    {
     "name": "stdout",
     "output_type": "stream",
     "text": [
      "Dash is running on http://127.0.0.1:8090/\n",
      "\n",
      " * Serving Flask app \"__main__\" (lazy loading)\n",
      " * Environment: production\n",
      "\u001b[31m   WARNING: This is a development server. Do not use it in a production deployment.\u001b[0m\n",
      "\u001b[2m   Use a production WSGI server instead.\u001b[0m\n",
      " * Debug mode: off\n"
     ]
    },
    {
     "name": "stderr",
     "output_type": "stream",
     "text": [
      " * Running on http://127.0.0.1:8090/ (Press CTRL+C to quit)\n"
     ]
    }
   ],
   "source": [
    "app.run(port=8090, dev_tools_ui=True,  # debug=True,\n",
    "        dev_tools_hot_reload=True, threaded=True)"
   ]
  }
 ],
 "metadata": {
  "kernelspec": {
   "display_name": "Python 3 (ipykernel)",
   "language": "python",
   "name": "python3"
  },
  "language_info": {
   "codemirror_mode": {
    "name": "ipython",
    "version": 3
   },
   "file_extension": ".py",
   "mimetype": "text/x-python",
   "name": "python",
   "nbconvert_exporter": "python",
   "pygments_lexer": "ipython3",
   "version": "3.9.12"
  }
 },
 "nbformat": 4,
 "nbformat_minor": 5
}
