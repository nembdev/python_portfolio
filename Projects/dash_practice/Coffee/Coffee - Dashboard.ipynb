{
 "cells": [
  {
   "cell_type": "markdown",
   "id": "f7e63462",
   "metadata": {},
   "source": [
    "## Setup\n",
    "\n",
    "* Loads completed data analysis stored in 'Coffee Code.ipynb'.\n",
    "* creates a fresh db if needed"
   ]
  },
  {
   "cell_type": "code",
   "execution_count": null,
   "id": "74f3535e",
   "metadata": {
    "scrolled": true
   },
   "outputs": [],
   "source": [
    "# Data Analysis setup\n",
    "import os\n",
    "from pathlib import Path\n",
    "\n",
    "\n",
    "path = Path('coffee.db')\n",
    "\n",
    "if path.is_file():\n",
    "    print('db exists')\n",
    "    os.remove('coffee.db')\n",
    "    print('db deleted')\n",
    "    print('creating fresh db')\n",
    "else:\n",
    "    print('creating fresh db')\n",
    "\n",
    "%run 'Coffee Code.ipynb'"
   ]
  },
  {
   "cell_type": "markdown",
   "id": "43fe51cc",
   "metadata": {},
   "source": [
    "## Dash Imports"
   ]
  },
  {
   "cell_type": "code",
   "execution_count": null,
   "id": "fec1f0a0",
   "metadata": {},
   "outputs": [],
   "source": [
    "# dash for the web app\n",
    "# html for layout\n",
    "# dcc = core components\n",
    "from dash import Dash, html, dcc\n",
    "import plotly.express as px\n",
    "import pandas as pd"
   ]
  },
  {
   "cell_type": "markdown",
   "id": "2f87f655",
   "metadata": {},
   "source": [
    "## Figures\n",
    "\n",
    "Array of plotly express figures."
   ]
  },
  {
   "cell_type": "code",
   "execution_count": null,
   "id": "f42ed72d",
   "metadata": {},
   "outputs": [],
   "source": [
    "figs = [dvolume_ip_fig, dvolume_ol_fig, hvolume_ip_fig, hvolume_ol_fig,\n",
    "        store3_all, total_sales_fig, top_staff_fig, bottom_staff_fig, staff_percents_fig]"
   ]
  },
  {
   "cell_type": "markdown",
   "id": "2483fcf2",
   "metadata": {},
   "source": [
    "## Dashboard Setup"
   ]
  },
  {
   "cell_type": "code",
   "execution_count": null,
   "id": "9adbca67",
   "metadata": {},
   "outputs": [],
   "source": [
    "app = Dash(__name__)"
   ]
  },
  {
   "cell_type": "code",
   "execution_count": null,
   "id": "a8892a63",
   "metadata": {},
   "outputs": [],
   "source": [
    "app.layout = html.Div(children=[\n",
    "    # All elements from the top of the page\n",
    "    html.Div([\n",
    "        html.H1(children='Store In-Person Daily Volume'),\n",
    "\n",
    "        html.Div(children='''\n",
    "            dvolume_ip_fig\n",
    "        '''),\n",
    "\n",
    "        dcc.Graph(\n",
    "            id='dvolume_ip_fig',\n",
    "            figure=figs[0]\n",
    "        ),  \n",
    "    ]),\n",
    "    # New Div for all elements in the new 'row' of the page\n",
    "    html.Div([\n",
    "        html.H1(children='Store Online Daily Volume'),\n",
    "\n",
    "        html.Div(children='''\n",
    "            dvolume_ol_fig\n",
    "        '''),\n",
    "\n",
    "        dcc.Graph(\n",
    "            id='dvolume_ol_fig',\n",
    "            figure=figs[1]\n",
    "        ),  \n",
    "    ]),\n",
    "    # New Div for all elements in the new 'row' of the page\n",
    "    html.Div([\n",
    "        html.H1(children='Store In-Person Hourly Volume'),\n",
    "\n",
    "        html.Div(children='''\n",
    "            hvolume_ip_fig\n",
    "        '''),\n",
    "\n",
    "        dcc.Graph(\n",
    "            id='hvolume_ip_fig',\n",
    "            figure=figs[2]\n",
    "        ),  \n",
    "    ]),\n",
    "        # New Div for all elements in the new 'row' of the page\n",
    "    html.Div([\n",
    "        html.H1(children='Store Online Hourly Volume'),\n",
    "\n",
    "        html.Div(children='''\n",
    "            hvolume_ol_fig\n",
    "        '''),\n",
    "\n",
    "        dcc.Graph(\n",
    "            id='hvolume_ol_fig',\n",
    "            figure=figs[3]\n",
    "        ),  \n",
    "    ]),\n",
    "        # New Div for all elements in the new 'row' of the page\n",
    "    html.Div([\n",
    "        html.H1(children='Single Store Comparison - Store 3'),\n",
    "\n",
    "        html.Div(children='''\n",
    "            store3_all\n",
    "        '''),\n",
    "\n",
    "        dcc.Graph(\n",
    "            id='store3_all',\n",
    "            figure=figs[4]\n",
    "        ),  \n",
    "    ]),\n",
    "        # New Div for all elements in the new 'row' of the page\n",
    "    html.Div([\n",
    "        html.H1(children='Total Sales Per Staff Member'),\n",
    "\n",
    "        html.Div(children='''\n",
    "            total_sales_fig\n",
    "        '''),\n",
    "\n",
    "        dcc.Graph(\n",
    "            id='total_sales_fig',\n",
    "            figure=figs[5]\n",
    "        ),  \n",
    "    ]),\n",
    "        # New Div for all elements in the new 'row' of the page\n",
    "    html.Div([\n",
    "        html.H1(children='Top 5 Staff By Total Sales'),\n",
    "\n",
    "        html.Div(children='''\n",
    "            top_staff_fig\n",
    "        '''),\n",
    "\n",
    "        dcc.Graph(\n",
    "            id='top_staff_fig',\n",
    "            figure=figs[6]\n",
    "        ),  \n",
    "    ]),\n",
    "        # New Div for all elements in the new 'row' of the page\n",
    "    html.Div([\n",
    "        html.H1(children='Bottom 5 Staff By Total Sales'),\n",
    "\n",
    "        html.Div(children='''\n",
    "            bottom_staff_fig\n",
    "        '''),\n",
    "\n",
    "        dcc.Graph(\n",
    "            id='bottom_staff_fig',\n",
    "            figure=figs[7]\n",
    "        ),  \n",
    "    ]),\n",
    "    # New Div for all elements in the new 'row' of the page\n",
    "    html.Div([\n",
    "        html.H1(children='Percentage of Sales By Staff Member'),\n",
    "\n",
    "        html.Div(children='''\n",
    "            staff_percents_fig\n",
    "        '''),\n",
    "\n",
    "        dcc.Graph(\n",
    "            id='staff_percents_fig',\n",
    "            figure=figs[8]\n",
    "        ),  \n",
    "    ]),\n",
    "])"
   ]
  },
  {
   "cell_type": "markdown",
   "id": "5bb3f095",
   "metadata": {},
   "source": [
    "## Launch\n",
    "\n",
    "Launches a Dash Dashboard locally."
   ]
  },
  {
   "cell_type": "code",
   "execution_count": null,
   "id": "f7120fb9",
   "metadata": {},
   "outputs": [],
   "source": [
    "app.run(port=8090, dev_tools_ui=True,  # debug=True,\n",
    "        dev_tools_hot_reload=True, threaded=True)"
   ]
  }
 ],
 "metadata": {
  "kernelspec": {
   "display_name": "Python 3 (ipykernel)",
   "language": "python",
   "name": "python3"
  },
  "language_info": {
   "codemirror_mode": {
    "name": "ipython",
    "version": 3
   },
   "file_extension": ".py",
   "mimetype": "text/x-python",
   "name": "python",
   "nbconvert_exporter": "python",
   "pygments_lexer": "ipython3",
   "version": "3.9.12"
  }
 },
 "nbformat": 4,
 "nbformat_minor": 5
}
