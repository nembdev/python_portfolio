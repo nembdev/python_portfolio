{
 "cells": [
  {
   "cell_type": "code",
   "execution_count": 1,
   "id": "74f3535e",
   "metadata": {
    "scrolled": true
   },
   "outputs": [
    {
     "name": "stdout",
     "output_type": "stream",
     "text": [
      "db exists\n",
      "db deleted\n",
      "creating fresh db\n"
     ]
    },
    {
     "data": {
      "text/html": [
       "<style >\n",
       "td {\n",
       "    font-size: 18px\n",
       "}\n",
       "</style >\n"
      ],
      "text/plain": [
       "<IPython.core.display.HTML object>"
      ]
     },
     "metadata": {},
     "output_type": "display_data"
    }
   ],
   "source": [
    "# Data Analysis setup\n",
    "import os\n",
    "from pathlib import Path\n",
    "\n",
    "\n",
    "path = Path('coffee.db')\n",
    "\n",
    "if path.is_file():\n",
    "    print('db exists')\n",
    "    os.remove('coffee.db')\n",
    "    print('db deleted')\n",
    "    print('creating fresh db')\n",
    "else:\n",
    "    print('creating fresh db')\n",
    "\n",
    "%run 'Coffee Code.ipynb'"
   ]
  },
  {
   "cell_type": "code",
   "execution_count": 2,
   "id": "fec1f0a0",
   "metadata": {},
   "outputs": [],
   "source": [
    "# dash for the web app\n",
    "# html for layout\n",
    "# dcc = core components\n",
    "from dash import Dash, html, dcc\n",
    "import plotly.express as px\n",
    "import pandas as pd"
   ]
  },
  {
   "cell_type": "code",
   "execution_count": 3,
   "id": "f42ed72d",
   "metadata": {},
   "outputs": [],
   "source": [
    "figs = [dvolume_ip_fig, dvolume_ol_fig, hvolume_ip_fig, hvolume_ol_fig,\n",
    "        store3_all, total_sales_fig, top_staff_fig, bottom_staff_fig, staff_percents_fig]"
   ]
  },
  {
   "cell_type": "code",
   "execution_count": 4,
   "id": "9adbca67",
   "metadata": {},
   "outputs": [],
   "source": [
    "app = Dash(__name__)"
   ]
  },
  {
   "cell_type": "code",
   "execution_count": 5,
   "id": "a8892a63",
   "metadata": {},
   "outputs": [],
   "source": [
    "app.layout = html.Div(children=[\n",
    "    # All elements from the top of the page\n",
    "    html.Div([\n",
    "        html.H1(children='Store In-Person Daily Volume'),\n",
    "\n",
    "        html.Div(children='''\n",
    "            dvolume_ip_fig\n",
    "        '''),\n",
    "\n",
    "        dcc.Graph(\n",
    "            id='dvolume_ip_fig',\n",
    "            figure=figs[0]\n",
    "        ),  \n",
    "    ]),\n",
    "    # New Div for all elements in the new 'row' of the page\n",
    "    html.Div([\n",
    "        html.H1(children='Store Online Daily Volume'),\n",
    "\n",
    "        html.Div(children='''\n",
    "            dvolume_ol_fig\n",
    "        '''),\n",
    "\n",
    "        dcc.Graph(\n",
    "            id='dvolume_ol_fig',\n",
    "            figure=figs[1]\n",
    "        ),  \n",
    "    ]),\n",
    "    # New Div for all elements in the new 'row' of the page\n",
    "    html.Div([\n",
    "        html.H1(children='Store In-Person Hourly Volume'),\n",
    "\n",
    "        html.Div(children='''\n",
    "            hvolume_ip_fig\n",
    "        '''),\n",
    "\n",
    "        dcc.Graph(\n",
    "            id='hvolume_ip_fig',\n",
    "            figure=figs[2]\n",
    "        ),  \n",
    "    ]),\n",
    "        # New Div for all elements in the new 'row' of the page\n",
    "    html.Div([\n",
    "        html.H1(children='Store Online Hourly Volume'),\n",
    "\n",
    "        html.Div(children='''\n",
    "            hvolume_ol_fig\n",
    "        '''),\n",
    "\n",
    "        dcc.Graph(\n",
    "            id='hvolume_ol_fig',\n",
    "            figure=figs[3]\n",
    "        ),  \n",
    "    ]),\n",
    "        # New Div for all elements in the new 'row' of the page\n",
    "    html.Div([\n",
    "        html.H1(children='Single Store Comparison - Store 3'),\n",
    "\n",
    "        html.Div(children='''\n",
    "            store3_all\n",
    "        '''),\n",
    "\n",
    "        dcc.Graph(\n",
    "            id='store3_all',\n",
    "            figure=figs[4]\n",
    "        ),  \n",
    "    ]),\n",
    "        # New Div for all elements in the new 'row' of the page\n",
    "    html.Div([\n",
    "        html.H1(children='Total Sales Per Staff Member'),\n",
    "\n",
    "        html.Div(children='''\n",
    "            total_sales_fig\n",
    "        '''),\n",
    "\n",
    "        dcc.Graph(\n",
    "            id='total_sales_fig',\n",
    "            figure=figs[5]\n",
    "        ),  \n",
    "    ]),\n",
    "        # New Div for all elements in the new 'row' of the page\n",
    "    html.Div([\n",
    "        html.H1(children='Top 5 Staff By Total Sales'),\n",
    "\n",
    "        html.Div(children='''\n",
    "            top_staff_fig\n",
    "        '''),\n",
    "\n",
    "        dcc.Graph(\n",
    "            id='top_staff_fig',\n",
    "            figure=figs[6]\n",
    "        ),  \n",
    "    ]),\n",
    "        # New Div for all elements in the new 'row' of the page\n",
    "    html.Div([\n",
    "        html.H1(children='Bottom 5 Staff By Total Sales'),\n",
    "\n",
    "        html.Div(children='''\n",
    "            bottom_staff_fig\n",
    "        '''),\n",
    "\n",
    "        dcc.Graph(\n",
    "            id='bottom_staff_fig',\n",
    "            figure=figs[7]\n",
    "        ),  \n",
    "    ]),\n",
    "    # New Div for all elements in the new 'row' of the page\n",
    "    html.Div([\n",
    "        html.H1(children='Percentage of Sales By Staff Member'),\n",
    "\n",
    "        html.Div(children='''\n",
    "            staff_percents_fig\n",
    "        '''),\n",
    "\n",
    "        dcc.Graph(\n",
    "            id='staff_percents_fig',\n",
    "            figure=figs[8]\n",
    "        ),  \n",
    "    ]),\n",
    "])"
   ]
  },
  {
   "cell_type": "code",
   "execution_count": null,
   "id": "f7120fb9",
   "metadata": {},
   "outputs": [
    {
     "name": "stdout",
     "output_type": "stream",
     "text": [
      "Dash is running on http://127.0.0.1:8090/\n",
      "\n",
      " * Serving Flask app \"__main__\" (lazy loading)\n",
      " * Environment: production\n",
      "\u001b[31m   WARNING: This is a development server. Do not use it in a production deployment.\u001b[0m\n",
      "\u001b[2m   Use a production WSGI server instead.\u001b[0m\n",
      " * Debug mode: off\n"
     ]
    },
    {
     "name": "stderr",
     "output_type": "stream",
     "text": [
      " * Running on http://127.0.0.1:8090/ (Press CTRL+C to quit)\n",
      "127.0.0.1 - - [16/Jun/2022 00:27:11] \"GET /_reload-hash HTTP/1.1\" 200 -\n",
      "127.0.0.1 - - [16/Jun/2022 00:27:11] \"GET /_dash-dependencies HTTP/1.1\" 200 -\n",
      "127.0.0.1 - - [16/Jun/2022 00:27:11] \"GET /_dash-layout HTTP/1.1\" 200 -\n",
      "127.0.0.1 - - [16/Jun/2022 00:27:15] \"GET /_reload-hash HTTP/1.1\" 200 -\n",
      "127.0.0.1 - - [16/Jun/2022 00:27:15] \"GET /_dash-dependencies HTTP/1.1\" 200 -\n",
      "127.0.0.1 - - [16/Jun/2022 00:27:15] \"GET /_dash-layout HTTP/1.1\" 200 -\n",
      "127.0.0.1 - - [16/Jun/2022 00:27:17] \"GET /_reload-hash HTTP/1.1\" 200 -\n",
      "127.0.0.1 - - [16/Jun/2022 00:27:18] \"GET / HTTP/1.1\" 200 -\n",
      "127.0.0.1 - - [16/Jun/2022 00:27:18] \"GET /_dash-dependencies HTTP/1.1\" 200 -\n",
      "127.0.0.1 - - [16/Jun/2022 00:27:18] \"GET /_dash-layout HTTP/1.1\" 200 -\n",
      "127.0.0.1 - - [16/Jun/2022 00:27:19] \"GET /_dash-component-suites/dash/dcc/async-graph.js HTTP/1.1\" 304 -\n",
      "127.0.0.1 - - [16/Jun/2022 00:27:19] \"GET /_dash-component-suites/dash/dcc/async-plotlyjs.js HTTP/1.1\" 304 -\n",
      "127.0.0.1 - - [16/Jun/2022 00:27:33] \"GET /_reload-hash HTTP/1.1\" 200 -\n",
      "127.0.0.1 - - [16/Jun/2022 00:27:48] \"GET /_reload-hash HTTP/1.1\" 200 -\n",
      "127.0.0.1 - - [16/Jun/2022 00:27:51] \"GET /_reload-hash HTTP/1.1\" 200 -\n",
      "127.0.0.1 - - [16/Jun/2022 00:27:54] \"GET /_reload-hash HTTP/1.1\" 200 -\n",
      "127.0.0.1 - - [16/Jun/2022 00:27:57] \"GET /_reload-hash HTTP/1.1\" 200 -\n",
      "127.0.0.1 - - [16/Jun/2022 00:28:00] \"GET /_reload-hash HTTP/1.1\" 200 -\n",
      "127.0.0.1 - - [16/Jun/2022 00:28:03] \"GET /_reload-hash HTTP/1.1\" 200 -\n",
      "127.0.0.1 - - [16/Jun/2022 00:28:06] \"GET /_reload-hash HTTP/1.1\" 200 -\n",
      "127.0.0.1 - - [16/Jun/2022 00:28:09] \"GET /_reload-hash HTTP/1.1\" 200 -\n",
      "127.0.0.1 - - [16/Jun/2022 00:28:12] \"GET /_reload-hash HTTP/1.1\" 200 -\n",
      "127.0.0.1 - - [16/Jun/2022 00:28:15] \"GET /_reload-hash HTTP/1.1\" 200 -\n",
      "127.0.0.1 - - [16/Jun/2022 00:28:18] \"GET /_reload-hash HTTP/1.1\" 200 -\n",
      "127.0.0.1 - - [16/Jun/2022 00:28:21] \"GET /_reload-hash HTTP/1.1\" 200 -\n",
      "127.0.0.1 - - [16/Jun/2022 00:28:24] \"GET /_reload-hash HTTP/1.1\" 200 -\n",
      "127.0.0.1 - - [16/Jun/2022 00:28:27] \"GET /_reload-hash HTTP/1.1\" 200 -\n",
      "127.0.0.1 - - [16/Jun/2022 00:28:30] \"GET /_reload-hash HTTP/1.1\" 200 -\n",
      "127.0.0.1 - - [16/Jun/2022 00:28:33] \"GET /_reload-hash HTTP/1.1\" 200 -\n",
      "127.0.0.1 - - [16/Jun/2022 00:28:36] \"GET /_reload-hash HTTP/1.1\" 200 -\n",
      "127.0.0.1 - - [16/Jun/2022 00:28:39] \"GET /_reload-hash HTTP/1.1\" 200 -\n",
      "127.0.0.1 - - [16/Jun/2022 00:28:42] \"GET /_reload-hash HTTP/1.1\" 200 -\n",
      "127.0.0.1 - - [16/Jun/2022 00:28:45] \"GET /_reload-hash HTTP/1.1\" 200 -\n",
      "127.0.0.1 - - [16/Jun/2022 00:28:48] \"GET /_reload-hash HTTP/1.1\" 200 -\n",
      "127.0.0.1 - - [16/Jun/2022 00:28:51] \"GET /_reload-hash HTTP/1.1\" 200 -\n",
      "127.0.0.1 - - [16/Jun/2022 00:28:54] \"GET /_reload-hash HTTP/1.1\" 200 -\n",
      "127.0.0.1 - - [16/Jun/2022 00:28:57] \"GET /_reload-hash HTTP/1.1\" 200 -\n",
      "127.0.0.1 - - [16/Jun/2022 00:29:00] \"GET /_reload-hash HTTP/1.1\" 200 -\n",
      "127.0.0.1 - - [16/Jun/2022 00:29:03] \"GET /_reload-hash HTTP/1.1\" 200 -\n"
     ]
    }
   ],
   "source": [
    "app.run(port=8090, dev_tools_ui=True,  # debug=True,\n",
    "        dev_tools_hot_reload=True, threaded=True)"
   ]
  }
 ],
 "metadata": {
  "kernelspec": {
   "display_name": "Python 3 (ipykernel)",
   "language": "python",
   "name": "python3"
  },
  "language_info": {
   "codemirror_mode": {
    "name": "ipython",
    "version": 3
   },
   "file_extension": ".py",
   "mimetype": "text/x-python",
   "name": "python",
   "nbconvert_exporter": "python",
   "pygments_lexer": "ipython3",
   "version": "3.9.12"
  }
 },
 "nbformat": 4,
 "nbformat_minor": 5
}
