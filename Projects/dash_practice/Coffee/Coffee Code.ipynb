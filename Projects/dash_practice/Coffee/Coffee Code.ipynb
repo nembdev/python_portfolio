{
 "cells": [
  {
   "cell_type": "markdown",
   "id": "7b10f2fa",
   "metadata": {},
   "source": [
    "## Library Imports"
   ]
  },
  {
   "cell_type": "code",
   "execution_count": 1,
   "id": "83090a08",
   "metadata": {},
   "outputs": [],
   "source": [
    "# data\n",
    "from pathlib import Path\n",
    "import sqlite3\n",
    "from datetime import datetime\n",
    "import datetime as dt\n",
    "from plotly.subplots import make_subplots\n",
    "import plotly.graph_objects as go\n",
    "import plotly.express as px\n",
    "import pandas as pd\n",
    "\n",
    "# offline charting\n",
    "import plotly.io as pio\n",
    "\n",
    "pio.renderers.default = \"notebook\"\n",
    "pio.kaleido.scope.default_format = \"svg\"\n",
    "\n",
    "# visuals\n",
    "\n",
    "# date and time\n",
    "\n",
    "# sql\n",
    "\n",
    "# system"
   ]
  },
  {
   "cell_type": "code",
   "execution_count": 2,
   "id": "769425b0",
   "metadata": {},
   "outputs": [
    {
     "data": {
      "text/html": [
       "<style >\n",
       "td {\n",
       "    font-size: 18px\n",
       "}\n",
       "</style >\n"
      ],
      "text/plain": [
       "<IPython.core.display.HTML object>"
      ]
     },
     "metadata": {},
     "output_type": "display_data"
    }
   ],
   "source": [
    "%%html\n",
    "<style >\n",
    "td {\n",
    "    font-size: 18px\n",
    "}\n",
    "</style >"
   ]
  },
  {
   "cell_type": "code",
   "execution_count": 3,
   "id": "f7ff2804",
   "metadata": {},
   "outputs": [
    {
     "data": {
      "text/plain": [
       "<sqlite3.Cursor at 0x7f6cc2b21ab0>"
      ]
     },
     "execution_count": 3,
     "metadata": {},
     "output_type": "execute_result"
    }
   ],
   "source": [
    "# create our initial db file\n",
    "Path(\"coffee.db\").touch()\n",
    "\n",
    "# create a db connection\n",
    "connection = sqlite3.connect(\"coffee.db\")\n",
    "\n",
    "# cursor - database iterator\n",
    "c = connection.cursor()\n",
    "\n",
    "# create a sample table to verify\n",
    "# c.execute('''CREATE TABLE sample_table (u_id int, email text)''')\n",
    "\n",
    "# load the data into a dataframe\n",
    "customers = pd.read_csv(\"customer.csv\")\n",
    "\n",
    "# write df to a sqlite table\n",
    "customers.to_sql(\n",
    "    \"customers\", connection, if_exists=\"append\", index=False\n",
    ")  # 2246 results\n",
    "\n",
    "# data for our second table/df\n",
    "sales = pd.read_csv(\"2019_04_sales_reciepts.csv\")\n",
    "\n",
    "# second table\n",
    "sales.to_sql(\"sales\", connection, if_exists=\"append\",\n",
    "             index=False)  # 49894 results\n",
    "\n",
    "# verify\n",
    "# fetchall returns an array of tuples\n",
    "# c.execute('''SELECT *  FROM customers''').fetchall()\n",
    "\n",
    "# verify second table\n",
    "# c.execute('''SELECT *  FROM sales''').fetchall()\n",
    "\n",
    "# join our two tables\n",
    "c.execute(\n",
    "    \"\"\"SELECT * FROM sales s LEFT JOIN customers c ON c.customer_id = s.customer_id\"\"\"\n",
    ")\n",
    "# c.fetchall()"
   ]
  },
  {
   "cell_type": "code",
   "execution_count": 4,
   "id": "9e786f60",
   "metadata": {
    "scrolled": false
   },
   "outputs": [],
   "source": [
    "# import our joined sql tables into a dataframe\n",
    "coffee = pd.read_sql(\n",
    "    \"\"\"SELECT * FROM sales s LEFT JOIN customers c ON c.customer_id = s.customer_id\"\"\",\n",
    "    connection,\n",
    ")\n",
    "\n",
    "# delete duplicate column\n",
    "coffee = coffee.loc[:, ~coffee.columns.duplicated()]"
   ]
  },
  {
   "cell_type": "code",
   "execution_count": 5,
   "id": "05094e22",
   "metadata": {},
   "outputs": [],
   "source": [
    "coffee = coffee.fillna(0)"
   ]
  },
  {
   "cell_type": "code",
   "execution_count": 6,
   "id": "ae54ce89",
   "metadata": {
    "scrolled": true
   },
   "outputs": [
    {
     "data": {
      "text/plain": [
       "Index(['transaction_id', 'transaction_date', 'transaction_time', 'shop_id',\n",
       "       'staff_id', 'customer_id', 'instore_purchase', 'order', 'line_item_id',\n",
       "       'product_id', 'quantity', 'line_item_amount', 'unit_price',\n",
       "       'promo_item', 'home_store', 'customer_name', 'email', 'customer_since',\n",
       "       'loyalty_id', 'birthdate', 'gender', 'birth_year'],\n",
       "      dtype='object')"
      ]
     },
     "execution_count": 6,
     "metadata": {},
     "output_type": "execute_result"
    }
   ],
   "source": [
    "coffee.rename(\n",
    "    columns={\n",
    "        \"sales_outlet_id\": \"shop_id\",\n",
    "        \"instore_yn\": \"instore_purchase\",\n",
    "        \"promo_item_yn\": \"promo_item\",\n",
    "        \"customer_first-name\": \"customer_name\",\n",
    "        \"customer_email\": \"email\",\n",
    "        \"loyalty_card_number\": \"loyalty_id\",\n",
    "    },\n",
    "    inplace=True,\n",
    ")\n",
    "# coffee.columns"
   ]
  },
  {
   "cell_type": "code",
   "execution_count": 7,
   "id": "ba6f3c1b",
   "metadata": {},
   "outputs": [],
   "source": [
    "coffee.loc[coffee[\"instore_purchase\"] == \"Y\", \"instore_purchase\"] = True\n",
    "coffee.loc[coffee[\"instore_purchase\"] == \"N\", \"instore_purchase\"] = False\n",
    "coffee[\"instore_purchase\"] = coffee[\"instore_purchase\"].astype(bool)"
   ]
  },
  {
   "cell_type": "code",
   "execution_count": 8,
   "id": "2a81a3ce",
   "metadata": {
    "scrolled": false
   },
   "outputs": [],
   "source": [
    "coffee[\"transaction_date\"] = pd.to_datetime(coffee[\"transaction_date\"])\n",
    "coffee[\"transaction_time\"] = pd.to_datetime(coffee[\"transaction_time\"])\n",
    "coffee[\"birthdate\"] = pd.to_datetime(coffee[\"birthdate\"])\n",
    "\n",
    "# special formating for year\n",
    "coffee[\"birth_year\"] = coffee[\"birth_year\"].astype(int)\n",
    "coffee.loc[\n",
    "    coffee[\"birth_year\"] == 0, \"birth_year\"\n",
    "] = 1900  # placeholder for Missing Values\n",
    "coffee[\"birth_year\"] = pd.to_datetime(coffee[\"birth_year\"], format=\"%Y\")\n",
    "\n",
    "# verify\n",
    "#coffee[[\"transaction_date\", \"transaction_time\",\n",
    "#        \"birthdate\", \"birth_year\"]].head(5)"
   ]
  },
  {
   "cell_type": "code",
   "execution_count": 9,
   "id": "31543af5",
   "metadata": {},
   "outputs": [],
   "source": [
    "# Misc Cleaning - converting home store datatype\n",
    "coffee[\"home_store\"] = coffee[\"home_store\"].astype(int)"
   ]
  },
  {
   "cell_type": "code",
   "execution_count": 10,
   "id": "31541689",
   "metadata": {},
   "outputs": [],
   "source": [
    "# Stores\n",
    "# coffee[\"shop_id\"].unique()"
   ]
  },
  {
   "cell_type": "code",
   "execution_count": 11,
   "id": "6895cf1c",
   "metadata": {
    "scrolled": false
   },
   "outputs": [],
   "source": [
    "coffee_inperson = coffee[coffee[\"instore_purchase\"] == True]\n",
    "coffee_online = coffee[coffee[\"instore_purchase\"] == False]\n",
    "\n",
    "\n",
    "store3 = coffee[coffee[\"shop_id\"] == 3]\n",
    "store3_inperson = coffee.loc[\n",
    "    (coffee[\"shop_id\"] == 3) & (coffee[\"instore_purchase\"] == True)\n",
    "]\n",
    "store3_online = coffee.loc[\n",
    "    (coffee[\"shop_id\"] == 3) & (coffee[\"instore_purchase\"] == False)\n",
    "]\n",
    "\n",
    "store5 = coffee[coffee[\"shop_id\"] == 5]\n",
    "store5_inperson = coffee.loc[\n",
    "    (coffee[\"shop_id\"] == 5) & (coffee[\"instore_purchase\"] == True)\n",
    "]\n",
    "store5_online = coffee.loc[\n",
    "    (coffee[\"shop_id\"] == 5) & (coffee[\"instore_purchase\"] == False)\n",
    "]\n",
    "\n",
    "store8 = coffee[coffee[\"shop_id\"] == 8]\n",
    "store8_inperson = coffee.loc[\n",
    "    (coffee[\"shop_id\"] == 8) & (coffee[\"instore_purchase\"] == True)\n",
    "]\n",
    "store8_online = coffee.loc[\n",
    "    (coffee[\"shop_id\"] == 8) & (coffee[\"instore_purchase\"] == False)\n",
    "]"
   ]
  },
  {
   "cell_type": "code",
   "execution_count": 12,
   "id": "adf07673",
   "metadata": {},
   "outputs": [],
   "source": [
    "# inperson transaction_date\n",
    "dvolume_ip_fig = make_subplots(\n",
    "    rows=2,\n",
    "    cols=2,\n",
    "    start_cell=\"top-left\",\n",
    "    subplot_titles=(\"Store 3\", \"Store 5\", \"Store 8\", \"All Stores\"),\n",
    ")\n",
    "\n",
    "dvolume_ip_fig.add_trace(\n",
    "    go.Histogram(x=store3_inperson[\"transaction_date\"].dt.day_name()), row=1, col=1\n",
    ")\n",
    "\n",
    "dvolume_ip_fig.add_trace(\n",
    "    go.Histogram(x=store5_inperson[\"transaction_date\"].dt.day_name()), row=1, col=2\n",
    ")\n",
    "\n",
    "dvolume_ip_fig.add_trace(\n",
    "    go.Histogram(x=store8_inperson[\"transaction_date\"].dt.day_name()), row=2, col=1\n",
    ")\n",
    "\n",
    "dvolume_ip_fig.add_trace(\n",
    "    go.Histogram(x=coffee_inperson[\"transaction_date\"].dt.day_name()), row=2, col=2\n",
    ")\n",
    "\n",
    "dvolume_ip_fig.update_layout(\n",
    "    title_text=\"Store In-Person Daily Volume\", title_x=0.5)\n",
    "\n",
    "dvolume_ip_fig.update_layout(\n",
    "    yaxis=dict(range=[0, 1800]),\n",
    "    yaxis2=dict(range=[0, 1800]),\n",
    "    yaxis3=dict(range=[0, 1800]),\n",
    "    yaxis4=dict(range=[0, 4500]),\n",
    ")\n",
    "\n",
    "\n",
    "dvolume_ip_fig = dvolume_ip_fig.update_layout(\n",
    "    yaxis=dict(range=[0, 1800]),\n",
    "    yaxis2=dict(range=[0, 1800]),\n",
    "    yaxis3=dict(range=[0, 1800]),\n",
    "    yaxis4=dict(range=[0, 4500]),)\n",
    "\n",
    "# dvolume_ip_fig.show(\"notebook\")  # interactive nbviewer\n",
    "# dvolume_ip_fig.show(renderer=\"svg\", width=1000, height=800) # svg static for github"
   ]
  },
  {
   "cell_type": "code",
   "execution_count": 13,
   "id": "90c925f5",
   "metadata": {},
   "outputs": [],
   "source": [
    "# inperson transaction_date\n",
    "dvolume_ol_fig = make_subplots(\n",
    "    rows=2,\n",
    "    cols=2,\n",
    "    start_cell=\"top-left\",\n",
    "    subplot_titles=(\"Store 3\", \"Store 5\", \"Store 8\", \"All Stores\"),\n",
    ")\n",
    "\n",
    "dvolume_ol_fig.add_trace(\n",
    "    go.Histogram(x=store3_online[\"transaction_date\"].dt.day_name()), row=1, col=1\n",
    ")\n",
    "\n",
    "dvolume_ol_fig.add_trace(\n",
    "    go.Histogram(x=store5_online[\"transaction_date\"].dt.day_name()), row=1, col=2\n",
    ")\n",
    "\n",
    "dvolume_ol_fig.add_trace(\n",
    "    go.Histogram(x=store8_online[\"transaction_date\"].dt.day_name()), row=2, col=1\n",
    ")\n",
    "\n",
    "dvolume_ol_fig.add_trace(\n",
    "    go.Histogram(x=coffee_online[\"transaction_date\"].dt.day_name()), row=2, col=2\n",
    ")\n",
    "\n",
    "dvolume_ol_fig.update_layout(\n",
    "    title_text=\"Store Online Daily Volume\", title_x=0.5)\n",
    "\n",
    "dvolume_ol_fig = dvolume_ol_fig.update_layout(\n",
    "    yaxis=dict(range=[0, 1800]),\n",
    "    yaxis2=dict(range=[0, 1800]),\n",
    "    yaxis3=dict(range=[0, 1800]),\n",
    "    yaxis4=dict(range=[0, 4500]),\n",
    ")\n",
    "\n",
    "# dvolume_ol_fig.show(\"notebook\")  # interactive nbviewer\n",
    "# dvolume_ol_fig.show(renderer=\"svg\", width=1000, height=800) # svg static for github"
   ]
  },
  {
   "cell_type": "code",
   "execution_count": 14,
   "id": "86da727d",
   "metadata": {},
   "outputs": [],
   "source": [
    "# inperson transaction_time\n",
    "hvolume_ip_fig = make_subplots(\n",
    "    rows=2,\n",
    "    cols=2,\n",
    "    start_cell=\"top-left\",\n",
    "    subplot_titles=(\"Store 3\", \"Store 5\", \"Store 8\", \"All Stores\"),\n",
    ")\n",
    "\n",
    "\n",
    "hvolume_ip_fig.add_trace(go.Histogram(\n",
    "    x=store3_inperson[\"transaction_time\"].dt.hour), row=1, col=1)\n",
    "\n",
    "hvolume_ip_fig.add_trace(go.Histogram(\n",
    "    x=store5_inperson[\"transaction_time\"].dt.hour), row=1, col=2)\n",
    "\n",
    "hvolume_ip_fig.add_trace(go.Histogram(\n",
    "    x=store8_inperson[\"transaction_time\"].dt.hour), row=2, col=1)\n",
    "\n",
    "hvolume_ip_fig.add_trace(go.Histogram(\n",
    "    x=coffee_inperson[\"transaction_time\"].dt.hour), row=2, col=2)\n",
    "\n",
    "hvolume_ip_fig.update_layout(\n",
    "    title_text=\"Store In-Person Hourly Volume\",\n",
    "    title_x=0.5,\n",
    "    xaxis={\"dtick\": 1},\n",
    "    xaxis2={\"dtick\": 1},\n",
    "    xaxis3={\"dtick\": 1},\n",
    ")\n",
    "\n",
    "hvolume_ip_fig = hvolume_ip_fig.update_layout(\n",
    "    yaxis=dict(range=[0, 1200]),\n",
    "    yaxis2=dict(range=[0, 1200]),\n",
    "    yaxis3=dict(range=[0, 1200]),\n",
    "    yaxis4=dict(range=[0, 3500]),\n",
    ")\n",
    "\n",
    "\n",
    "# hvolume_ip_fig.show(\"notebook\")  # interactive nbviewer\n",
    "# hvolume_ip_fig.show(renderer=\"svg\", width=1000, height=800) # svg static for github"
   ]
  },
  {
   "cell_type": "code",
   "execution_count": 15,
   "id": "524fdb63",
   "metadata": {
    "scrolled": false
   },
   "outputs": [],
   "source": [
    "# online transaction_time\n",
    "hvolume_ol_fig = make_subplots(\n",
    "    rows=2,\n",
    "    cols=2,\n",
    "    start_cell=\"top-left\",\n",
    "    subplot_titles=(\"Store 3\", \"Store 5\", \"Store 8\", \"All Stores\"),\n",
    ")\n",
    "\n",
    "hvolume_ol_fig.add_trace(go.Histogram(\n",
    "    x=store3_online[\"transaction_time\"].dt.hour), row=1, col=1)\n",
    "\n",
    "hvolume_ol_fig.add_trace(go.Histogram(\n",
    "    x=store5_online[\"transaction_time\"].dt.hour), row=1, col=2)\n",
    "\n",
    "hvolume_ol_fig.add_trace(go.Histogram(\n",
    "    x=store8_online[\"transaction_time\"].dt.hour), row=2, col=1)\n",
    "\n",
    "hvolume_ol_fig.add_trace(go.Histogram(\n",
    "    x=coffee_online[\"transaction_time\"].dt.hour), row=2, col=2)\n",
    "\n",
    "hvolume_ol_fig.update_layout(\n",
    "    title_text=\"Store Online Hourly Volume\",\n",
    "    title_x=0.5,\n",
    "    xaxis={\"dtick\": 1},\n",
    "    xaxis2={\"dtick\": 1},\n",
    "    xaxis3={\"dtick\": 1},\n",
    ")\n",
    "\n",
    "hvolume_ol_fig = hvolume_ol_fig.update_layout(\n",
    "    yaxis=dict(range=[0, 1200]),\n",
    "    yaxis2=dict(range=[0, 1200]),\n",
    "    yaxis3=dict(range=[0, 1200]),\n",
    "    yaxis4=dict(range=[0, 3500]),\n",
    ")\n",
    "\n",
    "\n",
    "# hvolume_ol_fig.show(\"notebook\")  # interactive nbviewer\n",
    "# hvolume_ol_fig.show(renderer=\"svg\", width=1000, height=800) # svg static for github"
   ]
  },
  {
   "cell_type": "markdown",
   "id": "17ed8576",
   "metadata": {},
   "source": [
    "## Single Store Comparison - Store 3"
   ]
  },
  {
   "cell_type": "code",
   "execution_count": 16,
   "id": "872b3d0d",
   "metadata": {
    "scrolled": false
   },
   "outputs": [],
   "source": [
    "# store 3 all comparison\n",
    "store3_all = make_subplots(\n",
    "    rows=2,\n",
    "    cols=2,\n",
    "    start_cell=\"top-left\",\n",
    "    subplot_titles=(\n",
    "        \"In-Person Hourly\",\n",
    "        \"In-Person Daily Volume\",\n",
    "        \"Online Hourly Volume\",\n",
    "        \"Online Daily Volume\",\n",
    "    ),\n",
    ")\n",
    "\n",
    "\n",
    "store3_all.add_trace(go.Histogram(\n",
    "    x=store3_inperson[\"transaction_time\"].dt.hour), row=1, col=1)\n",
    "\n",
    "store3_all.add_trace(\n",
    "    go.Histogram(x=store3_inperson[\"transaction_date\"].dt.day_name()), row=1, col=2\n",
    ")\n",
    "\n",
    "store3_all.add_trace(go.Histogram(\n",
    "    x=store3_online[\"transaction_time\"].dt.hour), row=2, col=1)\n",
    "\n",
    "store3_all.add_trace(\n",
    "    go.Histogram(x=store3_online[\"transaction_date\"].dt.day_name()), row=2, col=2\n",
    ")\n",
    "\n",
    "store3_all.update_layout(\n",
    "    title_text=\"Store 3\", title_x=0.5, xaxis={\"dtick\": 1}, xaxis3={\"dtick\": 1}\n",
    ")\n",
    "\n",
    "store3_all = store3_all.update_layout(yaxis=dict(range=[0, 1200]), yaxis3=dict(range=[0, 1200]))\n",
    "\n",
    "\n",
    "# store3_all.show(\"notebook\")  # interactive nbviewer\n",
    "# store3_all.show(renderer=\"svg\", width=1000, height=800) # svg static for github"
   ]
  },
  {
   "cell_type": "markdown",
   "id": "4ce8333d",
   "metadata": {},
   "source": [
    "## Staff contribution ranking\n",
    "<a id='staff_rank'></a>"
   ]
  },
  {
   "cell_type": "code",
   "execution_count": 17,
   "id": "35e947d3",
   "metadata": {},
   "outputs": [],
   "source": [
    "# load in our staff data\n",
    "staff = pd.read_csv(\"staff.csv\")\n",
    "# drop two misformed empty columns\n",
    "staff.drop(staff.columns[[6, 7]], axis=1, inplace=True)\n",
    "\n",
    "# combine our staff name columns into one\n",
    "staff[\"staff_name\"] = staff[\"first_name\"] + \" \" + staff[\"last_name\"]\n",
    "# drop redundant naming columns\n",
    "staff.drop(staff.columns[[1, 2]], axis=1, inplace=True)\n",
    "\n",
    "# merge\n",
    "coffee = pd.merge(left=coffee, right=staff)\n",
    "# coffee.columns"
   ]
  },
  {
   "cell_type": "code",
   "execution_count": 18,
   "id": "f12f646b",
   "metadata": {
    "scrolled": false
   },
   "outputs": [],
   "source": [
    "# get all staff ids\n",
    "# coffee[\"staff_id\"].unique()"
   ]
  },
  {
   "cell_type": "markdown",
   "id": "7ba72d1d",
   "metadata": {},
   "source": [
    "## Finding Total Sales "
   ]
  },
  {
   "cell_type": "code",
   "execution_count": 19,
   "id": "a7da55b2",
   "metadata": {
    "scrolled": true
   },
   "outputs": [],
   "source": [
    "total_sales = []\n",
    "names = []\n",
    "pie = {}\n",
    "\n",
    "for staff_id in coffee[\"staff_id\"].unique():\n",
    "    \"\"\"\n",
    "    Takes an array/series of staff id's and calculates the total amount of sales by that staff memeber\n",
    "    uses quantity x unit_price\n",
    "    \"\"\"\n",
    "    # get staff id\n",
    "    current_staff = coffee[\"staff_id\"] == staff_id\n",
    "\n",
    "    # get staff name & store in list\n",
    "    name = coffee[current_staff][\"staff_name\"]\n",
    "    names.append(name.iloc[0])\n",
    "    name = name.iloc[0]\n",
    "\n",
    "    # find total sales by staff\n",
    "    cs_sales = coffee[current_staff][\"unit_price\"] * \\\n",
    "        coffee[current_staff][\"quantity\"]\n",
    "    cs_sales_total = cs_sales.sum()\n",
    "\n",
    "    # calculate sum & store in list\n",
    "    total_sales.append(cs_sales_total)\n",
    "    pie[name] = cs_sales_total\n",
    "\n",
    "\n",
    "# convert into a dataframe\n",
    "total_sales_by_staff = pd.DataFrame(\n",
    "    {\"staff_name\": names, \"total_sales\": total_sales})\n",
    "# verify\n",
    "# total_sales_by_staff"
   ]
  },
  {
   "cell_type": "code",
   "execution_count": 20,
   "id": "cf42816b",
   "metadata": {
    "scrolled": false
   },
   "outputs": [],
   "source": [
    "# setup up our chart\n",
    "total_sales_fig = make_subplots(rows=1, cols=1)\n",
    "\n",
    "total_sales_fig.add_trace(\n",
    "    go.Bar(\n",
    "        x=total_sales_by_staff[\"staff_name\"],\n",
    "        y=total_sales_by_staff[\"total_sales\"],\n",
    "        marker={\n",
    "            \"color\": total_sales_by_staff[\"total_sales\"], \"colorscale\": \"agsunset\"},\n",
    "    )\n",
    ")\n",
    "\n",
    "total_sales_fig = total_sales_fig.update_layout(\n",
    "    title_text=\"Total Sales Per Staff Member\",\n",
    "    title_x=0.5,\n",
    "    barmode=\"stack\",\n",
    "    xaxis={\"categoryorder\": \"total descending\"},\n",
    ")\n",
    "\n",
    "# total_sales_fig.show(\"notebook\")  # interactive nbviewer\n",
    "# total_sales_fig.show(renderer=\"svg\", width=1000, height=800) # svg static for github"
   ]
  },
  {
   "cell_type": "code",
   "execution_count": 21,
   "id": "49b6ed0e",
   "metadata": {},
   "outputs": [],
   "source": [
    "top_staff_fig = make_subplots(rows=1, cols=1)\n",
    "\n",
    "top_staff_fig.add_trace(\n",
    "    go.Bar(\n",
    "        x=total_sales_by_staff[\"staff_name\"][0:5],\n",
    "        y=total_sales_by_staff[\"total_sales\"][0:5],\n",
    "        marker={\n",
    "            \"color\": total_sales_by_staff[\"total_sales\"][0:5],\n",
    "            \"colorscale\": \"agsunset\",\n",
    "        },\n",
    "    )\n",
    ")\n",
    "\n",
    "top_staff_fig = top_staff_fig.update_layout(\n",
    "    title_text=\"Top 5 Staff By Total Sales\",\n",
    "    title_x=0.5,\n",
    "    barmode=\"stack\",\n",
    "    xaxis={\"categoryorder\": \"total descending\"},\n",
    ")\n",
    "\n",
    "# top_staff_fig.show(\"notebook\")  # interactive nbviewer\n",
    "# top_staff_fig.show(renderer=\"svg\", width=1000, height=800) # svg static for github"
   ]
  },
  {
   "cell_type": "code",
   "execution_count": 22,
   "id": "5af218a6",
   "metadata": {},
   "outputs": [],
   "source": [
    "last_sales = total_sales_by_staff.sort_values(by=\"total_sales\")\n",
    "\n",
    "bottom_staff_fig = make_subplots(rows=1, cols=1)\n",
    "\n",
    "bottom_staff_fig.add_trace(\n",
    "    go.Bar(\n",
    "        x=last_sales[\"staff_name\"][0:5],\n",
    "        y=last_sales[\"total_sales\"][0:5],\n",
    "        marker={\"color\": last_sales[\"total_sales\"]\n",
    "                [0:5], \"colorscale\": \"agsunset\"},\n",
    "    )\n",
    ")\n",
    "\n",
    "bottom_staff_fig = bottom_staff_fig.update_layout(\n",
    "    title_text=\"Bottom 5 Staff By Total Sales\",\n",
    "    title_x=0.5,\n",
    "    barmode=\"stack\",\n",
    "    xaxis={\"categoryorder\": \"total descending\"},\n",
    ")\n",
    "\n",
    "# bottom_staff_fig.show(\"notebook\")  # interactive nbviewer\n",
    "# bottom_staff_figshow(renderer=\"svg\", width=1000, height=800) # svg static for github"
   ]
  },
  {
   "cell_type": "code",
   "execution_count": 23,
   "id": "b29d5e71",
   "metadata": {},
   "outputs": [],
   "source": [
    "# fig = px.pie(df, values='pop', names='country', title='Population of European continent')\n",
    "\n",
    "staff_percents_fig = make_subplots(rows=1, cols=1)\n",
    "\n",
    "staff_percents_fig.add_trace(go.Pie(values=total_sales, labels=names))\n",
    "\n",
    "staff_percents_fig.update_traces(hoverinfo=\"label+value\", textinfo=\"percent\")\n",
    "\n",
    "staff_percents_fig = staff_percents_fig.update_layout(\n",
    "    title_text=\"Percentage of Sales By Staff Member\",\n",
    "    title_x=0.5,\n",
    "    barmode=\"stack\",\n",
    "    xaxis={\"categoryorder\": \"total descending\"},\n",
    ")\n",
    "\n",
    "# staff_percents_fig.show(\"notebook\")  # interactive nbviewer"
   ]
  }
 ],
 "metadata": {
  "kernelspec": {
   "display_name": "Python 3 (ipykernel)",
   "language": "python",
   "name": "python3"
  },
  "language_info": {
   "codemirror_mode": {
    "name": "ipython",
    "version": 3
   },
   "file_extension": ".py",
   "mimetype": "text/x-python",
   "name": "python",
   "nbconvert_exporter": "python",
   "pygments_lexer": "ipython3",
   "version": "3.9.12"
  }
 },
 "nbformat": 4,
 "nbformat_minor": 5
}
