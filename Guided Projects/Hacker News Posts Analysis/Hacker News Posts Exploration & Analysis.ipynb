{
 "cells": [
  {
   "cell_type": "markdown",
   "id": "c898852e",
   "metadata": {},
   "source": [
    "# Hacker News Posts Exploration & Analysis\n",
    "\n",
    "\n",
    "What is Hacker News?\n",
    "\n",
    "Hacker News is a technology focused blogging site. Users can ask questions or submit stories, and recieve votes and comments from other users.\n",
    "\n",
    "Posts can have labels such as **Ask HN** or **Show HN**. \n",
    "\n",
    "Ask HN posts ask the Hacker News community a specific question.\n",
    "\n",
    "Show HN posts to show something to the  Hacker News community.\n",
    "\n",
    "## Questions\n",
    "\n",
    "\n",
    "1. Do Ask HN or Show HN receive more comments on average?\n",
    "\n",
    "2. Do posts created at a certain time receive more comments on average?\n",
    "\n",
    "\n",
    "## Dataset \n",
    "[Original](https://www.kaggle.com/hacker-news/hacker-news-posts)\n",
    "\n",
    "[Modified](https://app.dataquest.io/31d43d5f-8b12-4cb8-b62e-c27f99eb7fb4)\n"
   ]
  },
  {
   "cell_type": "markdown",
   "id": "ae63e441",
   "metadata": {},
   "source": [
    "# Importing Data"
   ]
  },
  {
   "cell_type": "code",
   "execution_count": 1,
   "id": "d6f03985",
   "metadata": {},
   "outputs": [
    {
     "name": "stdout",
     "output_type": "stream",
     "text": [
      "['id', 'title', 'url', 'num_points', 'num_comments', 'author', 'created_at'] \n",
      "\n"
     ]
    }
   ],
   "source": [
    "from csv import reader\n",
    "import datetime as dt\n",
    "\n",
    "o_file = open(\"hacker_news.csv\")\n",
    "r_file = reader(o_file)\n",
    "hacker_news = list(r_file)\n",
    "hacker_news_h = hacker_news[0]  # save header\n",
    "hacker_news = hacker_news[1:]  # remove header from main dataset\n",
    "\n",
    "print(hacker_news_h, \"\\n\")"
   ]
  },
  {
   "cell_type": "markdown",
   "id": "5ab55572",
   "metadata": {},
   "source": [
    "## Important Cols\n",
    "0 id: the unique identifier from Hacker News for the post\n",
    "\n",
    "1 title: the title of the post\n",
    "\n",
    "2 url: the URL that the posts links to, if the post has a URL\n",
    "\n",
    "3 num_points: the number of points the post acquired, calculated as the total number of upvotes minus the total number of downvotes\n",
    "\n",
    "4 num_comments: the number of comments on the post\n",
    "\n",
    "5 author: the username of the person who submitted the post\n",
    "\n",
    "6 created_at: the date and time of the post's submission\n",
    "\n",
    "## Sample of Data"
   ]
  },
  {
   "cell_type": "code",
   "execution_count": 2,
   "id": "ed2b9b3c",
   "metadata": {},
   "outputs": [
    {
     "name": "stdout",
     "output_type": "stream",
     "text": [
      "['12224879', 'Interactive Dynamic Video', 'http://www.interactivedynamicvideo.com/', '386', '52', 'ne0phyte', '8/4/2016 11:52'] \n",
      "\n",
      "['10975351', 'How to Use Open Source and Shut the Fuck Up at the Same Time', 'http://hueniverse.com/2016/01/26/how-to-use-open-source-and-shut-the-fuck-up-at-the-same-time/', '39', '10', 'josep2', '1/26/2016 19:30'] \n",
      "\n",
      "['11964716', \"Florida DJs May Face Felony for April Fools' Water Joke\", 'http://www.thewire.com/entertainment/2013/04/florida-djs-april-fools-water-joke/63798/', '2', '1', 'vezycash', '6/23/2016 22:20'] \n",
      "\n"
     ]
    }
   ],
   "source": [
    "print(hacker_news[0], \"\\n\")\n",
    "print(hacker_news[1], \"\\n\")\n",
    "print(hacker_news[2], \"\\n\")"
   ]
  },
  {
   "cell_type": "markdown",
   "id": "7cd531ef",
   "metadata": {},
   "source": [
    "# Initial Datacleaning\n",
    "\n",
    "We only need posts that are tagged, \"Ask HN\" or \"Show HN\"\n",
    "\n",
    "Python's str.startswith() will return t/f, if string starts with a given prefix, allowing us to check and filter.\n",
    "\n",
    "Dataset will be sorted into 3 lists, ask_posts, show_posts, and other_posts\n"
   ]
  },
  {
   "cell_type": "code",
   "execution_count": 3,
   "id": "c842223b",
   "metadata": {},
   "outputs": [
    {
     "name": "stdout",
     "output_type": "stream",
     "text": [
      "Ask Posts Count:  1744\n",
      "['12296411', 'Ask HN: How to improve my personal website?', '', '2', '6', 'ahmedbaracat', '8/16/2016 9:55'] \n",
      "\n",
      "Show Posts Count:  1162\n",
      "['10627194', 'Show HN: Wio Link  ESP8266 Based Web of Things Hardware Development Platform', 'https://iot.seeed.cc', '26', '22', 'kfihihc', '11/25/2015 14:03'] \n",
      "\n",
      "Other Posts Count:  17194\n",
      "['12224879', 'Interactive Dynamic Video', 'http://www.interactivedynamicvideo.com/', '386', '52', 'ne0phyte', '8/4/2016 11:52'] \n",
      "\n"
     ]
    }
   ],
   "source": [
    "# 3 lists\n",
    "ask_posts, show_posts, other_posts = [], [], []\n",
    "\n",
    "# sort data by post type\n",
    "for post in hacker_news:\n",
    "    if post[1].lower().startswith(\"ask hn\"):\n",
    "        ask_posts.append(post)\n",
    "    elif post[1].lower().startswith(\"show hn\"):\n",
    "        show_posts.append(post)\n",
    "    else:\n",
    "        other_posts.append(post)\n",
    "\n",
    "# check\n",
    "print(\"Ask Posts Count: \", len(ask_posts))\n",
    "print(ask_posts[0], \"\\n\")\n",
    "print(\"Show Posts Count: \", len(show_posts))\n",
    "print(show_posts[0], \"\\n\")\n",
    "print(\"Other Posts Count: \", len(other_posts))\n",
    "print(other_posts[0], \"\\n\")"
   ]
  },
  {
   "cell_type": "markdown",
   "id": "dc2e02d9",
   "metadata": {},
   "source": [
    "## Finding Comment Averages\n",
    "In order to answer questions about posts and their comments we need to isolate the comments.\n",
    "\n",
    "Finding the Average of each comment per post type is a good place to start."
   ]
  },
  {
   "cell_type": "code",
   "execution_count": 4,
   "id": "9093bc51",
   "metadata": {},
   "outputs": [
    {
     "name": "stdout",
     "output_type": "stream",
     "text": [
      "A ask_hn post gets an avg of 14.04 comments, with a total of 24483 comments found across all posts \n",
      "\n",
      "A show_hn post gets an avg of 10.32 comments, with a total of 11988 comments found across all posts \n",
      "\n",
      "A other_hn post gets an avg of 26.87 comments, with a total of 462055 comments found across all posts \n",
      "\n"
     ]
    }
   ],
   "source": [
    "# comment index is 4\n",
    "\n",
    "# ask comments\n",
    "total_ask_comments = 0\n",
    "avg_ask_comments = 0\n",
    "\n",
    "for comment in ask_posts:\n",
    "    total_ask_comments += int(comment[4])\n",
    "avg_ask_comments = total_ask_comments / len(ask_posts)\n",
    "\n",
    "results = \"A ask_hn post gets an avg of {:.2f} comments, with a total of {} comments found across all posts\".format(\n",
    "    avg_ask_comments, total_ask_comments\n",
    ")\n",
    "print(results, \"\\n\")\n",
    "\n",
    "# show comments\n",
    "total_show_comments = 0\n",
    "avg_show_comments = 0\n",
    "\n",
    "for comment in show_posts:\n",
    "    total_show_comments += int(comment[4])\n",
    "avg_show_comments = total_show_comments / len(show_posts)\n",
    "\n",
    "results = \"A show_hn post gets an avg of {:.2f} comments, with a total of {} comments found across all posts\".format(\n",
    "    avg_show_comments, total_show_comments\n",
    ")\n",
    "print(results, \"\\n\")\n",
    "\n",
    "# ask comments\n",
    "total_other_comments = 0\n",
    "avg_other_comments = 0\n",
    "\n",
    "for comment in other_posts:\n",
    "    total_other_comments += int(comment[4])\n",
    "avg_other_comments = total_other_comments / len(other_posts)\n",
    "\n",
    "results = \"A other_hn post gets an avg of {:.2f} comments, with a total of {} comments found across all posts\".format(\n",
    "    avg_other_comments, total_other_comments\n",
    ")\n",
    "print(results, \"\\n\")"
   ]
  },
  {
   "cell_type": "markdown",
   "id": "80cece76",
   "metadata": {},
   "source": [
    "# Question 1 Results\n",
    "\n",
    "\n",
    "Do Ask HN or Show HN receive more comments on average?\n",
    "\n",
    "Our findings suggest that **Ask** posts on average recieve **3.72 more comments** than Show posts.\n",
    "\n",
    "# Next Steps\n",
    "\n",
    "Now that we know Ask posts recieve more comments, we want to know if posting during a certain increases recieved comments. Using the ask_posts dataset we can create a freq table based on time of posting\n",
    "\n",
    "1. Find sum of ask posts and comments per hour\n",
    "2. Find the avg of comments per hour"
   ]
  },
  {
   "cell_type": "code",
   "execution_count": 5,
   "id": "aab2aa8f",
   "metadata": {},
   "outputs": [
    {
     "name": "stdout",
     "output_type": "stream",
     "text": [
      "{9: 45, 13: 85, 10: 59, 14: 107, 16: 108, 23: 68, 12: 73, 17: 100, 15: 116, 21: 109, 20: 80, 2: 58, 18: 109, 3: 54, 5: 46, 19: 110, 1: 60, 22: 71, 8: 48, 4: 47, 0: 55, 6: 44, 7: 34, 11: 58} \n",
      "\n",
      "{9: 251, 13: 1253, 10: 793, 14: 1416, 16: 1814, 23: 543, 12: 687, 17: 1146, 15: 4477, 21: 1745, 20: 1722, 2: 1381, 18: 1439, 3: 421, 5: 464, 19: 1188, 1: 683, 22: 479, 8: 492, 4: 337, 0: 447, 6: 397, 7: 267, 11: 641}\n"
     ]
    }
   ],
   "source": [
    "# askposts\n",
    "# index 6, created_at: the date and time of the post's submission\n",
    "# '8/16/2016 9:55'\n",
    "# index 4, comments\n",
    "\n",
    "# print(ask_posts[0])\n",
    "\n",
    "# print(dt.datetime.strptime(ask_posts[0][6], \"%m/%d/%Y %H:%M\")) #2016-06-16 09:55:00\n",
    "\n",
    "\n",
    "hour_freq = {}\n",
    "comment_freq = {}\n",
    "\n",
    "for post in ask_posts:\n",
    "    comment = int(post[4])\n",
    "\n",
    "    date = dt.datetime.strptime(post[6], \"%m/%d/%Y %H:%M\")\n",
    "    date = int(date.strftime(\"%H\"))\n",
    "\n",
    "    if date not in hour_freq:\n",
    "        hour_freq[date] = 1\n",
    "        comment_freq[date] = comment\n",
    "    else:\n",
    "        hour_freq[date] += 1\n",
    "        comment_freq[date] += comment\n",
    "\n",
    "print(hour_freq, \"\\n\")\n",
    "print(comment_freq)"
   ]
  },
  {
   "cell_type": "markdown",
   "id": "e145e09e",
   "metadata": {},
   "source": [
    "## Find the avg comments per hour"
   ]
  },
  {
   "cell_type": "code",
   "execution_count": 6,
   "id": "a81cf3a1",
   "metadata": {},
   "outputs": [
    {
     "name": "stdout",
     "output_type": "stream",
     "text": [
      "[[9, 5.5777777777777775], [13, 14.741176470588234], [10, 13.440677966101696], [14, 13.233644859813085], [16, 16.796296296296298], [23, 7.985294117647059], [12, 9.41095890410959], [17, 11.46], [15, 38.5948275862069], [21, 16.009174311926607], [20, 21.525], [2, 23.810344827586206], [18, 13.20183486238532], [3, 7.796296296296297], [5, 10.08695652173913], [19, 10.8], [1, 11.383333333333333], [22, 6.746478873239437], [8, 10.25], [4, 7.170212765957447], [0, 8.127272727272727], [6, 9.022727272727273], [7, 7.852941176470588], [11, 11.051724137931034]]\n"
     ]
    }
   ],
   "source": [
    "avg_comments_hourly = []\n",
    "\n",
    "for comment in hour_freq:\n",
    "    avg_comments_hourly.append([comment, (comment_freq[comment] / hour_freq[comment])])\n",
    "\n",
    "print(avg_comments_hourly)"
   ]
  },
  {
   "cell_type": "markdown",
   "id": "522e9a36",
   "metadata": {},
   "source": [
    "## Data Cleaning"
   ]
  },
  {
   "cell_type": "code",
   "execution_count": 7,
   "id": "e16c62b6",
   "metadata": {},
   "outputs": [
    {
     "name": "stdout",
     "output_type": "stream",
     "text": [
      "Top 5 Hours for Ask Posts Comments \n",
      "\n",
      "Hour 15 - Average of 38.5948275862069 comments\n",
      "Hour 2 - Average of 23.810344827586206 comments\n",
      "Hour 20 - Average of 21.525 comments\n",
      "Hour 16 - Average of 16.796296296296298 comments\n",
      "Hour 21 - Average of 16.009174311926607 comments\n",
      "Hour 13 - Average of 14.741176470588234 comments\n",
      "Hour 10 - Average of 13.440677966101696 comments\n",
      "Hour 14 - Average of 13.233644859813085 comments\n",
      "Hour 18 - Average of 13.20183486238532 comments\n",
      "Hour 17 - Average of 11.46 comments\n",
      "Hour 1 - Average of 11.383333333333333 comments\n",
      "Hour 11 - Average of 11.051724137931034 comments\n",
      "Hour 19 - Average of 10.8 comments\n",
      "Hour 8 - Average of 10.25 comments\n",
      "Hour 5 - Average of 10.08695652173913 comments\n",
      "Hour 12 - Average of 9.41095890410959 comments\n",
      "Hour 6 - Average of 9.022727272727273 comments\n",
      "Hour 0 - Average of 8.127272727272727 comments\n",
      "Hour 23 - Average of 7.985294117647059 comments\n",
      "Hour 7 - Average of 7.852941176470588 comments\n",
      "Hour 3 - Average of 7.796296296296297 comments\n",
      "Hour 4 - Average of 7.170212765957447 comments\n",
      "Hour 22 - Average of 6.746478873239437 comments\n",
      "Hour 9 - Average of 5.5777777777777775 comments\n"
     ]
    }
   ],
   "source": [
    "# swapping k:v for sorting\n",
    "\n",
    "avg_com_swap = []\n",
    "\n",
    "for avg in avg_comments_hourly:\n",
    "    # print(avg)\n",
    "    avg_com_swap.append([avg[1], avg[0]])\n",
    "\n",
    "# print(avg_com_swap)\n",
    "\n",
    "# sorting\n",
    "comments_final = sorted(avg_com_swap, reverse=True)\n",
    "\n",
    "print(\"Top 5 Hours for Ask Posts Comments\", \"\\n\")\n",
    "\n",
    "for avg in comments_final:\n",
    "    s = \"Hour {} - Average of {} comments\".format(avg[1], avg[0])\n",
    "    print(s)"
   ]
  },
  {
   "cell_type": "markdown",
   "id": "38e15bc2",
   "metadata": {},
   "source": [
    "## Do posts created at a certain time receive more comments on average?\n",
    "\n",
    "**Yes.**\n",
    "\n",
    "As we can see posts made during the hours of 15, 12, 2, 20, 16 all see an increased amount of comments on average"
   ]
  },
  {
   "cell_type": "markdown",
   "id": "0aca6901",
   "metadata": {},
   "source": [
    "# Final Conclusions\n",
    "\n",
    "## Questions\n",
    "1. Do Ask HN or Show HN receive more comments on average?\n",
    "\n",
    "Ask Hacker news posts receive more comments on average.\n",
    "\n",
    "2. Do posts created at a certain time receive more comments on average?\n",
    "\n",
    "Posting time does have an impact on the average amount of comments recieved.\n",
    "\n",
    "# Conclusion\n",
    "\n",
    "Posting a ASk_HN post during the hours of 15, 2, and 20 should gurantee a greater >- 20 comments on average"
   ]
  }
 ],
 "metadata": {
  "kernelspec": {
   "display_name": "Python 3 (ipykernel)",
   "language": "python",
   "name": "python3"
  },
  "language_info": {
   "codemirror_mode": {
    "name": "ipython",
    "version": 3
   },
   "file_extension": ".py",
   "mimetype": "text/x-python",
   "name": "python",
   "nbconvert_exporter": "python",
   "pygments_lexer": "ipython3",
   "version": "3.9.5"
  }
 },
 "nbformat": 4,
 "nbformat_minor": 5
}
