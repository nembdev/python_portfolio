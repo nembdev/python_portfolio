{
 "cells": [
  {
   "cell_type": "markdown",
   "id": "c898852e",
   "metadata": {},
   "source": [
    "# Hacker News Posts Exploration & Analysis\n",
    "\n",
    "\n",
    "What is Hacker News?\n",
    "\n",
    "Hacker News is a technology focused blogging site. Users can ask questions or submit stories, and recieve votes and comments from other users.\n",
    "\n",
    "Posts can have labels such as **Ask HN** or **Show HN**. \n",
    "\n",
    "Ask HN posts ask the Hacker News community a specific question.\n",
    "\n",
    "Show HN posts to show something to the  Hacker News community.\n",
    "\n",
    "## Questions\n",
    "\n",
    "\n",
    "1. Do Ask HN or Show HN receive more comments on average?\n",
    "\n",
    "2. Do posts created at a certain time receive more comments on average?\n",
    "\n",
    "\n",
    "## Dataset \n",
    "[Original](https://www.kaggle.com/hacker-news/hacker-news-posts)\n",
    "\n",
    "[Modified](https://app.dataquest.io/31d43d5f-8b12-4cb8-b62e-c27f99eb7fb4)\n"
   ]
  },
  {
   "cell_type": "markdown",
   "id": "ae63e441",
   "metadata": {},
   "source": [
    "# Importing Data"
   ]
  },
  {
   "cell_type": "code",
   "execution_count": 1,
   "id": "d6f03985",
   "metadata": {},
   "outputs": [
    {
     "name": "stdout",
     "output_type": "stream",
     "text": [
      "['id', 'title', 'url', 'num_points', 'num_comments', 'author', 'created_at'] \n",
      "\n"
     ]
    }
   ],
   "source": [
    "from csv import reader\n",
    "import datetime as dt\n",
    "\n",
    "o_file = open(\"hacker_news.csv\")\n",
    "r_file = reader(o_file)\n",
    "hacker_news = list(r_file)\n",
    "hacker_news_h = hacker_news[0] # save header\n",
    "hacker_news = hacker_news[1:] #remove header from main dataset\n",
    "\n",
    "print(hacker_news_h, \"\\n\")"
   ]
  },
  {
   "cell_type": "markdown",
   "id": "5ab55572",
   "metadata": {},
   "source": [
    "## Important Cols\n",
    "0 id: the unique identifier from Hacker News for the post\n",
    "\n",
    "1 title: the title of the post\n",
    "\n",
    "2 url: the URL that the posts links to, if the post has a URL\n",
    "\n",
    "3 num_points: the number of points the post acquired, calculated as the total number of upvotes minus the total number of downvotes\n",
    "\n",
    "4 num_comments: the number of comments on the post\n",
    "\n",
    "5 author: the username of the person who submitted the post\n",
    "\n",
    "6 created_at: the date and time of the post's submission\n",
    "\n",
    "## Sample of Data"
   ]
  },
  {
   "cell_type": "code",
   "execution_count": 2,
   "id": "ed2b9b3c",
   "metadata": {},
   "outputs": [
    {
     "name": "stdout",
     "output_type": "stream",
     "text": [
      "['12224879', 'Interactive Dynamic Video', 'http://www.interactivedynamicvideo.com/', '386', '52', 'ne0phyte', '8/4/2016 11:52'] \n",
      "\n",
      "['10975351', 'How to Use Open Source and Shut the Fuck Up at the Same Time', 'http://hueniverse.com/2016/01/26/how-to-use-open-source-and-shut-the-fuck-up-at-the-same-time/', '39', '10', 'josep2', '1/26/2016 19:30'] \n",
      "\n",
      "['11964716', \"Florida DJs May Face Felony for April Fools' Water Joke\", 'http://www.thewire.com/entertainment/2013/04/florida-djs-april-fools-water-joke/63798/', '2', '1', 'vezycash', '6/23/2016 22:20'] \n",
      "\n"
     ]
    }
   ],
   "source": [
    "print(hacker_news[0], \"\\n\")\n",
    "print(hacker_news[1], \"\\n\")\n",
    "print(hacker_news[2], \"\\n\")"
   ]
  },
  {
   "cell_type": "markdown",
   "id": "7cd531ef",
   "metadata": {},
   "source": [
    "# Initial Datacleaning\n",
    "\n",
    "We only need posts that are tagged, \"Ask HN\" or \"Show HN\"\n",
    "\n",
    "Python's str.startswith() will return t/f, if string starts with a given prefix, allowing us to check and filter.\n",
    "\n",
    "Dataset will be sorted into 3 lists, ask_posts, show_posts, and other_posts\n"
   ]
  },
  {
   "cell_type": "code",
   "execution_count": 9,
   "id": "c842223b",
   "metadata": {},
   "outputs": [
    {
     "name": "stdout",
     "output_type": "stream",
     "text": [
      "Ask Posts Count:  1744\n",
      "['12296411', 'Ask HN: How to improve my personal website?', '', '2', '6', 'ahmedbaracat', '8/16/2016 9:55'] \n",
      "\n",
      "Show Posts Count:  1162\n",
      "['10627194', 'Show HN: Wio Link  ESP8266 Based Web of Things Hardware Development Platform', 'https://iot.seeed.cc', '26', '22', 'kfihihc', '11/25/2015 14:03'] \n",
      "\n",
      "Other Posts Count:  17194\n",
      "['12224879', 'Interactive Dynamic Video', 'http://www.interactivedynamicvideo.com/', '386', '52', 'ne0phyte', '8/4/2016 11:52'] \n",
      "\n"
     ]
    }
   ],
   "source": [
    "# 3 lists\n",
    "ask_posts, show_posts, other_posts = [], [] , [] \n",
    "\n",
    "# sort data by post type\n",
    "for post in hacker_news:\n",
    "    if post[1].lower().startswith(\"ask hn\"):\n",
    "        ask_posts.append(post)\n",
    "    elif post[1].lower().startswith(\"show hn\"):\n",
    "        show_posts.append(post)\n",
    "    else:\n",
    "        other_posts.append(post)\n",
    "\n",
    "# check\n",
    "print(\"Ask Posts Count: \",len(ask_posts))\n",
    "print(ask_posts[0], \"\\n\")\n",
    "print(\"Show Posts Count: \",len(show_posts))\n",
    "print(show_posts[0], \"\\n\")\n",
    "print(\"Other Posts Count: \",len(other_posts))\n",
    "print(other_posts[0], \"\\n\")"
   ]
  },
  {
   "cell_type": "markdown",
   "id": "dc2e02d9",
   "metadata": {},
   "source": [
    "## Finding Comment Averages\n",
    "In order to answer questions about posts and their comments we need to isolate the comments.\n",
    "\n",
    "Finding the Average of each comment per post type is a good place to start."
   ]
  },
  {
   "cell_type": "code",
   "execution_count": 23,
   "id": "9093bc51",
   "metadata": {},
   "outputs": [
    {
     "name": "stdout",
     "output_type": "stream",
     "text": [
      "A ask_hn post gets an avg of 14.04 comments, with a total of 24483 comments found across all posts \n",
      "\n",
      "A show_hn post gets an avg of 10.32 comments, with a total of 11988 comments found across all posts \n",
      "\n",
      "A other_hn post gets an avg of 26.87 comments, with a total of 462055 comments found across all posts \n",
      "\n"
     ]
    }
   ],
   "source": [
    "# comment index is 4\n",
    "\n",
    "# ask comments\n",
    "total_ask_comments = 0\n",
    "avg_ask_comments = 0\n",
    "\n",
    "for comment in ask_posts:\n",
    "    total_ask_comments += int(comment[4])\n",
    "avg_ask_comments = total_ask_comments / len(ask_posts)\n",
    "\n",
    "results = \"A ask_hn post gets an avg of {:.2f} comments, with a total of {} comments found across all posts\".format(avg_ask_comments, total_ask_comments)\n",
    "print(results, \"\\n\")\n",
    "\n",
    "# show comments\n",
    "total_show_comments = 0\n",
    "avg_show_comments = 0\n",
    "\n",
    "for comment in show_posts:\n",
    "    total_show_comments += int(comment[4])\n",
    "avg_show_comments = total_show_comments / len(show_posts)\n",
    "\n",
    "results = \"A show_hn post gets an avg of {:.2f} comments, with a total of {} comments found across all posts\".format(avg_show_comments, total_show_comments)\n",
    "print(results, \"\\n\")\n",
    "\n",
    "# ask comments\n",
    "total_other_comments = 0\n",
    "avg_other_comments = 0\n",
    "\n",
    "for comment in other_posts:\n",
    "    total_other_comments += int(comment[4])\n",
    "avg_other_comments = total_other_comments / len(other_posts)\n",
    "\n",
    "results =  \"A other_hn post gets an avg of {:.2f} comments, with a total of {} comments found across all posts\".format(avg_other_comments, total_other_comments)\n",
    "print(results, \"\\n\")"
   ]
  },
  {
   "cell_type": "markdown",
   "id": "80cece76",
   "metadata": {},
   "source": [
    "# Question 1 Results\n",
    "\n",
    "\n",
    "Do Ask HN or Show HN receive more comments on average?\n",
    "\n",
    "Our findings suggest that **Ask** posts on average recieve **3.72 more comments** than Show posts.\n",
    "\n",
    "# Next Steps\n",
    "\n",
    "Now that we know Ask posts recieve more comments, we want to know if posting during a certain increases recieved comments. Using the ask_posts dataset we can create a freq table based on time of posting\n",
    "\n",
    "1. Find sum of ask posts and comments per hour\n",
    "2. Find the avg of comments per hour"
   ]
  },
  {
   "cell_type": "code",
   "execution_count": null,
   "id": "aab2aa8f",
   "metadata": {},
   "outputs": [],
   "source": []
  }
 ],
 "metadata": {
  "kernelspec": {
   "display_name": "Python 3 (ipykernel)",
   "language": "python",
   "name": "python3"
  },
  "language_info": {
   "codemirror_mode": {
    "name": "ipython",
    "version": 3
   },
   "file_extension": ".py",
   "mimetype": "text/x-python",
   "name": "python",
   "nbconvert_exporter": "python",
   "pygments_lexer": "ipython3",
   "version": "3.9.5"
  }
 },
 "nbformat": 4,
 "nbformat_minor": 5
}
