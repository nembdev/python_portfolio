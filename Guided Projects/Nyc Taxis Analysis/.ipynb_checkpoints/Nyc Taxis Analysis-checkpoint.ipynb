{
 "cells": [
  {
   "cell_type": "markdown",
   "id": "e8d7c4c9",
   "metadata": {},
   "source": [
    "90,000 yellow taxi trips\n",
    "\n",
    "to and from New York City airports \n",
    "\n",
    "between January and June 2016"
   ]
  },
  {
   "cell_type": "code",
   "execution_count": 1,
   "id": "a614bdcf",
   "metadata": {},
   "outputs": [],
   "source": [
    "import csv\n",
    "import numpy as np\n",
    "#import pandas as pd"
   ]
  },
  {
   "cell_type": "code",
   "execution_count": 2,
   "id": "fa24bf13",
   "metadata": {},
   "outputs": [],
   "source": [
    "o_file = open(\"nyc_taxis.csv\", \"r\") # open for reading (default)\n",
    "r_file = csv.reader(o_file)\n",
    "dataset = list(r_file)\n",
    "dataset_h = dataset[0] # grab header\n",
    "dataset = dataset[1:] # remove header"
   ]
  },
  {
   "cell_type": "markdown",
   "id": "b88f5bbc",
   "metadata": {},
   "source": [
    "## Important Cols\n",
    "\n",
    "pickup_year: the year of the trip\n",
    "\n",
    "pickup_month: the month of the trip (January is 1, December is 12)\n",
    "\n",
    "pickup_day: the day of the month of the trip\n",
    "\n",
    "pickup_location_code: the airport or borough where the trip started\n",
    "\n",
    "dropoff_location_code: the airport or borough where the trip ended\n",
    "\n",
    "trip_distance: the distance of the trip in miles\n",
    "\n",
    "trip_length: the length of the trip in seconds\n",
    "\n",
    "fare_amount: the base fare of the trip, in dollars\n",
    "\n",
    "total_amount: the total amount charged to the passenger, including all \n",
    "fees, tolls and tips\n"
   ]
  },
  {
   "cell_type": "markdown",
   "id": "ae9638a4",
   "metadata": {},
   "source": [
    "## All Values to floats\n",
    "\n",
    "Easy Data Cleaning"
   ]
  },
  {
   "cell_type": "code",
   "execution_count": 3,
   "id": "34536cfa",
   "metadata": {},
   "outputs": [],
   "source": [
    "dataset_floats = [] # dataset with all datas as floats \n",
    "\n",
    "for data in dataset: #grab each row\n",
    "    data_rows = [] #hold row item values\n",
    "    for item in data:\n",
    "        data_rows.append(float(item)) # convert each item to float\n",
    "    dataset_floats.append(data_rows) # append new values to new list"
   ]
  },
  {
   "cell_type": "markdown",
   "id": "afd1bd60",
   "metadata": {},
   "source": [
    "## NumPy ndarray conversion"
   ]
  },
  {
   "cell_type": "code",
   "execution_count": 15,
   "id": "10e70c5f",
   "metadata": {},
   "outputs": [
    {
     "name": "stdout",
     "output_type": "stream",
     "text": [
      "[2016.0 1.0 1.0 5.0 0.0 2.0 4.0 21.0 2037.0 52.0 0.8 5.54 11.65 69.99 1.0]\n",
      "(2013, 15)\n"
     ]
    }
   ],
   "source": [
    "# better formating\n",
    "taxi_array = np.array(dataset_floats, dtype=object) \n",
    "print(taxi_array[0])\n",
    "\n",
    "# gathering info\n",
    "print(taxi_array.shape) #2013 rows, 15 cols\n",
    "taxi_shape = taxi_array.shape"
   ]
  },
  {
   "cell_type": "code",
   "execution_count": 22,
   "id": "28ffee8a",
   "metadata": {},
   "outputs": [
    {
     "name": "stdout",
     "output_type": "stream",
     "text": [
      "0.8\n"
     ]
    }
   ],
   "source": [
    "print(taxi_array[0,10])"
   ]
  }
 ],
 "metadata": {
  "kernelspec": {
   "display_name": "Python 3 (ipykernel)",
   "language": "python",
   "name": "python3"
  },
  "language_info": {
   "codemirror_mode": {
    "name": "ipython",
    "version": 3
   },
   "file_extension": ".py",
   "mimetype": "text/x-python",
   "name": "python",
   "nbconvert_exporter": "python",
   "pygments_lexer": "ipython3",
   "version": "3.9.5"
  }
 },
 "nbformat": 4,
 "nbformat_minor": 5
}
