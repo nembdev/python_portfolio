{
 "cells": [
  {
   "cell_type": "markdown",
   "id": "e8d7c4c9",
   "metadata": {},
   "source": [
    "# An introduction to using NumPy for fast data manipulation\n",
    "\n",
    "This Dataset contains around 90,000 yellow taxi trips taken to and from New York City airports between January and June 2016.\n",
    " \n"
   ]
  },
  {
   "cell_type": "code",
   "execution_count": 1,
   "id": "a614bdcf",
   "metadata": {},
   "outputs": [],
   "source": [
    "# importing needed libraries \n",
    "import csv\n",
    "import numpy as np\n",
    "#import pandas as pd"
   ]
  },
  {
   "cell_type": "code",
   "execution_count": 2,
   "id": "fa24bf13",
   "metadata": {},
   "outputs": [],
   "source": [
    "o_file = open(\"nyc_taxis.csv\", \"r\") # open for reading (default)\n",
    "r_file = csv.reader(o_file)\n",
    "dataset = list(r_file)\n",
    "dataset_f = dataset\n",
    "dataset_h = dataset[0] # grab header\n",
    "dataset = dataset[1:] # remove header"
   ]
  },
  {
   "cell_type": "code",
   "execution_count": 3,
   "id": "1462a296",
   "metadata": {},
   "outputs": [
    {
     "name": "stdout",
     "output_type": "stream",
     "text": [
      "['pickup_year', 'pickup_month', 'pickup_day', 'pickup_dayofweek', 'pickup_time', 'pickup_location_code', 'dropoff_location_code', 'trip_distance', 'trip_length', 'fare_amount', 'fees_amount', 'tolls_amount', 'tip_amount', 'total_amount', 'payment_type']\n"
     ]
    }
   ],
   "source": [
    "# How is the data labeled?\n",
    "print(dataset_h)"
   ]
  },
  {
   "cell_type": "markdown",
   "id": "b88f5bbc",
   "metadata": {},
   "source": [
    "## Column Meanings\n",
    "\n",
    "pickup_year: the year of the trip\n",
    "\n",
    "pickup_month: the month of the trip (January is 1, December is 12)\n",
    "\n",
    "pickup_day: the day of the month of the trip\n",
    "\n",
    "pickup_location_code: the airport or borough where the trip started\n",
    "\n",
    "dropoff_location_code: the airport or borough where the trip ended\n",
    "\n",
    "trip_distance: the distance of the trip in miles\n",
    "\n",
    "trip_length: the length of the trip in seconds\n",
    "\n",
    "fare_amount: the base fare of the trip, in dollars\n",
    "\n",
    "total_amount: the total amount charged to the passenger, including all \n",
    "fees, tolls and tips\n"
   ]
  },
  {
   "cell_type": "markdown",
   "id": "ae9638a4",
   "metadata": {},
   "source": [
    "## Changing all values to floats\n",
    "\n",
    "Easier Data Cleaning/Manipulation"
   ]
  },
  {
   "cell_type": "code",
   "execution_count": 4,
   "id": "34536cfa",
   "metadata": {},
   "outputs": [],
   "source": [
    "dataset_floats = [] # dataset with all datas as floats \n",
    "\n",
    "# converts to floats\n",
    "for data in dataset: #grab each row\n",
    "    data_rows = [] #hold row item values\n",
    "    for item in data:\n",
    "        data_rows.append(float(item)) # convert each item to float\n",
    "    dataset_floats.append(data_rows) # append new values to new list"
   ]
  },
  {
   "cell_type": "markdown",
   "id": "afd1bd60",
   "metadata": {},
   "source": [
    "## Using NumPy to convert lists to ndarrays"
   ]
  },
  {
   "cell_type": "code",
   "execution_count": 5,
   "id": "10e70c5f",
   "metadata": {},
   "outputs": [
    {
     "name": "stdout",
     "output_type": "stream",
     "text": [
      "First Row:\n",
      " [2016.0 1.0 1.0 5.0 0.0 2.0 4.0 21.0 2037.0 52.0 0.8 5.54 11.65 69.99 1.0] \n",
      "\n",
      "This Array has 2013 rows and 15 columns\n"
     ]
    }
   ],
   "source": [
    "# dtype for better formating\n",
    "taxi_array = np.array(dataset_floats, dtype=object) \n",
    "\n",
    "# check first row\n",
    "print(\"First Row:\\n\",taxi_array[0], \"\\n\")\n",
    "\n",
    "# gathering info\n",
    "taxi_shape = taxi_array.shape\n",
    "print(\"This Array has {} rows and {} columns\".format(taxi_shape[0], taxi_shape[1])) #2013 rows, 15 cols\n"
   ]
  },
  {
   "cell_type": "markdown",
   "id": "632597e5",
   "metadata": {},
   "source": [
    "## What kind of information can we gather from this dataset?\n",
    "\n",
    "\n",
    "1. We can find the average travel speed using the trip distance, length and vector math"
   ]
  },
  {
   "cell_type": "code",
   "execution_count": 6,
   "id": "2abce896",
   "metadata": {},
   "outputs": [
    {
     "name": "stdout",
     "output_type": "stream",
     "text": [
      "Cols: trip_distance trip_length \n",
      "\n",
      "Trip Distance in miles:  21.0 \n",
      "\n",
      "Trip Length in seconds:  2037.0 \n",
      "\n",
      "[37.11340206185567 38.58157894736842 31.27222982216142 ...\n",
      " 22.299078667611624 42.41551246537396 36.904734073641144]\n"
     ]
    }
   ],
   "source": [
    "# speed = distance / time\n",
    "\n",
    "print(\"Cols:\",dataset_h[7], dataset_h[8], \"\\n\")\n",
    "print(\"Trip Distance in miles: \", taxi_array[0][7], \"\\n\") # example trip distance\n",
    "print(\"Trip Length in seconds: \", taxi_array[0][8], \"\\n\") # example trip length\n",
    "\n",
    "# convert seconds to hours, 3600 seconds in an hour\n",
    "trip_length_hours = taxi_array[:,8] / 3600\n",
    "\n",
    "\n",
    "taxi_mph = taxi_array[:,7] / trip_length_hours\n",
    "\n",
    "# check output\n",
    "print(taxi_mph)"
   ]
  },
  {
   "cell_type": "markdown",
   "id": "c8c6e399",
   "metadata": {},
   "source": [
    "## Using ndarray.min and .max\n",
    "Now that we have the mph we can gather more information such as the max, min, and mean mph"
   ]
  },
  {
   "cell_type": "code",
   "execution_count": 24,
   "id": "e0231978",
   "metadata": {},
   "outputs": [
    {
     "data": {
      "text/plain": [
       "'The slowest taxi ride was 0.0 mph, the fastest was 82800.0 mph, and the average mph of a trip was 169.98315083655177'"
      ]
     },
     "execution_count": 24,
     "metadata": {},
     "output_type": "execute_result"
    }
   ],
   "source": [
    "taxi_max = taxi_mph.max()\n",
    "taxi_min = taxi_mph.min()\n",
    "taxi_mean = taxi_mph.mean()\n",
    "\n",
    "\"The slowest taxi ride was {} mph, the fastest was {} mph, and the average mph of a trip was {}\".format(\n",
    "taxi_min, taxi_max, taxi_mean)"
   ]
  }
 ],
 "metadata": {
  "kernelspec": {
   "display_name": "Python 3 (ipykernel)",
   "language": "python",
   "name": "python3"
  },
  "language_info": {
   "codemirror_mode": {
    "name": "ipython",
    "version": 3
   },
   "file_extension": ".py",
   "mimetype": "text/x-python",
   "name": "python",
   "nbconvert_exporter": "python",
   "pygments_lexer": "ipython3",
   "version": "3.9.5"
  }
 },
 "nbformat": 4,
 "nbformat_minor": 5
}
