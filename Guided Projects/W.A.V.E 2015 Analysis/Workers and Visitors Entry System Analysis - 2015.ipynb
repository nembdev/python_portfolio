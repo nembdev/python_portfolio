{
 "cells": [
  {
   "cell_type": "markdown",
   "id": "3c220467",
   "metadata": {},
   "source": [
    "# W.A.VE Analysis - 2015\n",
    "\n",
    "Background:\n",
    "\n",
    "Question:\n",
    "\n",
    "Analysis Goal:\n",
    "\n",
    "\n",
    "In order to accomplosh this, we will be analysing records from the whitehouse's Workers and Visitors Entry System.\n",
    "\n",
    "Dataset: potus_visitors_2015.csv\n",
    "[Mod. Source](https://dsserver-prod-resources-1.s3.amazonaws.com/353/potus_visitors_2015.csv?versionId=AeH4y2JyRaYVNrWPsQMVZiSsB4ULQoAG)\n",
    "[Org. Source](https://obamawhitehouse.archives.gov/briefing-room/disclosures/visitor-records)"
   ]
  },
  {
   "cell_type": "markdown",
   "id": "caf5f840",
   "metadata": {},
   "source": [
    "# Importing the dataset"
   ]
  },
  {
   "cell_type": "code",
   "execution_count": 3,
   "id": "ada12d7a",
   "metadata": {},
   "outputs": [],
   "source": [
    "import datetime as dt\n",
    "from csv import reader\n",
    "o_file = open(\"potus_visitors_2015.csv\")\n",
    "r_file = reader(o_file)\n",
    "potus = list(r_file)\n",
    "potus_h = potus[0]\n",
    "potus = potus[1:]"
   ]
  },
  {
   "cell_type": "code",
   "execution_count": 4,
   "id": "86142ef3",
   "metadata": {},
   "outputs": [
    {
     "name": "stdout",
     "output_type": "stream",
     "text": [
      "['name', 'appt_made_date', 'appt_start_date', 'appt_end_date', 'visitee_namelast', 'visitee_namefirst', 'meeting_room', 'description'] \n",
      "\n",
      "[['Joshua T. Blanton', '2014-12-18T00:00:00', '1/6/15 9:30', '1/6/15 23:59', '', 'potus', 'west wing', 'JointService Military Honor Guard'], ['Jack T. Gutting', '2014-12-18T00:00:00', '1/6/15 9:30', '1/6/15 23:59', '', 'potus', 'west wing', 'JointService Military Honor Guard'], ['Bradley T. Guiles', '2014-12-18T00:00:00', '1/6/15 9:30', '1/6/15 23:59', '', 'potus', 'west wing', 'JointService Military Honor Guard']]\n"
     ]
    }
   ],
   "source": [
    "print(potus_h, \"\\n\")\n",
    "print(potus[0:3])"
   ]
  },
  {
   "cell_type": "markdown",
   "id": "46b1f4df",
   "metadata": {},
   "source": [
    "# Converting appt dates using strptime()"
   ]
  },
  {
   "cell_type": "code",
   "execution_count": 8,
   "id": "0afe5f7d",
   "metadata": {},
   "outputs": [],
   "source": [
    "# appt_start_date: 1/6/15 9:30\n",
    "\n",
    "date_format = \"%m/%d/%y %H:%M\"\n",
    "for appt in potus:\n",
    "    start_date = appt[2]\n",
    "    start_date = dt.datetime.strptime(start_date, date_format)\n",
    "    #print(start_date)\n",
    "    appt[2] = start_date"
   ]
  },
  {
   "cell_type": "markdown",
   "id": "f2ced84b",
   "metadata": {},
   "source": [
    "# Finding Vistors Per Month\n",
    "\n",
    "A Formatted Frequency Table using strftime()"
   ]
  },
  {
   "cell_type": "code",
   "execution_count": 10,
   "id": "7445e916",
   "metadata": {},
   "outputs": [
    {
     "name": "stdout",
     "output_type": "stream",
     "text": [
      "{'January 2015': 1248, 'February 2015': 2165, 'March 2015': 2262, 'April 2015': 4996, 'May 2015': 3013, 'June 2015': 7743, 'July 2015': 2930, 'August 2015': 1350, 'September 2015': 4416, 'October 2015': 3669, 'November 2015': 1133, 'December 2015': 13029}\n"
     ]
    }
   ],
   "source": [
    "visitors_per_month = {}\n",
    "\n",
    "for appt in potus:\n",
    "    #Month, Year\n",
    "    format_date = dt.datetime.strftime(appt[2], \"%B %Y\")\n",
    "    if format_date in visitors_per_month:\n",
    "        visitors_per_month[format_date] += 1\n",
    "    else:\n",
    "        visitors_per_month[format_date] = 1\n",
    "\n",
    "print(visitors_per_month)"
   ]
  }
 ],
 "metadata": {
  "kernelspec": {
   "display_name": "Python 3 (ipykernel)",
   "language": "python",
   "name": "python3"
  },
  "language_info": {
   "codemirror_mode": {
    "name": "ipython",
    "version": 3
   },
   "file_extension": ".py",
   "mimetype": "text/x-python",
   "name": "python",
   "nbconvert_exporter": "python",
   "pygments_lexer": "ipython3",
   "version": "3.9.5"
  }
 },
 "nbformat": 4,
 "nbformat_minor": 5
}
