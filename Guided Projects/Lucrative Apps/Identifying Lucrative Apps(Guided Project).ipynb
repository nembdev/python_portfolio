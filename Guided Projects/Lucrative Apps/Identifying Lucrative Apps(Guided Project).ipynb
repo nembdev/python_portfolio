{
 "cells": [
  {
   "cell_type": "markdown",
   "id": "875d1689",
   "metadata": {},
   "source": [
    "# Identifying Lucrative Apps\n",
    "\n",
    "* **Overview**: An app company is looking to build a new revenue generating app. Their use of in-app ads means that high usercounts is thier target metric. We need to indentify what free app categories bring in the most users.\n",
    "* **Goal**: \n",
    "    To find profitable Free App categories in the Android and iOS marketplaces, based on number of users."
   ]
  },
  {
   "cell_type": "code",
   "execution_count": 1,
   "id": "4cb243d4",
   "metadata": {},
   "outputs": [],
   "source": [
    "from csv import reader\n",
    "data_path_ios, datapath_droid = 'AppleStore.csv', \"googleplaystore.csv\"\n",
    "o_file_ios, o_file_droid = open(data_path_ios), open(datapath_droid)\n",
    "r_file_ios, r_file_droid = reader(o_file_ios), reader(o_file_droid)\n",
    "dataset_apple, dataset_droid = list(r_file_ios), list(r_file_droid)\n",
    "\n",
    "#seperated header and main data\n",
    "dataset_apple_h, dataset_droid_h = dataset_apple[0], dataset_droid[0]\n",
    "dataset_apple, dataset_droid = dataset_apple[1:], dataset_droid[1:]"
   ]
  },
  {
   "cell_type": "code",
   "execution_count": 2,
   "id": "c0abf4eb",
   "metadata": {},
   "outputs": [],
   "source": [
    "#takes 4 inputs \n",
    "#a dataset, a start/end,optional logging\n",
    "def explore_data(dataset, start, end, rows_and_columns=True):\n",
    "    #holds the section of data\n",
    "    dataset_slice = dataset[start:end]   \n",
    "    #prints each row, then adds a new line\n",
    "    for row in dataset_slice:\n",
    "        print(row)\n",
    "        print('\\n') # adds a new (empty) line after each row\n",
    "\n",
    "    if rows_and_columns:\n",
    "        print('Number of rows:', len(dataset))\n",
    "        print('Number of columns:', len(dataset[0]))"
   ]
  },
  {
   "cell_type": "markdown",
   "id": "997ca2fb",
   "metadata": {},
   "source": [
    "[Apple Source]https://www.kaggle.com/ramamet4/app-store-apple-data-set-10k-apps\n",
    "\n",
    "[Android Source]https://www.kaggle.com/ramamet4/app-store-apple-data-set-10k-apps"
   ]
  },
  {
   "cell_type": "code",
   "execution_count": 3,
   "id": "6ea29e9a",
   "metadata": {},
   "outputs": [
    {
     "name": "stdout",
     "output_type": "stream",
     "text": [
      "Apple DataSet Exploration\n",
      "\n",
      "['1', '281656475', 'PAC-MAN Premium', '100788224', 'USD', '3.99', '21292', '26', '4', '4.5', '6.3.5', '4+', 'Games', '38', '5', '10', '1']\n",
      "\n",
      "\n",
      "['2', '281796108', 'Evernote - stay organized', '158578688', 'USD', '0', '161065', '26', '4', '3.5', '8.2.2', '4+', 'Productivity', '37', '5', '23', '1']\n",
      "\n",
      "\n",
      "['3', '281940292', 'WeatherBug - Local Weather, Radar, Maps, Alerts', '100524032', 'USD', '0', '188583', '2822', '3.5', '4.5', '5.0.0', '4+', 'Weather', '37', '5', '3', '1']\n",
      "\n",
      "\n",
      "['4', '282614216', 'eBay: Best App to Buy, Sell, Save! Online Shopping', '128512000', 'USD', '0', '262241', '649', '4', '4.5', '5.10.0', '12+', 'Shopping', '37', '5', '9', '1']\n",
      "\n",
      "\n",
      "['5', '282935706', 'Bible', '92774400', 'USD', '0', '985920', '5320', '4.5', '5', '7.5.1', '4+', 'Reference', '37', '5', '45', '1']\n",
      "\n",
      "\n",
      "Number of rows: 7197\n",
      "Number of columns: 17\n",
      "\n",
      "\n",
      "Android DataSet Exploration\n",
      "\n",
      "['Photo Editor & Candy Camera & Grid & ScrapBook', 'ART_AND_DESIGN', '4.1', '159', '19M', '10,000+', 'Free', '0', 'Everyone', 'Art & Design', 'January 7, 2018', '1.0.0', '4.0.3 and up']\n",
      "\n",
      "\n",
      "['Coloring book moana', 'ART_AND_DESIGN', '3.9', '967', '14M', '500,000+', 'Free', '0', 'Everyone', 'Art & Design;Pretend Play', 'January 15, 2018', '2.0.0', '4.0.3 and up']\n",
      "\n",
      "\n",
      "['U Launcher Lite – FREE Live Cool Themes, Hide Apps', 'ART_AND_DESIGN', '4.7', '87510', '8.7M', '5,000,000+', 'Free', '0', 'Everyone', 'Art & Design', 'August 1, 2018', '1.2.4', '4.0.3 and up']\n",
      "\n",
      "\n",
      "['Sketch - Draw & Paint', 'ART_AND_DESIGN', '4.5', '215644', '25M', '50,000,000+', 'Free', '0', 'Teen', 'Art & Design', 'June 8, 2018', 'Varies with device', '4.2 and up']\n",
      "\n",
      "\n",
      "['Pixel Draw - Number Art Coloring Book', 'ART_AND_DESIGN', '4.3', '967', '2.8M', '100,000+', 'Free', '0', 'Everyone', 'Art & Design;Creativity', 'June 20, 2018', '1.1', '4.4 and up']\n",
      "\n",
      "\n",
      "Number of rows: 10841\n",
      "Number of columns: 13\n"
     ]
    }
   ],
   "source": [
    "print(\"Apple DataSet Exploration\\n\")\n",
    "explore_data(dataset_apple,0,5,True)\n",
    "print(\"\\n\")\n",
    "print(\"Android DataSet Exploration\\n\")\n",
    "explore_data(dataset_droid,0,5,True)"
   ]
  },
  {
   "cell_type": "markdown",
   "id": "cf7ddaf4",
   "metadata": {},
   "source": [
    "Finding Useful Column Data"
   ]
  },
  {
   "cell_type": "code",
   "execution_count": 4,
   "id": "c256fba8",
   "metadata": {},
   "outputs": [
    {
     "name": "stdout",
     "output_type": "stream",
     "text": [
      "Apple DataSet Columns\n",
      "\n",
      "\n",
      "\n",
      "id\n",
      "\n",
      "\n",
      "track_name\n",
      "\n",
      "\n",
      "size_bytes\n",
      "\n",
      "\n",
      "currency\n",
      "\n",
      "\n",
      "price\n",
      "\n",
      "\n",
      "rating_count_tot\n",
      "\n",
      "\n",
      "rating_count_ver\n",
      "\n",
      "\n",
      "user_rating\n",
      "\n",
      "\n",
      "user_rating_ver\n",
      "\n",
      "\n",
      "ver\n",
      "\n",
      "\n",
      "cont_rating\n",
      "\n",
      "\n",
      "prime_genre\n",
      "\n",
      "\n",
      "sup_devices.num\n",
      "\n",
      "\n",
      "ipadSc_urls.num\n",
      "\n",
      "\n",
      "lang.num\n",
      "\n",
      "\n",
      "vpp_lic\n",
      "\n",
      "\n",
      "Number of rows: 17\n",
      "Number of columns: 0\n",
      "\n",
      "\n",
      "Droid DataSet Columns\n",
      "\n",
      "\n",
      "App\n",
      "\n",
      "\n",
      "Category\n",
      "\n",
      "\n",
      "Rating\n",
      "\n",
      "\n",
      "Reviews\n",
      "\n",
      "\n",
      "Size\n",
      "\n",
      "\n",
      "Installs\n",
      "\n",
      "\n",
      "Type\n",
      "\n",
      "\n",
      "Price\n",
      "\n",
      "\n",
      "Content Rating\n",
      "\n",
      "\n",
      "Genres\n",
      "\n",
      "\n",
      "Last Updated\n",
      "\n",
      "\n",
      "Current Ver\n",
      "\n",
      "\n",
      "Android Ver\n",
      "\n",
      "\n",
      "Number of rows: 13\n",
      "Number of columns: 3\n"
     ]
    }
   ],
   "source": [
    "print(\"Apple DataSet Columns\")\n",
    "explore_data(dataset_apple_h,0,17)\n",
    "print(\"\\n\")\n",
    "print(\"Droid DataSet Columns\")\n",
    "print(\"\\n\")\n",
    "explore_data(dataset_droid_h,0,13)"
   ]
  },
  {
   "cell_type": "markdown",
   "id": "402ec71c",
   "metadata": {},
   "source": [
    "Useful Apple Cols\n",
    "* id \n",
    "* track_name  \n",
    "* price\n",
    "* rating_count_tot\n",
    "* user_rating\n",
    "\n",
    "Useful Droid Cols\n",
    "* App \n",
    "* Category  \n",
    "* Rating\n",
    "* Installs\n",
    "* Price"
   ]
  },
  {
   "cell_type": "markdown",
   "id": "8523d471",
   "metadata": {},
   "source": [
    "Error in Android Dataset: Wrong rating for entry 10472\n",
    "Rating is > 5\n",
    "(link)https://www.kaggle.com/lava18/google-play-store-apps/discussion/66015"
   ]
  },
  {
   "cell_type": "code",
   "execution_count": 5,
   "id": "d01c4902",
   "metadata": {},
   "outputs": [
    {
     "name": "stdout",
     "output_type": "stream",
     "text": [
      "['Life Made WI-Fi Touchscreen Photo Frame', '1.9', '19', '3.0M', '1,000+', 'Free', '0', 'Everyone', '', 'February 11, 2018', '1.0.19', '4.0 and up']\n"
     ]
    }
   ],
   "source": [
    "print(dataset_droid[10472])"
   ]
  },
  {
   "cell_type": "code",
   "execution_count": 6,
   "id": "28daedd3",
   "metadata": {},
   "outputs": [],
   "source": [
    "del dataset_droid[10472]"
   ]
  },
  {
   "cell_type": "markdown",
   "id": "8cd53cf2",
   "metadata": {},
   "source": [
    "Data Cleaning - Duplicate Check - Droid"
   ]
  },
  {
   "cell_type": "code",
   "execution_count": 7,
   "id": "bfacb96e",
   "metadata": {
    "scrolled": false
   },
   "outputs": [
    {
     "name": "stdout",
     "output_type": "stream",
     "text": [
      "Duplicate Count 1181\n",
      "Uniques Count 9659\n",
      "Expected Count 9659\n"
     ]
    }
   ],
   "source": [
    "\n",
    "def duplicate_finder(dupes,uniq, dataset):\n",
    "    for app in dataset:\n",
    "        #set name to App col value\n",
    "        name = app[0]\n",
    "        #is the name in our list already?\n",
    "        if name in uniq:\n",
    "            dupes.append(name)#its not unique\n",
    "        else:\n",
    "            uniq.append(name)\n",
    "    return dupes, uniq\n",
    "\n",
    "dupes_set_1, unique_set_1 =  [], []\n",
    "dupes_set_1, unique_set_1 = duplicate_finder(dupes_set_1, unique_set_1, dataset_droid)\n",
    "\n",
    "print(\"Duplicate Count\", len(dupes_set_1))\n",
    "print(\"Uniques Count\", len(unique_set_1))\n",
    "print(\"Expected Count\", len(dataset_droid) - len(dupes_set_1))\n",
    "\n",
    "#print(\"\\n\", dupes_set_1)"
   ]
  },
  {
   "cell_type": "markdown",
   "id": "61d4cb2d",
   "metadata": {},
   "source": [
    "Duplicate Cleaning \n",
    "\"keep the row with the highest number of reviews and remove the other entries for any given app\" as that should be the most recent review"
   ]
  },
  {
   "cell_type": "code",
   "execution_count": 8,
   "id": "73db54cc",
   "metadata": {},
   "outputs": [
    {
     "name": "stdout",
     "output_type": "stream",
     "text": [
      "9659\n"
     ]
    }
   ],
   "source": [
    "unique_apps_reviews = {}\n",
    "\n",
    "for app in dataset_droid:\n",
    "    #search for each app by name, index 0\n",
    "    #if not found\n",
    "    if app[0] not in unique_apps_reviews:\n",
    "        #set key = name, value = num of reviews\n",
    "        unique_apps_reviews[app[0]] = float(app[3])\n",
    "    #if its already in the list, we have a duplicate\n",
    "    #check for the most recent, by number of reviews\n",
    "    elif unique_apps_reviews[app[0]] < float(app[3]):\n",
    "        unique_apps_reviews[app[0]] = float(app[3])\n",
    "\n",
    "#check count\n",
    "print(len(unique_apps_reviews))\n",
    "#print(unique_apps_reviews)"
   ]
  },
  {
   "cell_type": "markdown",
   "id": "278162b5",
   "metadata": {},
   "source": [
    "Count of unique_apps_reviews matches our expected value."
   ]
  },
  {
   "cell_type": "code",
   "execution_count": 9,
   "id": "74b3cb4a",
   "metadata": {},
   "outputs": [
    {
     "name": "stdout",
     "output_type": "stream",
     "text": [
      "Clean Values Count: 9659\n",
      "\n",
      "['Photo Editor & Candy Camera & Grid & ScrapBook', 'ART_AND_DESIGN', '4.1', '159', '19M', '10,000+', 'Free', '0', 'Everyone', 'Art & Design', 'January 7, 2018', '1.0.0', '4.0.3 and up']\n",
      "\n",
      "\n",
      "['U Launcher Lite – FREE Live Cool Themes, Hide Apps', 'ART_AND_DESIGN', '4.7', '87510', '8.7M', '5,000,000+', 'Free', '0', 'Everyone', 'Art & Design', 'August 1, 2018', '1.2.4', '4.0.3 and up']\n",
      "\n",
      "\n",
      "['Sketch - Draw & Paint', 'ART_AND_DESIGN', '4.5', '215644', '25M', '50,000,000+', 'Free', '0', 'Teen', 'Art & Design', 'June 8, 2018', 'Varies with device', '4.2 and up']\n",
      "\n",
      "\n",
      "Number of rows: 9659\n",
      "Number of columns: 13\n"
     ]
    }
   ],
   "source": [
    "#cleaned android data\n",
    "android_clean = []\n",
    "#holder\n",
    "already_added = []\n",
    "\n",
    "#cleaning the full dataset using the list of uniques\n",
    "for app in dataset_droid:\n",
    "    #grab the name, and num of reviews\n",
    "    name = app[0]\n",
    "    n_reviews = float(app[3])\n",
    "    #search uniques list for the name\n",
    "    #if the app matches our unique list by review, we know its the most recent\n",
    "    #and its not in the list already,i.e an exact duplicate, add it\n",
    "    if (n_reviews == unique_apps_reviews[name]) and (name not in already_added):\n",
    "        #append the entire row to the clean list\n",
    "        android_clean.append(app)\n",
    "        #update the already added list\n",
    "        already_added.append(name)\n",
    "\n",
    "#check length and first values\n",
    "print(\"Clean Values Count: \" + str(len(android_clean)) + \"\\n\")\n",
    "explore_data(android_clean, 0, 3, True)"
   ]
  },
  {
   "cell_type": "markdown",
   "id": "a0fe074b",
   "metadata": {},
   "source": [
    "Data Cleaning - Language Check - Apple/Droid"
   ]
  },
  {
   "cell_type": "code",
   "execution_count": 10,
   "id": "12574893",
   "metadata": {},
   "outputs": [
    {
     "name": "stdout",
     "output_type": "stream",
     "text": [
      "中国語 AQリスニング\n",
      "لعبة تقدر تربح DZ\n"
     ]
    }
   ],
   "source": [
    "#Non Enlish App Examples\n",
    "print(android_clean[4412][0])\n",
    "print(android_clean[7940][0])"
   ]
  },
  {
   "cell_type": "code",
   "execution_count": 11,
   "id": "e264a52d",
   "metadata": {},
   "outputs": [],
   "source": [
    "eng_lower = 'abcdefghijklmnopqrstuvwxyz'\n",
    "eng_upper = 'ABCDEFGHIJKLMNOPQRSTUVWXYZ'\n",
    "\n",
    "\n",
    "def eng_check(text):\n",
    "    #leeway for a emojis,punct, etc\n",
    "    non_eng_counter = 0\n",
    "    \n",
    "    for char in text:\n",
    "        num = ord(char)\n",
    "        if num > 127:\n",
    "            non_eng_counter += 1\n",
    "    #more than 3 non eng found? probally foreign \n",
    "    if non_eng_counter > 3:\n",
    "        return False\n",
    "    else:\n",
    "        return True\n",
    "#eng_check('Instachat 😜')   \n",
    "\n",
    "def check_lang_droid(dataset, new_set):\n",
    "    for app in dataset:\n",
    "        name = app[0]\n",
    "        english = eng_check(name)\n",
    "        if english == True:\n",
    "            new_set.append(app)\n",
    "    found_non_eng = len(dataset) - len(new_set)\n",
    "    print(\"Found Non English: \", str(found_non_eng))\n",
    "    print(\"Old Data Count: \", str(len(dataset)))\n",
    "    print(\"Cleaned Data Count: \", str(len(new_set)))\n",
    "\n",
    "def check_lang_apple(dataset, new_set):\n",
    "    for app in dataset:\n",
    "        name = app[2]\n",
    "        english = eng_check(name)\n",
    "        if english == True:\n",
    "            new_set.append(app)\n",
    "    found_non_eng = len(dataset) - len(new_set)\n",
    "    print(\"Found Non English: \", str(found_non_eng))\n",
    "    print(\"Old Data Count: \", str(len(dataset)))\n",
    "    print(\"Cleaned Data Count: \", str(len(new_set)))\n",
    "            "
   ]
  },
  {
   "cell_type": "code",
   "execution_count": 12,
   "id": "032fbb18",
   "metadata": {},
   "outputs": [
    {
     "name": "stdout",
     "output_type": "stream",
     "text": [
      "iOS Dataset\n",
      "Found Non English:  1014\n",
      "Old Data Count:  7197\n",
      "Cleaned Data Count:  6183\n",
      "\n",
      "\n",
      "Android Dataset\n",
      "Found Non English:  45\n",
      "Old Data Count:  9659\n",
      "Cleaned Data Count:  9614\n"
     ]
    }
   ],
   "source": [
    "ios_eng_clean = []\n",
    "android_eng_clean = []\n",
    "\n",
    "print(\"iOS Dataset\")\n",
    "check_lang_apple(dataset_apple, ios_eng_clean )\n",
    "print(\"\\n\")\n",
    "print(\"Android Dataset\")\n",
    "check_lang_droid(android_clean, android_eng_clean)\n",
    "\n",
    "\n",
    " "
   ]
  },
  {
   "cell_type": "markdown",
   "id": "168335fd",
   "metadata": {},
   "source": [
    "Summary so far:\n",
    "* Removed Duplicate Data from android set\n",
    "* Removed Non-English Data from Both Sets\n",
    "\n",
    "Next:\n",
    "* Remove Non-Free apps"
   ]
  },
  {
   "cell_type": "code",
   "execution_count": 13,
   "id": "efa683be",
   "metadata": {},
   "outputs": [],
   "source": [
    "#Apple Price is index 5\n",
    "#Android Price is index 7\n",
    "def find_free(data_set, new_set,index):\n",
    "    non_free_count = 0\n",
    "    for app in data_set:\n",
    "        if app[index] == '0':\n",
    "            new_set.append(app)\n",
    "        else:\n",
    "            non_free_count += 1\n",
    "    print(\"Found Non Free: \", str(non_free_count))\n",
    "    print(\"Old Data Count: \", str(len(data_set)))\n",
    "    print(\"Cleaned Data Count: \", str(len(new_set)))\n",
    "    print(\"\\n\")\n",
    "            "
   ]
  },
  {
   "cell_type": "code",
   "execution_count": 14,
   "id": "f3337373",
   "metadata": {},
   "outputs": [
    {
     "name": "stdout",
     "output_type": "stream",
     "text": [
      "iOS Dataset\n",
      "Found Non Free:  2961\n",
      "Old Data Count:  6183\n",
      "Cleaned Data Count:  3222\n",
      "\n",
      "\n",
      "['2', '281796108', 'Evernote - stay organized', '158578688', 'USD', '0', '161065', '26', '4', '3.5', '8.2.2', '4+', 'Productivity', '37', '5', '23', '1']\n",
      "\n",
      "\n",
      "['3', '281940292', 'WeatherBug - Local Weather, Radar, Maps, Alerts', '100524032', 'USD', '0', '188583', '2822', '3.5', '4.5', '5.0.0', '4+', 'Weather', '37', '5', '3', '1']\n",
      "\n",
      "\n",
      "['4', '282614216', 'eBay: Best App to Buy, Sell, Save! Online Shopping', '128512000', 'USD', '0', '262241', '649', '4', '4.5', '5.10.0', '12+', 'Shopping', '37', '5', '9', '1']\n",
      "\n",
      "\n",
      "['5', '282935706', 'Bible', '92774400', 'USD', '0', '985920', '5320', '4.5', '5', '7.5.1', '4+', 'Reference', '37', '5', '45', '1']\n",
      "\n",
      "\n",
      "['7', '283646709', 'PayPal - Send and request money safely', '227795968', 'USD', '0', '119487', '879', '4', '4.5', '6.12.0', '4+', 'Finance', '37', '0', '19', '1']\n",
      "\n",
      "\n",
      "Number of rows: 3222\n",
      "Number of columns: 17\n",
      "\n",
      "\n",
      "Android Dataset\n",
      "Found Non Free:  750\n",
      "Old Data Count:  9614\n",
      "Cleaned Data Count:  8864\n",
      "\n",
      "\n",
      "['Photo Editor & Candy Camera & Grid & ScrapBook', 'ART_AND_DESIGN', '4.1', '159', '19M', '10,000+', 'Free', '0', 'Everyone', 'Art & Design', 'January 7, 2018', '1.0.0', '4.0.3 and up']\n",
      "\n",
      "\n",
      "['U Launcher Lite – FREE Live Cool Themes, Hide Apps', 'ART_AND_DESIGN', '4.7', '87510', '8.7M', '5,000,000+', 'Free', '0', 'Everyone', 'Art & Design', 'August 1, 2018', '1.2.4', '4.0.3 and up']\n",
      "\n",
      "\n",
      "['Sketch - Draw & Paint', 'ART_AND_DESIGN', '4.5', '215644', '25M', '50,000,000+', 'Free', '0', 'Teen', 'Art & Design', 'June 8, 2018', 'Varies with device', '4.2 and up']\n",
      "\n",
      "\n",
      "['Pixel Draw - Number Art Coloring Book', 'ART_AND_DESIGN', '4.3', '967', '2.8M', '100,000+', 'Free', '0', 'Everyone', 'Art & Design;Creativity', 'June 20, 2018', '1.1', '4.4 and up']\n",
      "\n",
      "\n",
      "['Paper flowers instructions', 'ART_AND_DESIGN', '4.4', '167', '5.6M', '50,000+', 'Free', '0', 'Everyone', 'Art & Design', 'March 26, 2017', '1.0', '2.3 and up']\n",
      "\n",
      "\n",
      "Number of rows: 8864\n",
      "Number of columns: 13\n"
     ]
    }
   ],
   "source": [
    "ios_eng_free_clean = []\n",
    "android_eng_free_clean = []\n",
    "\n",
    "print(\"iOS Dataset\")\n",
    "find_free(ios_eng_clean, ios_eng_free_clean, 5)\n",
    "explore_data(ios_eng_free_clean, 0,5,True)\n",
    "\n",
    "print(\"\\n\")\n",
    "print(\"Android Dataset\")\n",
    "find_free(android_eng_clean, android_eng_free_clean, 7)\n",
    "explore_data(android_eng_free_clean, 0,5,True)"
   ]
  },
  {
   "cell_type": "markdown",
   "id": "05b21e37",
   "metadata": {},
   "source": [
    "Summary so far:\n",
    "\n",
    "* Removed Duplicate Data from android set\n",
    "* Removed Non-English Data from Both Sets\n",
    "* Remove Non-Free apps\n",
    "\n",
    "Next:\n",
    "* Building Frequency tables to find profitable apps\n",
    "\n",
    "Apple Dateset = ios_eng_free_clean\n",
    "\n",
    "Google Dataset = android_eng_free_clean\n"
   ]
  },
  {
   "cell_type": "markdown",
   "id": "f1b4c33b",
   "metadata": {},
   "source": [
    "1. Identify the most common genre for each market"
   ]
  },
  {
   "cell_type": "code",
   "execution_count": 15,
   "id": "0d10bbd8",
   "metadata": {},
   "outputs": [
    {
     "name": "stdout",
     "output_type": "stream",
     "text": [
      "['2', '281796108', 'Evernote - stay organized', '158578688', 'USD', '0', '161065', '26', '4', '3.5', '8.2.2', '4+', 'Productivity', '37', '5', '23', '1']\n",
      "\n",
      "\n",
      "['Photo Editor & Candy Camera & Grid & ScrapBook', 'ART_AND_DESIGN', '4.1', '159', '19M', '10,000+', 'Free', '0', 'Everyone', 'Art & Design', 'January 7, 2018', '1.0.0', '4.0.3 and up']\n",
      "\n",
      "\n"
     ]
    }
   ],
   "source": [
    "#find genre index\n",
    "explore_data(ios_eng_free_clean,0,1,False)\n",
    "explore_data(android_eng_free_clean,0,1,False)"
   ]
  },
  {
   "cell_type": "code",
   "execution_count": 16,
   "id": "72757fbc",
   "metadata": {},
   "outputs": [],
   "source": [
    "#ios prime_genre index = 12 or -5\n",
    "#droid genre index = 9\n",
    "#droid category index = 1\n",
    "\n",
    "def freq_table(dataset, index):\n",
    "    newset = {}\n",
    "    for app in dataset:\n",
    "        if app[index] in newset:\n",
    "            newset[app[index]] += 1\n",
    "        else:\n",
    "            newset[app[index]] = 1\n",
    "    \n",
    "    for app in newset:\n",
    "        newset[app] = (newset[app] / len(dataset) ) * 100\n",
    "    \n",
    "    return newset"
   ]
  },
  {
   "cell_type": "code",
   "execution_count": 17,
   "id": "6f5242de",
   "metadata": {},
   "outputs": [],
   "source": [
    "#takes a list and prints it in a sorted table format\n",
    "def display_table(dataset, index):\n",
    "\n",
    "    table = freq_table(dataset, index)\n",
    "    \n",
    "    table_display = []\n",
    "    for key in table:\n",
    "        key_val_as_tuple = (table[key], key)\n",
    "        table_display.append(key_val_as_tuple)\n",
    "\n",
    "    table_sorted = sorted(table_display, reverse = True)\n",
    "    for entry in table_sorted:\n",
    "        print(entry[1], ':', entry[0])"
   ]
  },
  {
   "cell_type": "markdown",
   "id": "d0adba3d",
   "metadata": {},
   "source": [
    "Sorted Genres Frequency Table - iOS, Android"
   ]
  },
  {
   "cell_type": "code",
   "execution_count": 18,
   "id": "286a9e3f",
   "metadata": {},
   "outputs": [
    {
     "name": "stdout",
     "output_type": "stream",
     "text": [
      "Games : 58.16263190564867\n",
      "Entertainment : 7.883302296710118\n",
      "Photo & Video : 4.9658597144630665\n",
      "Education : 3.662321539416512\n",
      "Social Networking : 3.2898820608317814\n",
      "Shopping : 2.60707635009311\n",
      "Utilities : 2.5139664804469275\n",
      "Sports : 2.1415270018621975\n",
      "Music : 2.0484171322160147\n",
      "Health & Fitness : 2.0173805090006205\n",
      "Productivity : 1.7380509000620732\n",
      "Lifestyle : 1.5828677839851024\n",
      "News : 1.3345747982619491\n",
      "Travel : 1.2414649286157666\n",
      "Finance : 1.1173184357541899\n",
      "Weather : 0.8690254500310366\n",
      "Food & Drink : 0.8069522036002483\n",
      "Reference : 0.5586592178770949\n",
      "Business : 0.5276225946617008\n",
      "Book : 0.4345127250155183\n",
      "Navigation : 0.186219739292365\n",
      "Medical : 0.186219739292365\n",
      "Catalogs : 0.12414649286157665\n"
     ]
    }
   ],
   "source": [
    "display_table(ios_eng_free_clean, 12)"
   ]
  },
  {
   "cell_type": "code",
   "execution_count": 19,
   "id": "f3db0e83",
   "metadata": {},
   "outputs": [
    {
     "name": "stdout",
     "output_type": "stream",
     "text": [
      "Tools : 8.449909747292418\n",
      "Entertainment : 6.069494584837545\n",
      "Education : 5.347472924187725\n",
      "Business : 4.591606498194946\n",
      "Productivity : 3.892148014440433\n",
      "Lifestyle : 3.892148014440433\n",
      "Finance : 3.7003610108303246\n",
      "Medical : 3.531137184115524\n",
      "Sports : 3.463447653429603\n",
      "Personalization : 3.3167870036101084\n",
      "Communication : 3.2378158844765346\n",
      "Action : 3.1024368231046933\n",
      "Health & Fitness : 3.0798736462093865\n",
      "Photography : 2.944494584837545\n",
      "News & Magazines : 2.7978339350180503\n",
      "Social : 2.6624548736462095\n",
      "Travel & Local : 2.3240072202166067\n",
      "Shopping : 2.2450361010830324\n",
      "Books & Reference : 2.1435018050541514\n",
      "Simulation : 2.0419675090252705\n",
      "Dating : 1.861462093862816\n",
      "Arcade : 1.8501805054151623\n",
      "Video Players & Editors : 1.7712093862815883\n",
      "Casual : 1.7599277978339352\n",
      "Maps & Navigation : 1.3989169675090252\n",
      "Food & Drink : 1.2409747292418771\n",
      "Puzzle : 1.128158844765343\n",
      "Racing : 0.9927797833935018\n",
      "Role Playing : 0.9363718411552346\n",
      "Libraries & Demo : 0.9363718411552346\n",
      "Auto & Vehicles : 0.9250902527075812\n",
      "Strategy : 0.9138086642599278\n",
      "House & Home : 0.8235559566787004\n",
      "Weather : 0.8009927797833934\n",
      "Events : 0.7107400722021661\n",
      "Adventure : 0.6768953068592057\n",
      "Comics : 0.6092057761732852\n",
      "Beauty : 0.5979241877256317\n",
      "Art & Design : 0.5979241877256317\n",
      "Parenting : 0.4963898916967509\n",
      "Card : 0.45126353790613716\n",
      "Casino : 0.42870036101083037\n",
      "Trivia : 0.41741877256317694\n",
      "Educational;Education : 0.39485559566787\n",
      "Board : 0.3835740072202166\n",
      "Educational : 0.3722924187725632\n",
      "Education;Education : 0.33844765342960287\n",
      "Word : 0.2594765342960289\n",
      "Casual;Pretend Play : 0.236913357400722\n",
      "Music : 0.2030685920577617\n",
      "Racing;Action & Adventure : 0.16922382671480143\n",
      "Puzzle;Brain Games : 0.16922382671480143\n",
      "Entertainment;Music & Video : 0.16922382671480143\n",
      "Casual;Brain Games : 0.13537906137184114\n",
      "Casual;Action & Adventure : 0.13537906137184114\n",
      "Arcade;Action & Adventure : 0.12409747292418773\n",
      "Action;Action & Adventure : 0.10153429602888085\n",
      "Educational;Pretend Play : 0.09025270758122744\n",
      "Simulation;Action & Adventure : 0.078971119133574\n",
      "Parenting;Education : 0.078971119133574\n",
      "Entertainment;Brain Games : 0.078971119133574\n",
      "Board;Brain Games : 0.078971119133574\n",
      "Parenting;Music & Video : 0.06768953068592057\n",
      "Educational;Brain Games : 0.06768953068592057\n",
      "Casual;Creativity : 0.06768953068592057\n",
      "Art & Design;Creativity : 0.06768953068592057\n",
      "Education;Pretend Play : 0.056407942238267145\n",
      "Role Playing;Pretend Play : 0.04512635379061372\n",
      "Education;Creativity : 0.04512635379061372\n",
      "Role Playing;Action & Adventure : 0.033844765342960284\n",
      "Puzzle;Action & Adventure : 0.033844765342960284\n",
      "Entertainment;Creativity : 0.033844765342960284\n",
      "Entertainment;Action & Adventure : 0.033844765342960284\n",
      "Educational;Creativity : 0.033844765342960284\n",
      "Educational;Action & Adventure : 0.033844765342960284\n",
      "Education;Music & Video : 0.033844765342960284\n",
      "Education;Brain Games : 0.033844765342960284\n",
      "Education;Action & Adventure : 0.033844765342960284\n",
      "Adventure;Action & Adventure : 0.033844765342960284\n",
      "Video Players & Editors;Music & Video : 0.02256317689530686\n",
      "Sports;Action & Adventure : 0.02256317689530686\n",
      "Simulation;Pretend Play : 0.02256317689530686\n",
      "Puzzle;Creativity : 0.02256317689530686\n",
      "Music;Music & Video : 0.02256317689530686\n",
      "Entertainment;Pretend Play : 0.02256317689530686\n",
      "Casual;Education : 0.02256317689530686\n",
      "Board;Action & Adventure : 0.02256317689530686\n",
      "Video Players & Editors;Creativity : 0.01128158844765343\n",
      "Trivia;Education : 0.01128158844765343\n",
      "Travel & Local;Action & Adventure : 0.01128158844765343\n",
      "Tools;Education : 0.01128158844765343\n",
      "Strategy;Education : 0.01128158844765343\n",
      "Strategy;Creativity : 0.01128158844765343\n",
      "Strategy;Action & Adventure : 0.01128158844765343\n",
      "Simulation;Education : 0.01128158844765343\n",
      "Role Playing;Brain Games : 0.01128158844765343\n",
      "Racing;Pretend Play : 0.01128158844765343\n",
      "Puzzle;Education : 0.01128158844765343\n",
      "Parenting;Brain Games : 0.01128158844765343\n",
      "Music & Audio;Music & Video : 0.01128158844765343\n",
      "Lifestyle;Pretend Play : 0.01128158844765343\n",
      "Lifestyle;Education : 0.01128158844765343\n",
      "Health & Fitness;Education : 0.01128158844765343\n",
      "Health & Fitness;Action & Adventure : 0.01128158844765343\n",
      "Entertainment;Education : 0.01128158844765343\n",
      "Communication;Creativity : 0.01128158844765343\n",
      "Comics;Creativity : 0.01128158844765343\n",
      "Casual;Music & Video : 0.01128158844765343\n",
      "Card;Action & Adventure : 0.01128158844765343\n",
      "Books & Reference;Education : 0.01128158844765343\n",
      "Art & Design;Pretend Play : 0.01128158844765343\n",
      "Art & Design;Action & Adventure : 0.01128158844765343\n",
      "Arcade;Pretend Play : 0.01128158844765343\n",
      "Adventure;Education : 0.01128158844765343\n"
     ]
    }
   ],
   "source": [
    "display_table(android_eng_free_clean, 9)"
   ]
  },
  {
   "cell_type": "code",
   "execution_count": 20,
   "id": "7058017c",
   "metadata": {},
   "outputs": [
    {
     "name": "stdout",
     "output_type": "stream",
     "text": [
      "FAMILY : 18.907942238267147\n",
      "GAME : 9.724729241877256\n",
      "TOOLS : 8.461191335740072\n",
      "BUSINESS : 4.591606498194946\n",
      "LIFESTYLE : 3.9034296028880866\n",
      "PRODUCTIVITY : 3.892148014440433\n",
      "FINANCE : 3.7003610108303246\n",
      "MEDICAL : 3.531137184115524\n",
      "SPORTS : 3.395758122743682\n",
      "PERSONALIZATION : 3.3167870036101084\n",
      "COMMUNICATION : 3.2378158844765346\n",
      "HEALTH_AND_FITNESS : 3.0798736462093865\n",
      "PHOTOGRAPHY : 2.944494584837545\n",
      "NEWS_AND_MAGAZINES : 2.7978339350180503\n",
      "SOCIAL : 2.6624548736462095\n",
      "TRAVEL_AND_LOCAL : 2.33528880866426\n",
      "SHOPPING : 2.2450361010830324\n",
      "BOOKS_AND_REFERENCE : 2.1435018050541514\n",
      "DATING : 1.861462093862816\n",
      "VIDEO_PLAYERS : 1.7937725631768955\n",
      "MAPS_AND_NAVIGATION : 1.3989169675090252\n",
      "FOOD_AND_DRINK : 1.2409747292418771\n",
      "EDUCATION : 1.1620036101083033\n",
      "ENTERTAINMENT : 0.9589350180505415\n",
      "LIBRARIES_AND_DEMO : 0.9363718411552346\n",
      "AUTO_AND_VEHICLES : 0.9250902527075812\n",
      "HOUSE_AND_HOME : 0.8235559566787004\n",
      "WEATHER : 0.8009927797833934\n",
      "EVENTS : 0.7107400722021661\n",
      "PARENTING : 0.6543321299638989\n",
      "ART_AND_DESIGN : 0.6430505415162455\n",
      "COMICS : 0.6204873646209386\n",
      "BEAUTY : 0.5979241877256317\n"
     ]
    }
   ],
   "source": [
    "display_table(android_eng_free_clean, 1)"
   ]
  },
  {
   "cell_type": "markdown",
   "id": "085099bb",
   "metadata": {},
   "source": [
    "# Pre-lim Report\n",
    "\n",
    "1. What is the most common genre?\n",
    "\n",
    "Apple: Games, Entertainment\n",
    "\n",
    "Google: Family, Game\n",
    "\n",
    "2. Thoughts?\n",
    "Most iOS  apps tend to be entertainment focused rather than serious\n",
    "\n",
    "Google Play Store is mixed, with entertainment having a slight edge\n",
    "\n",
    "3. Reccommendation.\n",
    "Game App\n",
    "\n",
    "4. Questions?\n",
    "Does this amount to a high usercount?\n",
    "\n"
   ]
  },
  {
   "cell_type": "markdown",
   "id": "8aca9db4",
   "metadata": {},
   "source": [
    "# Next Steps:\n",
    "\n",
    "Match usercounts to genres, to find a active and popular genre"
   ]
  },
  {
   "cell_type": "code",
   "execution_count": 21,
   "id": "854f1fcd",
   "metadata": {
    "scrolled": false
   },
   "outputs": [],
   "source": [
    "#ios_eng_free_clean\n",
    "#android_eng_free_clean"
   ]
  },
  {
   "cell_type": "code",
   "execution_count": 22,
   "id": "3b49436c",
   "metadata": {},
   "outputs": [
    {
     "name": "stdout",
     "output_type": "stream",
     "text": [
      "Average Number of Reviews Per Genre iOS: \n",
      "\n",
      "Productivity :  21028.410714285714\n",
      "Weather :  52279.892857142855\n",
      "Shopping :  26919.690476190477\n",
      "Reference :  74942.11111111111\n",
      "Finance :  31467.944444444445\n",
      "Music :  57326.530303030304\n",
      "Utilities :  18684.456790123455\n",
      "Travel :  28243.8\n",
      "Social Networking :  71548.34905660378\n",
      "Sports :  23008.898550724636\n",
      "Health & Fitness :  23298.015384615384\n",
      "Games :  22788.6696905016\n",
      "Food & Drink :  33333.92307692308\n",
      "News :  21248.023255813954\n",
      "Book :  39758.5\n",
      "Photo & Video :  28441.54375\n",
      "Entertainment :  14029.830708661417\n",
      "Business :  7491.117647058823\n",
      "Lifestyle :  16485.764705882353\n",
      "Education :  7003.983050847458\n",
      "Navigation :  86090.33333333333\n",
      "Medical :  612.0\n",
      "Catalogs :  4004.0\n"
     ]
    }
   ],
   "source": [
    "ios_freq = freq_table(ios_eng_free_clean, 12)\n",
    "droid_freq = freq_table(android_eng_free_clean, 1)\n",
    "\n",
    "print(\"Average Number of Reviews Per Genre iOS: \\n\")\n",
    "\n",
    "for genre in ios_freq: #finds a genre in the frequency list\n",
    "    total = 0 #sum of num_user_ratings\n",
    "    apps_per_genre =  0 #number of apps per genre\n",
    "    for app in ios_eng_free_clean: # for each app in our dataset     \n",
    "        genre_app = app[12] #grabs the genre of the app\n",
    "        if genre_app == genre:# checks if the genre matches the one in our freq loop\n",
    "            num_user_rating = float(app[6]) # grab the number of user ratings\n",
    "            total += num_user_rating #update our total\n",
    "            apps_per_genre += 1# add one to our apps_per_genre counter\n",
    "    avg_num_user = total / apps_per_genre #\n",
    "    print(genre, \": \", avg_num_user)\n",
    "\n"
   ]
  },
  {
   "cell_type": "markdown",
   "id": "8fd8c91b",
   "metadata": {},
   "source": [
    "# Initial iOS Recommendation:\n",
    "\n",
    "1. Navigation \n",
    "2. Music App\n",
    "3. Social\n",
    "4. Book\n",
    " \n",
    "This info could be plotted on a graph to find a middle point and to remove outliers."
   ]
  },
  {
   "cell_type": "markdown",
   "id": "32fbf0e3",
   "metadata": {},
   "source": [
    "Our android dataset contains install information\n",
    "\n",
    "information isnt precise but precision isnt needed\n",
    "\n",
    "info is stored as strings"
   ]
  },
  {
   "cell_type": "code",
   "execution_count": 26,
   "id": "4ac9e8f9",
   "metadata": {},
   "outputs": [
    {
     "name": "stdout",
     "output_type": "stream",
     "text": [
      "Average Number of Installs Per Genre Android: \n",
      "\n",
      "ART_AND_DESIGN :  1986335.0877192982\n",
      "AUTO_AND_VEHICLES :  647317.8170731707\n",
      "BEAUTY :  513151.88679245283\n",
      "BOOKS_AND_REFERENCE :  8767811.894736841\n",
      "BUSINESS :  1712290.1474201474\n",
      "COMICS :  817657.2727272727\n",
      "COMMUNICATION :  38456119.167247385\n",
      "DATING :  854028.8303030303\n",
      "EDUCATION :  1833495.145631068\n",
      "ENTERTAINMENT :  11640705.88235294\n",
      "EVENTS :  253542.22222222222\n",
      "FINANCE :  1387692.475609756\n",
      "FOOD_AND_DRINK :  1924897.7363636363\n",
      "HEALTH_AND_FITNESS :  4188821.9853479853\n",
      "HOUSE_AND_HOME :  1331540.5616438356\n",
      "LIBRARIES_AND_DEMO :  638503.734939759\n",
      "LIFESTYLE :  1437816.2687861272\n",
      "GAME :  15588015.603248259\n",
      "FAMILY :  3695641.8198090694\n",
      "MEDICAL :  120550.61980830671\n",
      "SOCIAL :  23253652.127118643\n",
      "SHOPPING :  7036877.311557789\n",
      "PHOTOGRAPHY :  17840110.40229885\n",
      "SPORTS :  3638640.1428571427\n",
      "TRAVEL_AND_LOCAL :  13984077.710144928\n",
      "TOOLS :  10801391.298666667\n",
      "PERSONALIZATION :  5201482.6122448975\n",
      "PRODUCTIVITY :  16787331.344927534\n",
      "PARENTING :  542603.6206896552\n",
      "WEATHER :  5074486.197183099\n",
      "VIDEO_PLAYERS :  24727872.452830188\n",
      "NEWS_AND_MAGAZINES :  9549178.467741935\n",
      "MAPS_AND_NAVIGATION :  4056941.7741935486\n"
     ]
    }
   ],
   "source": [
    "#droid_freq\n",
    "#android_eng_free_clean\n",
    "\n",
    "#relist headers to find index\n",
    "#for header in dataset_droid_h:\n",
    "#    print(header)\n",
    "\n",
    "print(\"Average Number of Installs Per Genre Android: \\n\")\n",
    "for category in droid_freq:\n",
    "    total_installs = 0\n",
    "    apps_per_genre = 0\n",
    "    for app in android_eng_free_clean:\n",
    "        app_category = app[1]\n",
    "        #print(category, app[1])\n",
    "        if app_category == category:\n",
    "            installs = app[5]\n",
    "            installs = installs.replace(\"+\",\"\")\n",
    "            installs = installs.replace(\",\",\"\")\n",
    "            installs = float(installs)\n",
    "           \n",
    "            total_installs += installs\n",
    "            apps_per_genre += 1\n",
    "    avg_num_installs = total_installs / apps_per_genre\n",
    "    print(category,\": \",avg_num_installs)"
   ]
  },
  {
   "cell_type": "markdown",
   "id": "9e0294e1",
   "metadata": {},
   "source": [
    "# Initial Android Recommendation:\n",
    "\n",
    "1. COMMUNICATION \n",
    "2. SOCIAL\n",
    "3. ENTERTAINMENT\n",
    "4. SPORTS\n",
    " \n",
    "This info could be plotted on a graph to find a middle point and to remove outliers."
   ]
  }
 ],
 "metadata": {
  "kernelspec": {
   "display_name": "Python 3 (ipykernel)",
   "language": "python",
   "name": "python3"
  },
  "language_info": {
   "codemirror_mode": {
    "name": "ipython",
    "version": 3
   },
   "file_extension": ".py",
   "mimetype": "text/x-python",
   "name": "python",
   "nbconvert_exporter": "python",
   "pygments_lexer": "ipython3",
   "version": "3.9.5"
  }
 },
 "nbformat": 4,
 "nbformat_minor": 5
}
