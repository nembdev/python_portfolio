{
 "cells": [
  {
   "cell_type": "markdown",
   "id": "e8d7c4c9",
   "metadata": {},
   "source": [
    "# An introduction to using NumPy for Fast Data Manipulation\n",
    "\n",
    "This Dataset contains around 90,000 yellow taxi trips taken to and from New York City airports between January and June 2016.\n",
    " \n"
   ]
  },
  {
   "cell_type": "code",
   "execution_count": 1,
   "id": "a614bdcf",
   "metadata": {},
   "outputs": [],
   "source": [
    "# importing needed libraries\n",
    "# import pandas as pd\n",
    "import csv\n",
    "import numpy as np"
   ]
  },
  {
   "cell_type": "code",
   "execution_count": 2,
   "id": "fa24bf13",
   "metadata": {},
   "outputs": [],
   "source": [
    "o_file = open(\"nyc_taxis.csv\", \"r\")  # open for reading (default)\n",
    "r_file = csv.reader(o_file)\n",
    "dataset = list(r_file)\n",
    "dataset_f = dataset\n",
    "dataset_h = dataset[0]  # grab header\n",
    "dataset = dataset[1:]  # remove header"
   ]
  },
  {
   "cell_type": "code",
   "execution_count": 3,
   "id": "6e4d734c",
   "metadata": {},
   "outputs": [
    {
     "name": "stdout",
     "output_type": "stream",
     "text": [
      "['pickup_year', 'pickup_month', 'pickup_day', 'pickup_dayofweek', 'pickup_time', 'pickup_location_code', 'dropoff_location_code', 'trip_distance', 'trip_length', 'fare_amount', 'fees_amount', 'tolls_amount', 'tip_amount', 'total_amount', 'payment_type']\n"
     ]
    }
   ],
   "source": [
    "# How is the data labeled?\n",
    "print(dataset_h)"
   ]
  },
  {
   "cell_type": "markdown",
   "id": "b88f5bbc",
   "metadata": {},
   "source": [
    "## Column Meanings\n",
    "\n",
    "pickup_year: the year of the trip\n",
    "\n",
    "pickup_month: the month of the trip (January is 1, December is 12)\n",
    "\n",
    "pickup_day: the day of the month of the trip\n",
    "\n",
    "pickup_location_code: the airport or borough where the trip started\n",
    "\n",
    "dropoff_location_code: the airport or borough where the trip ended\n",
    "\n",
    "trip_distance: the distance of the trip in miles\n",
    "\n",
    "trip_length: the length of the trip in seconds\n",
    "\n",
    "fare_amount: the base fare of the trip, in dollars\n",
    "\n",
    "total_amount: the total amount charged to the passenger, including all \n",
    "fees, tolls and tips\n"
   ]
  },
  {
   "cell_type": "markdown",
   "id": "ae9638a4",
   "metadata": {},
   "source": [
    "## Changing all values to floats\n",
    "\n",
    "Numpy only works with one datatype at a time"
   ]
  },
  {
   "cell_type": "code",
   "execution_count": 4,
   "id": "34536cfa",
   "metadata": {},
   "outputs": [],
   "source": [
    "dataset_floats = []  # dataset with all datas as floats\n",
    "\n",
    "# converts to floats\n",
    "for data in dataset:  # grab each row\n",
    "    data_rows = []  # hold row item values\n",
    "    for item in data:\n",
    "        data_rows.append(float(item))  # convert each item to float\n",
    "    dataset_floats.append(data_rows)  # append new values to new list"
   ]
  },
  {
   "cell_type": "markdown",
   "id": "afd1bd60",
   "metadata": {},
   "source": [
    "## Using NumPy to convert lists to ndarrays"
   ]
  },
  {
   "cell_type": "code",
   "execution_count": 5,
   "id": "10e70c5f",
   "metadata": {},
   "outputs": [
    {
     "name": "stdout",
     "output_type": "stream",
     "text": [
      "First Row:\n",
      " [2016.0 1.0 1.0 5.0 0.0 2.0 4.0 21.0 2037.0 52.0 0.8 5.54 11.65 69.99 1.0] \n",
      "\n",
      "This Array has 2013 rows and 15 columns\n"
     ]
    }
   ],
   "source": [
    "# dtype for better formating\n",
    "taxi_array = np.array(dataset_floats, dtype=object)\n",
    "\n",
    "# check first row\n",
    "print(\"First Row:\\n\", taxi_array[0], \"\\n\")\n",
    "\n",
    "# gathering info\n",
    "taxi_shape = taxi_array.shape\n",
    "print(\n",
    "    \"This Array has {} rows and {} columns\".format(taxi_shape[0], taxi_shape[1])\n",
    ")  # 2013 rows, 15 cols"
   ]
  },
  {
   "cell_type": "markdown",
   "id": "8ece11cd",
   "metadata": {},
   "source": [
    "## What kind of information can we gather from this dataset?\n",
    "\n",
    "\n",
    "1. We can find the **average travel speed** using the trip distance, length and vector math"
   ]
  },
  {
   "cell_type": "code",
   "execution_count": 6,
   "id": "f7003372",
   "metadata": {},
   "outputs": [
    {
     "name": "stdout",
     "output_type": "stream",
     "text": [
      "Needed Columns -  7 trip_distance 8 trip_length \n",
      "\n",
      "Trip Distance in miles:  21.0 \n",
      "\n",
      "Trip Length in seconds:  2037.0 \n",
      "\n",
      "[37.11340206185567 38.58157894736842 31.27222982216142 ...\n",
      " 22.299078667611624 42.41551246537396 36.904734073641144]\n"
     ]
    }
   ],
   "source": [
    "# speed = distance / time\n",
    "\n",
    "print(\"Needed Columns - \", \"7\", dataset_h[7], \"8\", dataset_h[8], \"\\n\")\n",
    "print(\"Trip Distance in miles: \", taxi_array[0][7], \"\\n\")  # example trip distance\n",
    "print(\"Trip Length in seconds: \", taxi_array[0][8], \"\\n\")  # example trip length\n",
    "\n",
    "# convert seconds to hours, 3600 seconds in an hour\n",
    "trip_length_hours = taxi_array[:, 8] / 3600\n",
    "\n",
    "\n",
    "taxi_mph = taxi_array[:, 7] / trip_length_hours\n",
    "\n",
    "# check output\n",
    "print(taxi_mph)"
   ]
  },
  {
   "cell_type": "markdown",
   "id": "7bea7228",
   "metadata": {},
   "source": [
    "## Using ndarray.min and ndarray.max\n",
    "\n",
    "Now that we know the mph, we can gather further information such as: the **max, min, and mean mph**"
   ]
  },
  {
   "cell_type": "code",
   "execution_count": 7,
   "id": "ab0c8729",
   "metadata": {},
   "outputs": [
    {
     "data": {
      "text/plain": [
       "'The slowest taxi ride was 0.0 mph, the fastest was 82800.0 mph, and the average mph of a trip was 169.98315083655177'"
      ]
     },
     "execution_count": 7,
     "metadata": {},
     "output_type": "execute_result"
    }
   ],
   "source": [
    "taxi_max = taxi_mph.max()\n",
    "taxi_min = taxi_mph.min()\n",
    "taxi_mean = taxi_mph.mean()\n",
    "\n",
    "\"The slowest taxi ride was {} mph, the fastest was {} mph, and the average mph of a trip was {}\".format(\n",
    "    taxi_min, taxi_max, taxi_mean\n",
    ")"
   ]
  },
  {
   "cell_type": "markdown",
   "id": "fc0e0dab",
   "metadata": {},
   "source": [
    "# Observations\n",
    "\n",
    "Our top mph at 82.8k suggests an error in the dataset.\n",
    "\n",
    "Most likely a recording malfunction. \n",
    "\n",
    "Filtering for outliers/impossible speeds might return better results\n",
    "\n",
    "## Next Steps\n",
    "\n",
    "Using Boolean Vectors we can find the **total taxi rides per month**"
   ]
  },
  {
   "cell_type": "code",
   "execution_count": 8,
   "id": "cbca9179",
   "metadata": {},
   "outputs": [
    {
     "name": "stdout",
     "output_type": "stream",
     "text": [
      "There were a total of 800 rides in the month of January\n"
     ]
    }
   ],
   "source": [
    "# taxi_array\n",
    "# months are stored as 1-12\n",
    "# print(taxi_array[0, 1])\n",
    "\n",
    "# Month = col 2\n",
    "month = \"January\"\n",
    "taxi_month_col = taxi_array[:, 1]\n",
    "\n",
    "# what month to grab?\n",
    "filter = taxi_month_col == 1\n",
    "january_rides = taxi_month_col[filter]\n",
    "# print(january_rides)\n",
    "\n",
    "# sum january rides\n",
    "# grabs the x value\n",
    "print(\n",
    "    \"There were a total of {} rides in the month of {}\".format(\n",
    "        january_rides.shape[0], month\n",
    "    )\n",
    ")"
   ]
  },
  {
   "cell_type": "code",
   "execution_count": 9,
   "id": "3de71865",
   "metadata": {
    "code_folding": [
     0
    ]
   },
   "outputs": [],
   "source": [
    "def get_monthly_rides(num=None):\n",
    "    \"\"\"\n",
    "    returns a frequency table containing rides per month\n",
    "    num is a optional arg that returns just that months number\n",
    "    \"\"\"\n",
    "    monthly_rides = {}\n",
    "\n",
    "    for i in taxi_array[:, 1]:\n",
    "        # print(i)\n",
    "        month = str(i)\n",
    "        if month not in monthly_rides:\n",
    "\n",
    "            # grab the col\n",
    "            taxi_month_col = taxi_array[:, 1]\n",
    "\n",
    "            # filter by number\n",
    "            filter = taxi_month_col == i\n",
    "            monthly_rides[month] = 1\n",
    "        else:\n",
    "            monthly_rides[month] += 1\n",
    "    if num != None:\n",
    "        selected_month = str(num) + \".0\"\n",
    "\n",
    "        if selected_month not in monthly_rides:\n",
    "            return \"Month not found.\"\n",
    "        return monthly_rides[selected_month]\n",
    "    else:\n",
    "        return monthly_rides"
   ]
  },
  {
   "cell_type": "code",
   "execution_count": 10,
   "id": "2160ca0b",
   "metadata": {},
   "outputs": [
    {
     "name": "stdout",
     "output_type": "stream",
     "text": [
      "{'1.0': 800, '2.0': 176, '3.0': 554, '4.0': 171, '6.0': 312}\n",
      "800\n"
     ]
    }
   ],
   "source": [
    "print(get_monthly_rides())\n",
    "print(get_monthly_rides(num=1))"
   ]
  },
  {
   "cell_type": "code",
   "execution_count": 11,
   "id": "ada0feeb",
   "metadata": {},
   "outputs": [
    {
     "name": "stdout",
     "output_type": "stream",
     "text": [
      "Counter({1.0: 800, 3.0: 554, 6.0: 312, 2.0: 176, 4.0: 171})\n"
     ]
    }
   ],
   "source": [
    "# https://docs.python.org/3/library/collections.html\n",
    "# Counter dict subclass for counting hashable objects\n",
    "# Using a module to accomplish the above function in one line\n",
    "from collections import Counter\n",
    "\n",
    "print(Counter(taxi_array[:, 1]))"
   ]
  },
  {
   "cell_type": "markdown",
   "id": "90a240b6",
   "metadata": {},
   "source": [
    "# Observations cont.\n",
    "\n",
    "We can see that January saw the most significant amount of taxi rides.\n",
    "\n",
    "March comes in a close second.\n",
    "\n",
    "## Next Steps\n",
    "\n",
    "Using boolean vectors to\n",
    "1. sort/filter an entire array\n",
    "2. find errors in our dataset\n",
    "3. sort rides by dropoff location"
   ]
  },
  {
   "cell_type": "markdown",
   "id": "a46e7df0",
   "metadata": {},
   "source": [
    "# Filtering an ndarray using Boolean Vectors"
   ]
  },
  {
   "cell_type": "code",
   "execution_count": 12,
   "id": "4589094f",
   "metadata": {},
   "outputs": [
    {
     "name": "stdout",
     "output_type": "stream",
     "text": [
      "['trip_distance', 'trip_length'] \n",
      "\n",
      "[[16.9 33.0]\n",
      " [23.0 1.0]\n",
      " [19.6 1.0]\n",
      " [16.7 2.0]\n",
      " [17.8 2.0]\n",
      " [17.2 2.0]\n",
      " [16.9 3.0]\n",
      " [27.1 4.0]]\n"
     ]
    }
   ],
   "source": [
    "# sort and filter example\n",
    "# tax_mph contains average travel speed for each row\n",
    "# print(taxi_mph)\n",
    "\n",
    "# if the speed is over 500 mph\n",
    "# set that row to True\n",
    "mph_filter = taxi_mph > 500\n",
    "# print(mph_filter)\n",
    "\n",
    "# if this row is True, gran cols 5-9\n",
    "print(dataset_h[7:9], \"\\n\")\n",
    "print(taxi_array[mph_filter, 7:9])"
   ]
  },
  {
   "cell_type": "markdown",
   "id": "fff419bc",
   "metadata": {},
   "source": [
    "# Dataset Errors uncovered\n",
    "\n",
    "Here we find **8** examples where the average speed was **over 500 mph**.\n",
    "\n",
    "Many of these have a short distance of **less than 25 miles**, and trip lengths of **under 5 seconds**.\n",
    "\n",
    "Removing these from our dataset would help us ensure accurate information down the line.\n",
    "\n",
    "## Next Steps\n",
    "\n",
    "We will use boolean indexing to **remove** the found errors"
   ]
  },
  {
   "cell_type": "code",
   "execution_count": 13,
   "id": "ed5c5294",
   "metadata": {},
   "outputs": [
    {
     "name": "stdout",
     "output_type": "stream",
     "text": [
      "Original Size:  2013\n",
      "New Size:  2004\n",
      "Removed:  9\n"
     ]
    }
   ],
   "source": [
    "# short hand mph, reused taxi_mph\n",
    "taxi_mph = taxi_array[:, 7] / (taxi_array[:, 8] / 3600)\n",
    "\n",
    "# filtered by speeds over 100 mph\n",
    "cleaned_taxi = taxi_array[taxi_mph < 100]\n",
    "\n",
    "# how many did we remove?\n",
    "print(\"Original Size: \", taxi_array.shape[0])\n",
    "print(\"New Size: \", cleaned_taxi.shape[0])\n",
    "print(\"Removed: \", taxi_array.shape[0] - cleaned_taxi.shape[0])"
   ]
  },
  {
   "cell_type": "markdown",
   "id": "636f998c",
   "metadata": {},
   "source": [
    "# Pulling additional information out of our cleaned dataset\n",
    "\n",
    "Using the dropoff_location_code(column 6)\n",
    "\n",
    "We can find out **how many rides were taken to specific locations**"
   ]
  },
  {
   "cell_type": "code",
   "execution_count": 14,
   "id": "9f1d59d0",
   "metadata": {},
   "outputs": [
    {
     "name": "stdout",
     "output_type": "stream",
     "text": [
      "There were 285 rides to JFK Airport\n",
      "There were 308 rides to LaGuardia Airport\n",
      "There were 2 rides to Newark Airport\n"
     ]
    }
   ],
   "source": [
    "# take every col in taxi_array that is equal to x\n",
    "# filter taxi_array with that bool vector\n",
    "jfk = taxi_array[taxi_array[:, 6] == 2]\n",
    "laguardia = taxi_array[taxi_array[:, 6] == 3, 6]\n",
    "newark = taxi_array[taxi_array[:, 6] == 5, 6]\n",
    "\n",
    "# show the sizes\n",
    "jfk_count = jfk.shape[0]\n",
    "laguardia_count = laguardia.shape[0]\n",
    "newark_count = newark.shape[0]\n",
    "\n",
    "print(\"There were {} rides to JFK Airport\".format(jfk_count))\n",
    "print(\"There were {} rides to LaGuardia Airport\".format(laguardia_count))\n",
    "print(\"There were {} rides to Newark Airport\".format(newark_count))"
   ]
  },
  {
   "cell_type": "markdown",
   "id": "65a0555d",
   "metadata": {},
   "source": [
    "# Conclusions\n",
    "\n",
    "Using NumPy we were able to:\n",
    "1. Efficiently manipulate n-dimensional arrays\n",
    "2. Filter our dataset using booleans\n",
    "3. Find and remove errors\n",
    "4. Gather information and insights from clean data"
   ]
  }
 ],
 "metadata": {
  "kernelspec": {
   "display_name": "Python 3 (ipykernel)",
   "language": "python",
   "name": "python3"
  },
  "language_info": {
   "codemirror_mode": {
    "name": "ipython",
    "version": 3
   },
   "file_extension": ".py",
   "mimetype": "text/x-python",
   "name": "python",
   "nbconvert_exporter": "python",
   "pygments_lexer": "ipython3",
   "version": "3.8.10"
  }
 },
 "nbformat": 4,
 "nbformat_minor": 5
}
