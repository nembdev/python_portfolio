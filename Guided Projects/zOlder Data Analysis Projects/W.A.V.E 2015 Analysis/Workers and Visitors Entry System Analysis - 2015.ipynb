{
 "cells": [
  {
   "cell_type": "markdown",
   "id": "23005c2f",
   "metadata": {},
   "source": [
    "# W.A.VE Analysis - 2015\n",
    "\n",
    "Background: Lorem ipsum dolor sit amet, consectetur adipiscing elit\n",
    "\n",
    "Question: Lorem ipsum dolor sit amet, consectetur adipiscing elit\n",
    "\n",
    "Analysis Goal: Lorem ipsum dolor sit amet, consectetur adipiscing elit\n",
    "\n",
    "\n",
    "In order to accomplosh this, we will analyze records from the whitehouse's Workers and Visitors Entry System.\n",
    "\n",
    "Dataset: potus_visitors_2015.csv\n",
    "[Mod. Source](https://dsserver-prod-resources-1.s3.amazonaws.com/353/potus_visitors_2015.csv?versionId=AeH4y2JyRaYVNrWPsQMVZiSsB4ULQoAG)\n",
    "\n",
    "[Org. Source](https://obamawhitehouse.archives.gov/briefing-room/disclosures/visitor-records)"
   ]
  },
  {
   "cell_type": "markdown",
   "id": "3bbecdbb",
   "metadata": {},
   "source": [
    "# Importing the dataset"
   ]
  },
  {
   "cell_type": "code",
   "execution_count": 1,
   "id": "44ed4e87",
   "metadata": {},
   "outputs": [],
   "source": [
    "import datetime as dt\n",
    "from csv import reader\n",
    "\n",
    "o_file = open(\"potus_visitors_2015.csv\")\n",
    "r_file = reader(o_file)\n",
    "potus = list(r_file)\n",
    "potus_h = potus[0]\n",
    "potus = potus[1:]"
   ]
  },
  {
   "cell_type": "code",
   "execution_count": 2,
   "id": "681990c3",
   "metadata": {},
   "outputs": [
    {
     "name": "stdout",
     "output_type": "stream",
     "text": [
      "['name', 'appt_made_date', 'appt_start_date', 'appt_end_date', 'visitee_namelast', 'visitee_namefirst', 'meeting_room', 'description'] \n",
      "\n",
      "[['Joshua T. Blanton', '2014-12-18T00:00:00', '1/6/15 9:30', '1/6/15 23:59', '', 'potus', 'west wing', 'JointService Military Honor Guard'], ['Jack T. Gutting', '2014-12-18T00:00:00', '1/6/15 9:30', '1/6/15 23:59', '', 'potus', 'west wing', 'JointService Military Honor Guard'], ['Bradley T. Guiles', '2014-12-18T00:00:00', '1/6/15 9:30', '1/6/15 23:59', '', 'potus', 'west wing', 'JointService Military Honor Guard']]\n"
     ]
    }
   ],
   "source": [
    "print(potus_h, \"\\n\")\n",
    "print(potus[0:3])"
   ]
  },
  {
   "cell_type": "markdown",
   "id": "374b627a",
   "metadata": {},
   "source": [
    "# Converting appt dates using strptime()"
   ]
  },
  {
   "cell_type": "code",
   "execution_count": 3,
   "id": "31f302a9",
   "metadata": {},
   "outputs": [],
   "source": [
    "# appt_start_date: 1/6/15 9:30\n",
    "\n",
    "date_format = \"%m/%d/%y %H:%M\"\n",
    "for appt in potus:\n",
    "    start_date = appt[2]\n",
    "    start_date = dt.datetime.strptime(start_date, date_format)\n",
    "    # print(start_date)\n",
    "    appt[2] = start_date"
   ]
  },
  {
   "cell_type": "markdown",
   "id": "f8b9e327",
   "metadata": {},
   "source": [
    "# Finding Visitors Per Month\n",
    "\n",
    "A Formatted Frequency Table using strftime()"
   ]
  },
  {
   "cell_type": "code",
   "execution_count": 4,
   "id": "0fe3ea1c",
   "metadata": {},
   "outputs": [
    {
     "name": "stdout",
     "output_type": "stream",
     "text": [
      "{'January, 2015': 1248, 'February, 2015': 2165, 'March, 2015': 2262, 'April, 2015': 4996, 'May, 2015': 3013, 'June, 2015': 7743, 'July, 2015': 2930, 'August, 2015': 1350, 'September, 2015': 4416, 'October, 2015': 3669, 'November, 2015': 1133, 'December, 2015': 13029}\n"
     ]
    }
   ],
   "source": [
    "visitors_per_month = {}\n",
    "\n",
    "for appt in potus:\n",
    "    # Month, Year\n",
    "    format_date = dt.datetime.strftime(appt[2], \"%B, %Y\")\n",
    "    if format_date in visitors_per_month:\n",
    "        visitors_per_month[format_date] += 1\n",
    "    else:\n",
    "        visitors_per_month[format_date] = 1\n",
    "\n",
    "print(visitors_per_month)"
   ]
  },
  {
   "cell_type": "markdown",
   "id": "2a52900e",
   "metadata": {},
   "source": [
    "# Extracting Appointment TImes"
   ]
  },
  {
   "cell_type": "code",
   "execution_count": 5,
   "id": "99d48eeb",
   "metadata": {
    "scrolled": false
   },
   "outputs": [],
   "source": [
    "# holds appt times only\n",
    "appt_times = []\n",
    "\n",
    "for appt in potus:\n",
    "    # find an appt\n",
    "    appt_dt = appt[2]\n",
    "    # grab the time values only\n",
    "    appt_dt = appt_dt.time()\n",
    "    # print(appt_dt)\n",
    "    appt_times.append(appt_dt)\n",
    "\n",
    "# find the earliest and latest appointments\n",
    "min_time = min(appt_times)\n",
    "max_time = max(appt_times)"
   ]
  },
  {
   "cell_type": "markdown",
   "id": "310281f0",
   "metadata": {},
   "source": [
    "# Finding the lengths of meetings\n",
    "\n",
    "Method: End time - Start time\n",
    "\n",
    "Goal:\n",
    "\n",
    "* Frequency Table\n",
    "* Min and Max meeting times"
   ]
  },
  {
   "cell_type": "code",
   "execution_count": 6,
   "id": "48608d4d",
   "metadata": {},
   "outputs": [
    {
     "name": "stdout",
     "output_type": "stream",
     "text": [
      "['Joshua T. Blanton', '2014-12-18T00:00:00', datetime.datetime(2015, 1, 6, 9, 30), '1/6/15 23:59', '', 'potus', 'west wing', 'JointService Military Honor Guard']\n"
     ]
    }
   ],
   "source": [
    "# recheck dataset\n",
    "print(potus[0])\n",
    "\n",
    "# format for start & end dates\n",
    "# datetime.datetime(2015, 1, 6, 9, 30)\n",
    "\n",
    "# converts appt_end_date to datetime objects\n",
    "for row in potus:\n",
    "    end_date = row[3]\n",
    "    end_date = dt.datetime.strptime(end_date, \"%m/%d/%y %H:%M\")\n",
    "    row[3] = end_date"
   ]
  },
  {
   "cell_type": "code",
   "execution_count": 8,
   "id": "d6f49025",
   "metadata": {},
   "outputs": [],
   "source": [
    "# freq table\n",
    "appt_lengths = {}\n",
    "\n",
    "for appt in potus:\n",
    "    appt_length = appt[3] - appt[2]\n",
    "    if appt_length in appt_lengths:\n",
    "        appt_lengths[appt_length] += 1\n",
    "    else:\n",
    "        appt_lengths[appt_length] = 1\n",
    "\n",
    "min_length = min(appt_lengths)\n",
    "max_length = max(appt_lengths)\n",
    "\n",
    "# print(appt_lengths)\n",
    "# needs better formatting"
   ]
  },
  {
   "cell_type": "markdown",
   "id": "ef8896bc",
   "metadata": {},
   "source": [
    "# Conclusion:\n",
    "\n",
    "We were able to find and extract: \n",
    "1. Visitors Per Month\n",
    "2. Appointment Times\n",
    "3. Lengths of meetings"
   ]
  }
 ],
 "metadata": {
  "kernelspec": {
   "display_name": "Python 3 (ipykernel)",
   "language": "python",
   "name": "python3"
  },
  "language_info": {
   "codemirror_mode": {
    "name": "ipython",
    "version": 3
   },
   "file_extension": ".py",
   "mimetype": "text/x-python",
   "name": "python",
   "nbconvert_exporter": "python",
   "pygments_lexer": "ipython3",
   "version": "3.9.5"
  }
 },
 "nbformat": 4,
 "nbformat_minor": 5
}
